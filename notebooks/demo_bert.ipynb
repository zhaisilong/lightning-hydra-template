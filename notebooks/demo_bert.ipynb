{
 "cells": [
  {
   "cell_type": "code",
   "execution_count": 1,
   "outputs": [],
   "source": [
    "import numpy as np\n",
    "import pandas as pd\n",
    "from pathlib import Path\n",
    "\n",
    "import os\n",
    "import random\n",
    "\n",
    "from sklearn.model_selection import train_test_split\n",
    "\n",
    "import torch\n",
    "import torch.nn as nn\n",
    "import torch.optim as optim\n",
    "from torch.utils.data import Dataset, DataLoader\n",
    "\n",
    "from collections import Counter\n",
    "from transformers import BertForQuestionAnswering\n",
    "from transformers import BertTokenizer\n",
    "\n",
    "import pytorch_lightning as pl\n",
    "\n",
    "from tqdm import tqdm_notebook as tqdm"
   ],
   "metadata": {
    "collapsed": false,
    "pycharm": {
     "name": "#%%\n"
    }
   }
  },
  {
   "cell_type": "code",
   "execution_count": 2,
   "outputs": [],
   "source": [
    "def seed_everything(seed=1234):\n",
    "    random.seed(seed)\n",
    "    os.environ['PYTHONHASHSEED'] = str(seed)\n",
    "    np.random.seed(seed)\n",
    "    torch.manual_seed(seed)\n",
    "    torch.cuda.manual_seed(seed)\n",
    "    torch.backends.cudnn.deterministic = True\n",
    "seed_everything()"
   ],
   "metadata": {
    "collapsed": false,
    "pycharm": {
     "name": "#%%\n"
    }
   }
  },
  {
   "cell_type": "code",
   "execution_count": 3,
   "outputs": [],
   "source": [
    "DIR = Path('../data/tweet-sentiment-extraction')\n",
    "df_train = pd.read_csv(DIR / 'train.csv')\n",
    "df_test = pd.read_csv(DIR / 'test.csv')"
   ],
   "metadata": {
    "collapsed": false,
    "pycharm": {
     "name": "#%%\n"
    }
   }
  },
  {
   "cell_type": "code",
   "execution_count": 4,
   "outputs": [],
   "source": [
    "df_train['text'] = df_train['text'].apply(lambda x: str(x))\n",
    "df_test['text'] = df_test['text'].apply(lambda x: str(x))\n",
    "df_train['uncased_text'] = df_train['text'].apply(lambda x: x.lower())\n",
    "df_test['uncased_text'] = df_test['text'].apply(lambda x: x.lower())\n",
    "df_train['selected_text'] = df_train['selected_text'].apply(lambda x: str(x).lower())"
   ],
   "metadata": {
    "collapsed": false,
    "pycharm": {
     "name": "#%%\n"
    }
   }
  },
  {
   "cell_type": "code",
   "execution_count": 6,
   "outputs": [],
   "source": [
    "tokenizer = BertTokenizer.from_pretrained(DIR / 'berttokenizer-base-uncased')"
   ],
   "metadata": {
    "collapsed": false,
    "pycharm": {
     "name": "#%%\n"
    }
   }
  },
  {
   "cell_type": "code",
   "execution_count": 7,
   "outputs": [],
   "source": [
    "# Tokenize\n",
    "df_train['tokenized_text'] = df_train['uncased_text'].apply(tokenizer.tokenize)\n",
    "df_test['tokenized_text'] = df_test['uncased_text'].apply(tokenizer.tokenize)\n",
    "df_train['tokenized_selected_text'] = df_train['selected_text'].apply(tokenizer.tokenize)"
   ],
   "metadata": {
    "collapsed": false,
    "pycharm": {
     "name": "#%%\n"
    }
   }
  },
  {
   "cell_type": "code",
   "execution_count": 8,
   "outputs": [
    {
     "data": {
      "text/plain": "       textID                                               text  \\\n0  cb774db0d1                I`d have responded, if I were going   \n1  549e992a42      Sooo SAD I will miss you here in San Diego!!!   \n2  088c60f138                          my boss is bullying me...   \n3  9642c003ef                     what interview! leave me alone   \n4  358bd9e861   Sons of ****, why couldn`t they put them on t...   \n\n                         selected_text sentiment  \\\n0  i`d have responded, if i were going   neutral   \n1                             sooo sad  negative   \n2                          bullying me  negative   \n3                       leave me alone  negative   \n4                        sons of ****,  negative   \n\n                                        uncased_text  \\\n0                i`d have responded, if i were going   \n1      sooo sad i will miss you here in san diego!!!   \n2                          my boss is bullying me...   \n3                     what interview! leave me alone   \n4   sons of ****, why couldn`t they put them on t...   \n\n                                      tokenized_text  \\\n0  [i, `, d, have, responded, ,, if, i, were, going]   \n1  [soo, ##o, sad, i, will, miss, you, here, in, ...   \n2              [my, boss, is, bullying, me, ., ., .]   \n3             [what, interview, !, leave, me, alone]   \n4  [sons, of, *, *, *, *, ,, why, couldn, `, t, t...   \n\n                             tokenized_selected_text  \n0  [i, `, d, have, responded, ,, if, i, were, going]  \n1                                    [soo, ##o, sad]  \n2                                     [bullying, me]  \n3                                 [leave, me, alone]  \n4                          [sons, of, *, *, *, *, ,]  ",
      "text/html": "<div>\n<style scoped>\n    .dataframe tbody tr th:only-of-type {\n        vertical-align: middle;\n    }\n\n    .dataframe tbody tr th {\n        vertical-align: top;\n    }\n\n    .dataframe thead th {\n        text-align: right;\n    }\n</style>\n<table border=\"1\" class=\"dataframe\">\n  <thead>\n    <tr style=\"text-align: right;\">\n      <th></th>\n      <th>textID</th>\n      <th>text</th>\n      <th>selected_text</th>\n      <th>sentiment</th>\n      <th>uncased_text</th>\n      <th>tokenized_text</th>\n      <th>tokenized_selected_text</th>\n    </tr>\n  </thead>\n  <tbody>\n    <tr>\n      <th>0</th>\n      <td>cb774db0d1</td>\n      <td>I`d have responded, if I were going</td>\n      <td>i`d have responded, if i were going</td>\n      <td>neutral</td>\n      <td>i`d have responded, if i were going</td>\n      <td>[i, `, d, have, responded, ,, if, i, were, going]</td>\n      <td>[i, `, d, have, responded, ,, if, i, were, going]</td>\n    </tr>\n    <tr>\n      <th>1</th>\n      <td>549e992a42</td>\n      <td>Sooo SAD I will miss you here in San Diego!!!</td>\n      <td>sooo sad</td>\n      <td>negative</td>\n      <td>sooo sad i will miss you here in san diego!!!</td>\n      <td>[soo, ##o, sad, i, will, miss, you, here, in, ...</td>\n      <td>[soo, ##o, sad]</td>\n    </tr>\n    <tr>\n      <th>2</th>\n      <td>088c60f138</td>\n      <td>my boss is bullying me...</td>\n      <td>bullying me</td>\n      <td>negative</td>\n      <td>my boss is bullying me...</td>\n      <td>[my, boss, is, bullying, me, ., ., .]</td>\n      <td>[bullying, me]</td>\n    </tr>\n    <tr>\n      <th>3</th>\n      <td>9642c003ef</td>\n      <td>what interview! leave me alone</td>\n      <td>leave me alone</td>\n      <td>negative</td>\n      <td>what interview! leave me alone</td>\n      <td>[what, interview, !, leave, me, alone]</td>\n      <td>[leave, me, alone]</td>\n    </tr>\n    <tr>\n      <th>4</th>\n      <td>358bd9e861</td>\n      <td>Sons of ****, why couldn`t they put them on t...</td>\n      <td>sons of ****,</td>\n      <td>negative</td>\n      <td>sons of ****, why couldn`t they put them on t...</td>\n      <td>[sons, of, *, *, *, *, ,, why, couldn, `, t, t...</td>\n      <td>[sons, of, *, *, *, *, ,]</td>\n    </tr>\n  </tbody>\n</table>\n</div>"
     },
     "execution_count": 8,
     "metadata": {},
     "output_type": "execute_result"
    }
   ],
   "source": [
    "df_train.head()"
   ],
   "metadata": {
    "collapsed": false,
    "pycharm": {
     "name": "#%%\n"
    }
   }
  },
  {
   "cell_type": "code",
   "execution_count": 9,
   "outputs": [
    {
     "name": "stderr",
     "output_type": "stream",
     "text": [
      "/tmp/ipykernel_1487280/3689495213.py:6: TqdmDeprecationWarning: This function will be removed in tqdm==5.0.0\n",
      "Please use `tqdm.notebook.tqdm` instead of `tqdm.tqdm_notebook`\n",
      "  for i in tqdm(range(len(df_train))):\n"
     ]
    },
    {
     "data": {
      "text/plain": "  0%|          | 0/27481 [00:00<?, ?it/s]",
      "application/vnd.jupyter.widget-view+json": {
       "version_major": 2,
       "version_minor": 0,
       "model_id": "81ab9c4435ef400690c409ba173c225d"
      }
     },
     "metadata": {},
     "output_type": "display_data"
    }
   ],
   "source": [
    "# Filter train data\n",
    "start_position_candidates = []\n",
    "end_position_candidates = []\n",
    "df_train['select_length'] = df_train['tokenized_selected_text'].map(len)\n",
    "\n",
    "for i in tqdm(range(len(df_train))):\n",
    "    start_position_candidate = [j for j, tok in enumerate(df_train['tokenized_text'].iloc[i]) if tok == df_train['tokenized_selected_text'].iloc[i][0]]\n",
    "    end_position_candidate = [j for j, tok in enumerate(df_train['tokenized_text'].iloc[i]) if tok == df_train['tokenized_selected_text'].iloc[i][-1]]\n",
    "\n",
    "    start_position_candidate = [idx for idx in start_position_candidate if idx + df_train['select_length'].iloc[i] - 1 in end_position_candidate]\n",
    "    end_position_candidate = [idx for idx in end_position_candidate if idx - df_train['select_length'].iloc[i] + 1 in start_position_candidate]\n",
    "\n",
    "    start_position_candidates.append(start_position_candidate)\n",
    "    end_position_candidates.append(end_position_candidate)"
   ],
   "metadata": {
    "collapsed": false,
    "pycharm": {
     "name": "#%%\n"
    }
   }
  },
  {
   "cell_type": "code",
   "execution_count": 10,
   "outputs": [],
   "source": [
    "start_position_candidates = [l[0] if len(l) > 0 else -1 for l in start_position_candidates]\n",
    "end_position_candidates = [l[0] if len(l) > 0 else -1 for l in end_position_candidates]"
   ],
   "metadata": {
    "collapsed": false,
    "pycharm": {
     "name": "#%%\n"
    }
   }
  },
  {
   "cell_type": "code",
   "execution_count": 11,
   "outputs": [],
   "source": [
    "df_train['start_position'] = start_position_candidates\n",
    "df_train['end_position'] = end_position_candidates\n",
    "df_test['start_position'] = -1\n",
    "df_test['end_position'] = -1"
   ],
   "metadata": {
    "collapsed": false,
    "pycharm": {
     "name": "#%%\n"
    }
   }
  },
  {
   "cell_type": "code",
   "execution_count": 12,
   "outputs": [],
   "source": [
    "df_train = df_train.query('start_position!=-1')"
   ],
   "metadata": {
    "collapsed": false,
    "pycharm": {
     "name": "#%%\n"
    }
   }
  },
  {
   "cell_type": "code",
   "execution_count": 13,
   "outputs": [],
   "source": [
    "df_train, df_val = train_test_split(df_train, train_size=0.8)"
   ],
   "metadata": {
    "collapsed": false,
    "pycharm": {
     "name": "#%%\n"
    }
   }
  },
  {
   "cell_type": "code",
   "execution_count": 14,
   "outputs": [],
   "source": [
    "pos_train = df_train.query('sentiment==\"positive\"')\n",
    "neg_train = df_train.query('sentiment==\"negative\"')\n",
    "neu_train = df_train.query('sentiment==\"neutral\"')\n",
    "\n",
    "pos_val = df_train.query('sentiment==\"positive\"')\n",
    "neg_val = df_train.query('sentiment==\"negative\"')\n",
    "neu_val = df_train.query('sentiment==\"neutral\"')\n",
    "\n",
    "pos_test = df_test.query('sentiment==\"positive\"')\n",
    "neg_test = df_test.query('sentiment==\"negative\"')\n",
    "neu_test = df_test.query('sentiment==\"neutral\"')"
   ],
   "metadata": {
    "collapsed": false,
    "pycharm": {
     "name": "#%%\n"
    }
   }
  },
  {
   "cell_type": "code",
   "execution_count": 16,
   "outputs": [
    {
     "data": {
      "text/plain": "'BERT fine-tuning'"
     },
     "execution_count": 16,
     "metadata": {},
     "output_type": "execute_result"
    }
   ],
   "source": [
    "\"\"\"BERT fine-tuning\"\"\""
   ],
   "metadata": {
    "collapsed": false,
    "pycharm": {
     "name": "#%%\n"
    }
   }
  },
  {
   "cell_type": "code",
   "execution_count": null,
   "outputs": [],
   "source": [
    "pos_model = BertForQuestionAnswering.from_pretrained('../input/bertforquestionanswering-base-uncased')\n",
    "neg_model = BertForQuestionAnswering.from_pretrained('../input/bertforquestionanswering-base-uncased')"
   ],
   "metadata": {
    "collapsed": false,
    "pycharm": {
     "name": "#%%\n"
    }
   }
  }
 ],
 "metadata": {
  "kernelspec": {
   "display_name": "Python 3",
   "language": "python",
   "name": "python3"
  },
  "language_info": {
   "codemirror_mode": {
    "name": "ipython",
    "version": 2
   },
   "file_extension": ".py",
   "mimetype": "text/x-python",
   "name": "python",
   "nbconvert_exporter": "python",
   "pygments_lexer": "ipython2",
   "version": "2.7.6"
  }
 },
 "nbformat": 4,
 "nbformat_minor": 0
}
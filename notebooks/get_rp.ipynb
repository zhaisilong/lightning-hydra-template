{
 "cells": [
  {
   "cell_type": "code",
   "execution_count": 98,
   "metadata": {
    "collapsed": true,
    "pycharm": {
     "name": "#%%\n"
    }
   },
   "outputs": [],
   "source": [
    "import pandas as pd\n",
    "from torchmetrics.functional import auroc\n",
    "import torch"
   ]
  },
  {
   "cell_type": "code",
   "execution_count": 99,
   "outputs": [],
   "source": [
    "def metric_spearman_footrule(y, y_pred, topn, seq=[]):\n",
    "    if not seq:\n",
    "        df = pd.DataFrame(zip(y, y_pred), columns=['y', 'y_pred'])\n",
    "    else:\n",
    "        df = pd.DataFrame(zip(y, y_pred, seq), columns=['y', 'y_pred', 'seq'])\n",
    "    df['y_rank'] = df['y'].rank(method='first', ascending=False)\n",
    "    df['y_pred_rank'] = df['y_pred'].rank(method='first', ascending=False)\n",
    "\n",
    "    data = sorted(df[['y_rank', 'y_pred_rank']].values.tolist())\n",
    "    r = []\n",
    "    for i in range(min(topn, len(y))):\n",
    "        n = 0\n",
    "        for j in range(i + 1):\n",
    "            if data[j][1] <= i + 1:\n",
    "                n += 1\n",
    "        r.append(n)\n",
    "    index = [i+1 for i in range(min(topn, len(y)))]\n",
    "    return list(zip(index, r))"
   ],
   "metadata": {
    "collapsed": false,
    "pycharm": {
     "name": "#%%\n"
    }
   }
  },
  {
   "cell_type": "code",
   "execution_count": 97,
   "outputs": [
    {
     "name": "stdout",
     "output_type": "stream",
     "text": [
      "0\n",
      "(100, 0) (1000, 625)\n",
      "0.7977932691574097\n",
      "\n",
      "\n",
      "1\n",
      "(100, 1) (1000, 628)\n",
      "0.7974897623062134\n",
      "\n",
      "\n",
      "2\n",
      "(100, 3) (1000, 635)\n",
      "0.8043265342712402\n",
      "\n",
      "\n",
      "3\n",
      "(100, 1) (1000, 622)\n",
      "0.7946968674659729\n",
      "\n",
      "\n",
      "4\n",
      "(100, 2) (1000, 633)\n",
      "0.7873985767364502\n",
      "\n",
      "\n",
      "5\n",
      "(100, 6) (1000, 649)\n",
      "0.8195892572402954\n",
      "\n",
      "\n",
      "6\n",
      "(100, 1) (1000, 625)\n",
      "0.8002107739448547\n",
      "\n",
      "\n",
      "7\n",
      "(100, 7) (1000, 652)\n",
      "0.8314450979232788\n",
      "\n",
      "\n",
      "8\n",
      "(100, 0) (1000, 642)\n",
      "0.8143587112426758\n",
      "\n",
      "\n",
      "9\n",
      "(100, 1) (1000, 626)\n",
      "0.7922312021255493\n",
      "\n",
      "\n",
      "10\n",
      "(100, 7) (1000, 658)\n",
      "0.8341579437255859\n",
      "\n",
      "\n",
      "11\n",
      "(100, 3) (1000, 642)\n",
      "0.8247357606887817\n",
      "\n",
      "\n",
      "12\n",
      "(100, 10) (1000, 647)\n",
      "0.8245014548301697\n",
      "\n",
      "\n",
      "13\n",
      "(100, 6) (1000, 656)\n",
      "0.8325406908988953\n",
      "\n",
      "\n",
      "14\n",
      "(100, 8) (1000, 643)\n",
      "0.8286452293395996\n",
      "\n",
      "\n",
      "15\n",
      "(100, 1) (1000, 621)\n",
      "0.7953234910964966\n",
      "\n",
      "\n",
      "16\n",
      "(100, 0) (1000, 623)\n",
      "0.7990535497665405\n",
      "\n",
      "\n",
      "17\n",
      "(100, 3) (1000, 651)\n",
      "0.8290799260139465\n",
      "\n",
      "\n",
      "18\n",
      "(100, 3) (1000, 643)\n",
      "0.82433021068573\n",
      "\n",
      "\n",
      "19\n",
      "(100, 7) (1000, 639)\n",
      "0.8057727217674255\n",
      "\n",
      "\n",
      "20\n",
      "(100, 3) (1000, 614)\n",
      "0.7801045775413513\n",
      "\n",
      "\n",
      "21\n",
      "(100, 11) (1000, 663)\n",
      "0.8327521085739136\n",
      "\n",
      "\n",
      "22\n",
      "(100, 6) (1000, 649)\n",
      "0.8270249962806702\n",
      "\n",
      "\n",
      "23\n",
      "(100, 9) (1000, 649)\n",
      "0.8297886848449707\n",
      "\n",
      "\n",
      "24\n",
      "(100, 9) (1000, 644)\n",
      "0.8276100158691406\n",
      "\n",
      "\n"
     ]
    }
   ],
   "source": [
    "for i in range(25):\n",
    "    df = pd.read_csv(f'../data/peptide/2022-05-20_12-20-08/{i}/results.csv', index_col=0)\n",
    "    print(i)\n",
    "    print(metric_spearman_footrule(df.label, df.logit, 100)[-1], metric_spearman_footrule(df.label, df.logit, 1000)[-1])\n",
    "    print(auroc(torch.tensor(df.logit.values, dtype=torch.float), torch.tensor(df.label.values, dtype=torch.long)).item())\n",
    "    print('\\n')"
   ],
   "metadata": {
    "collapsed": false,
    "pycharm": {
     "name": "#%%\n"
    }
   }
  },
  {
   "cell_type": "code",
   "execution_count": 100,
   "outputs": [
    {
     "name": "stdout",
     "output_type": "stream",
     "text": [
      "(100, 5) (1000, 218)\n",
      "0.7831223607063293\n"
     ]
    }
   ],
   "source": [
    "df = pd.read_csv(f'../data/peptide/None/results.csv', index_col=0)\n",
    "print(metric_spearman_footrule(df.label, df.logit, 100)[-1], metric_spearman_footrule(df.label, df.logit, 1000)[-1])\n",
    "print(auroc(torch.tensor(df.logit.values, dtype=torch.float), torch.tensor(df.label.values, dtype=torch.long)).item())"
   ],
   "metadata": {
    "collapsed": false,
    "pycharm": {
     "name": "#%%\n"
    }
   }
  },
  {
   "cell_type": "code",
   "execution_count": 104,
   "outputs": [
    {
     "data": {
      "text/plain": "                 pp       v  label  pred     logit\n0      KYNNWKEYWDPQ  6240.0      1   1.0  0.781240\n1     YIEIDFKRGIHRN  1707.0      1   1.0  0.861137\n2    RWRWDLWEQYFRGN  1701.0      1   1.0  0.906992\n3      LHWVNQYREFLD  1402.0      1   1.0  0.806835\n4   PWQNLSHRYDRQVGM  1219.0      1   1.0  0.743397\n..              ...     ...    ...   ...       ...\n95   DSTTDYSLDEAHDH    33.0      1   0.0  0.392735\n96    PHWTNDYREYLKD    33.0      1   1.0  0.741643\n97     KYNNWKEYWYPQ    32.0      1   1.0  0.732827\n98    NDPPSGTEQDNHI    32.0      1   1.0  0.836039\n99   KQHPDLKYKQQDHL    32.0      1   0.0  0.461885\n\n[100 rows x 5 columns]",
      "text/html": "<div>\n<style scoped>\n    .dataframe tbody tr th:only-of-type {\n        vertical-align: middle;\n    }\n\n    .dataframe tbody tr th {\n        vertical-align: top;\n    }\n\n    .dataframe thead th {\n        text-align: right;\n    }\n</style>\n<table border=\"1\" class=\"dataframe\">\n  <thead>\n    <tr style=\"text-align: right;\">\n      <th></th>\n      <th>pp</th>\n      <th>v</th>\n      <th>label</th>\n      <th>pred</th>\n      <th>logit</th>\n    </tr>\n  </thead>\n  <tbody>\n    <tr>\n      <th>0</th>\n      <td>KYNNWKEYWDPQ</td>\n      <td>6240.0</td>\n      <td>1</td>\n      <td>1.0</td>\n      <td>0.781240</td>\n    </tr>\n    <tr>\n      <th>1</th>\n      <td>YIEIDFKRGIHRN</td>\n      <td>1707.0</td>\n      <td>1</td>\n      <td>1.0</td>\n      <td>0.861137</td>\n    </tr>\n    <tr>\n      <th>2</th>\n      <td>RWRWDLWEQYFRGN</td>\n      <td>1701.0</td>\n      <td>1</td>\n      <td>1.0</td>\n      <td>0.906992</td>\n    </tr>\n    <tr>\n      <th>3</th>\n      <td>LHWVNQYREFLD</td>\n      <td>1402.0</td>\n      <td>1</td>\n      <td>1.0</td>\n      <td>0.806835</td>\n    </tr>\n    <tr>\n      <th>4</th>\n      <td>PWQNLSHRYDRQVGM</td>\n      <td>1219.0</td>\n      <td>1</td>\n      <td>1.0</td>\n      <td>0.743397</td>\n    </tr>\n    <tr>\n      <th>...</th>\n      <td>...</td>\n      <td>...</td>\n      <td>...</td>\n      <td>...</td>\n      <td>...</td>\n    </tr>\n    <tr>\n      <th>95</th>\n      <td>DSTTDYSLDEAHDH</td>\n      <td>33.0</td>\n      <td>1</td>\n      <td>0.0</td>\n      <td>0.392735</td>\n    </tr>\n    <tr>\n      <th>96</th>\n      <td>PHWTNDYREYLKD</td>\n      <td>33.0</td>\n      <td>1</td>\n      <td>1.0</td>\n      <td>0.741643</td>\n    </tr>\n    <tr>\n      <th>97</th>\n      <td>KYNNWKEYWYPQ</td>\n      <td>32.0</td>\n      <td>1</td>\n      <td>1.0</td>\n      <td>0.732827</td>\n    </tr>\n    <tr>\n      <th>98</th>\n      <td>NDPPSGTEQDNHI</td>\n      <td>32.0</td>\n      <td>1</td>\n      <td>1.0</td>\n      <td>0.836039</td>\n    </tr>\n    <tr>\n      <th>99</th>\n      <td>KQHPDLKYKQQDHL</td>\n      <td>32.0</td>\n      <td>1</td>\n      <td>0.0</td>\n      <td>0.461885</td>\n    </tr>\n  </tbody>\n</table>\n<p>100 rows × 5 columns</p>\n</div>"
     },
     "execution_count": 104,
     "metadata": {},
     "output_type": "execute_result"
    }
   ],
   "source": [
    "df.head(100)"
   ],
   "metadata": {
    "collapsed": false,
    "pycharm": {
     "name": "#%%\n"
    }
   }
  },
  {
   "cell_type": "code",
   "execution_count": null,
   "outputs": [],
   "source": [],
   "metadata": {
    "collapsed": false,
    "pycharm": {
     "name": "#%%\n"
    }
   }
  }
 ],
 "metadata": {
  "kernelspec": {
   "display_name": "Python 3",
   "language": "python",
   "name": "python3"
  },
  "language_info": {
   "codemirror_mode": {
    "name": "ipython",
    "version": 2
   },
   "file_extension": ".py",
   "mimetype": "text/x-python",
   "name": "python",
   "nbconvert_exporter": "python",
   "pygments_lexer": "ipython2",
   "version": "2.7.6"
  }
 },
 "nbformat": 4,
 "nbformat_minor": 0
}
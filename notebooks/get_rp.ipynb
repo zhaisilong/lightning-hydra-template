{
 "cells": [
  {
   "cell_type": "code",
   "execution_count": 23,
   "metadata": {
    "collapsed": true,
    "pycharm": {
     "name": "#%%\n"
    }
   },
   "outputs": [],
   "source": [
    "import pandas as pd\n",
    "from matplotlib import pyplot as plt\n",
    "from sklearn.metrics import roc_curve, auc"
   ]
  },
  {
   "cell_type": "code",
   "execution_count": 24,
   "outputs": [],
   "source": [
    "def metric_spearman_footrule(y, y_pred, topn, seq=[]):\n",
    "    if not seq:\n",
    "        df = pd.DataFrame(zip(y, y_pred), columns=['y', 'y_pred'])\n",
    "    else:\n",
    "        df = pd.DataFrame(zip(y, y_pred, seq), columns=['y', 'y_pred', 'seq'])\n",
    "    df['y_rank'] = df['y'].rank(method='first', ascending=False)\n",
    "    df['y_pred_rank'] = df['y_pred'].rank(method='first', ascending=False)\n",
    "\n",
    "    data = sorted(df[['y_rank', 'y_pred_rank']].values.tolist())\n",
    "    r = []\n",
    "    for i in range(min(topn, len(y))):\n",
    "        n = 0\n",
    "        for j in range(i + 1):\n",
    "            if data[j][1] <= i + 1:\n",
    "                n += 1\n",
    "        r.append(n)\n",
    "    index = [i+1 for i in range(min(topn, len(y)))]\n",
    "    return list(zip(index, r))\n",
    "\n",
    "def plot_auc(ys, preds):\n",
    "    fpr, tpr, thr = roc_curve(ys, preds)\n",
    "    plt.figure(figsize=(5, 5))\n",
    "    plt.plot(fpr, tpr)\n",
    "    plt.xlabel('False Positive Rate')\n",
    "    plt.ylabel('True Positive Rate')\n",
    "    plt.title('Receiver Operating Characteristic Plot')\n",
    "    auc_knn4 = auc(fpr, tpr) * 100\n",
    "    plt.legend([\"AUC {0:.3f}\".format(auc_knn4)]);"
   ],
   "metadata": {
    "collapsed": false,
    "pycharm": {
     "name": "#%%\n"
    }
   }
  },
  {
   "cell_type": "code",
   "execution_count": 25,
   "outputs": [
    {
     "data": {
      "text/plain": "                pp       v  label  pred     logit\n0     KYNNWKEYWDPQ  6240.0      1   1.0  0.683858\n1    YIEIDFKRGIHRN  1707.0      1   1.0  0.636123\n2   RWRWDLWEQYFRGN  1701.0      1   1.0  0.685408\n3     LHWVNQYREFLD  1402.0      1   1.0  0.544744\n4  PWQNLSHRYDRQVGM  1219.0      1   1.0  0.640027",
      "text/html": "<div>\n<style scoped>\n    .dataframe tbody tr th:only-of-type {\n        vertical-align: middle;\n    }\n\n    .dataframe tbody tr th {\n        vertical-align: top;\n    }\n\n    .dataframe thead th {\n        text-align: right;\n    }\n</style>\n<table border=\"1\" class=\"dataframe\">\n  <thead>\n    <tr style=\"text-align: right;\">\n      <th></th>\n      <th>pp</th>\n      <th>v</th>\n      <th>label</th>\n      <th>pred</th>\n      <th>logit</th>\n    </tr>\n  </thead>\n  <tbody>\n    <tr>\n      <th>0</th>\n      <td>KYNNWKEYWDPQ</td>\n      <td>6240.0</td>\n      <td>1</td>\n      <td>1.0</td>\n      <td>0.683858</td>\n    </tr>\n    <tr>\n      <th>1</th>\n      <td>YIEIDFKRGIHRN</td>\n      <td>1707.0</td>\n      <td>1</td>\n      <td>1.0</td>\n      <td>0.636123</td>\n    </tr>\n    <tr>\n      <th>2</th>\n      <td>RWRWDLWEQYFRGN</td>\n      <td>1701.0</td>\n      <td>1</td>\n      <td>1.0</td>\n      <td>0.685408</td>\n    </tr>\n    <tr>\n      <th>3</th>\n      <td>LHWVNQYREFLD</td>\n      <td>1402.0</td>\n      <td>1</td>\n      <td>1.0</td>\n      <td>0.544744</td>\n    </tr>\n    <tr>\n      <th>4</th>\n      <td>PWQNLSHRYDRQVGM</td>\n      <td>1219.0</td>\n      <td>1</td>\n      <td>1.0</td>\n      <td>0.640027</td>\n    </tr>\n  </tbody>\n</table>\n</div>"
     },
     "execution_count": 25,
     "metadata": {},
     "output_type": "execute_result"
    }
   ],
   "source": [
    "df = pd.read_csv('../data/peptide/result.csv', index_col=0)\n",
    "df.head()"
   ],
   "metadata": {
    "collapsed": false,
    "pycharm": {
     "name": "#%%\n"
    }
   }
  },
  {
   "cell_type": "code",
   "execution_count": 26,
   "outputs": [
    {
     "data": {
      "text/plain": "((100, 1), (1000, 626))"
     },
     "execution_count": 26,
     "metadata": {},
     "output_type": "execute_result"
    }
   ],
   "source": [
    "metric_spearman_footrule(df.label, df.logit, 100)[-1], metric_spearman_footrule(df.label, df.logit, 1000)[-1]"
   ],
   "metadata": {
    "collapsed": false,
    "pycharm": {
     "name": "#%%\n"
    }
   }
  },
  {
   "cell_type": "code",
   "execution_count": 27,
   "outputs": [
    {
     "data": {
      "text/plain": "<Figure size 360x360 with 1 Axes>",
      "image/png": "[encoded data removed]"
     },
     "metadata": {
      "needs_background": "light"
     },
     "output_type": "display_data"
    }
   ],
   "source": [
    "plot_auc(df.label, df.pred)"
   ],
   "metadata": {
    "collapsed": false,
    "pycharm": {
     "name": "#%%\n"
    }
   }
  },
  {
   "cell_type": "code",
   "execution_count": null,
   "outputs": [],
   "source": [],
   "metadata": {
    "collapsed": false,
    "pycharm": {
     "name": "#%%\n"
    }
   }
  }
 ],
 "metadata": {
  "kernelspec": {
   "display_name": "Python 3",
   "language": "python",
   "name": "python3"
  },
  "language_info": {
   "codemirror_mode": {
    "name": "ipython",
    "version": 2
   },
   "file_extension": ".py",
   "mimetype": "text/x-python",
   "name": "python",
   "nbconvert_exporter": "python",
   "pygments_lexer": "ipython2",
   "version": "2.7.6"
  }
 },
 "nbformat": 4,
 "nbformat_minor": 0
}
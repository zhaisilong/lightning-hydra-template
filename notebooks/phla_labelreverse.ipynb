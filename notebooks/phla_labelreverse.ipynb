{
 "cells": [
  {
   "cell_type": "code",
   "execution_count": 14,
   "outputs": [],
   "source": [
    "import random\n",
    "\n",
    "import pandas as pd\n",
    "from sklearn.cluster import KMeans\n",
    "import numpy as np\n",
    "from collections import defaultdict\n",
    "from typing import List\n",
    "from tqdm.auto import tqdm"
   ],
   "metadata": {
    "collapsed": false,
    "pycharm": {
     "name": "#%%\n"
    }
   }
  },
  {
   "cell_type": "code",
   "execution_count": 15,
   "outputs": [
    {
     "data": {
      "text/plain": "'标签反转 reconstruct train/val, keep test_data\\nconcat (train, val)\\n-> divide by peptide-HLA pairs\\n'"
     },
     "execution_count": 15,
     "metadata": {},
     "output_type": "execute_result"
    }
   ],
   "source": [
    "\"\"\"标签反转 reconstruct train/val, keep test_data\n",
    "concat (train, val)\n",
    "-> divide by peptide-HLA pairs\n",
    "\"\"\""
   ],
   "metadata": {
    "collapsed": false,
    "pycharm": {
     "name": "#%%\n"
    }
   }
  },
  {
   "cell_type": "code",
   "execution_count": 16,
   "outputs": [],
   "source": [
    "train_path = '../data/AOMP_ALL_RAW/train_data_fold0.csv'\n",
    "val_path = '../data/AOMP_ALL_RAW/val_data_fold0.csv'\n",
    "new_train_path = '../data/AOMP_REVERSE/train.csv'\n",
    "new_val_path = '../data/AOMP_REVERSE/val.csv'"
   ],
   "metadata": {
    "collapsed": false,
    "pycharm": {
     "name": "#%%\n"
    }
   }
  },
  {
   "cell_type": "code",
   "execution_count": 17,
   "outputs": [
    {
     "data": {
      "text/plain": "     peptide  length          HLA  label                        HLA_sequence\n0  FLTGTFVTA       9  HLA-A*24:02      0  YSAMYEEKVAHTDENIAYLMFHYYTWAVQAYTGY\n1  HRKVMSQNF       9  HLA-B*27:05      1  YHTEYREICAKTDEDTLYLNYHDYTWAVLAYEWY\n2  VMDKYILDN       9  HLA-B*44:03      0  YYTKYREISTNTYENTAYIRYDDYTWAVLAYLSY\n3  MTFDGEVKT       9  HLA-B*15:01      0  YYAMYREISTNTYESNLYLRYDSYTWAEWAYLWY\n4  CLLTPGVQG       9  HLA-A*03:01      0  YFAMYQENVAQTDVDTLYIIYRDYTWAELAYTWY",
      "text/html": "<div>\n<style scoped>\n    .dataframe tbody tr th:only-of-type {\n        vertical-align: middle;\n    }\n\n    .dataframe tbody tr th {\n        vertical-align: top;\n    }\n\n    .dataframe thead th {\n        text-align: right;\n    }\n</style>\n<table border=\"1\" class=\"dataframe\">\n  <thead>\n    <tr style=\"text-align: right;\">\n      <th></th>\n      <th>peptide</th>\n      <th>length</th>\n      <th>HLA</th>\n      <th>label</th>\n      <th>HLA_sequence</th>\n    </tr>\n  </thead>\n  <tbody>\n    <tr>\n      <th>0</th>\n      <td>FLTGTFVTA</td>\n      <td>9</td>\n      <td>HLA-A*24:02</td>\n      <td>0</td>\n      <td>YSAMYEEKVAHTDENIAYLMFHYYTWAVQAYTGY</td>\n    </tr>\n    <tr>\n      <th>1</th>\n      <td>HRKVMSQNF</td>\n      <td>9</td>\n      <td>HLA-B*27:05</td>\n      <td>1</td>\n      <td>YHTEYREICAKTDEDTLYLNYHDYTWAVLAYEWY</td>\n    </tr>\n    <tr>\n      <th>2</th>\n      <td>VMDKYILDN</td>\n      <td>9</td>\n      <td>HLA-B*44:03</td>\n      <td>0</td>\n      <td>YYTKYREISTNTYENTAYIRYDDYTWAVLAYLSY</td>\n    </tr>\n    <tr>\n      <th>3</th>\n      <td>MTFDGEVKT</td>\n      <td>9</td>\n      <td>HLA-B*15:01</td>\n      <td>0</td>\n      <td>YYAMYREISTNTYESNLYLRYDSYTWAEWAYLWY</td>\n    </tr>\n    <tr>\n      <th>4</th>\n      <td>CLLTPGVQG</td>\n      <td>9</td>\n      <td>HLA-A*03:01</td>\n      <td>0</td>\n      <td>YFAMYQENVAQTDVDTLYIIYRDYTWAELAYTWY</td>\n    </tr>\n  </tbody>\n</table>\n</div>"
     },
     "execution_count": 17,
     "metadata": {},
     "output_type": "execute_result"
    }
   ],
   "source": [
    "df = pd.concat([pd.read_csv(train_path, index_col=0), pd.read_csv(val_path, index_col=0)])\n",
    "df.head()"
   ],
   "metadata": {
    "collapsed": false,
    "pycharm": {
     "name": "#%%\n"
    }
   }
  },
  {
   "cell_type": "code",
   "execution_count": 18,
   "outputs": [],
   "source": [
    "gs = df.groupby(['peptide'])"
   ],
   "metadata": {
    "collapsed": false,
    "pycharm": {
     "name": "#%%\n"
    }
   }
  },
  {
   "cell_type": "code",
   "execution_count": 19,
   "outputs": [
    {
     "data": {
      "text/plain": "  0%|          | 0/583866 [00:00<?, ?it/s]",
      "application/vnd.jupyter.widget-view+json": {
       "version_major": 2,
       "version_minor": 0,
       "model_id": "38dea4418609484493c10b7169a0b692"
      }
     },
     "metadata": {},
     "output_type": "display_data"
    }
   ],
   "source": [
    "group1 = []\n",
    "group2 = []\n",
    "n_error = 0\n",
    "random.seed(42)\n",
    "with tqdm(gs) as pbar:\n",
    "    for peptide, g_df in pbar:\n",
    "        length = len(g_df)\n",
    "        true_sum = (g_df['label'] == 1).sum()\n",
    "        try:\n",
    "            if (true_sum == 0 or true_sum == length):\n",
    "                if random.randint(0,9) == 0:\n",
    "                    group2.append(g_df)\n",
    "                else:\n",
    "                    group1.append(g_df)\n",
    "            else:\n",
    "                n = random.randint(0, 1)\n",
    "                group1.append(g_df[g_df['label'] == n])\n",
    "                group2.append(g_df[g_df['label'] == int(not n)])\n",
    "        except:\n",
    "            print(f'wrong: {peptide}, {g_df}')\n",
    "            n_error += 1"
   ],
   "metadata": {
    "collapsed": false,
    "pycharm": {
     "name": "#%%\n"
    }
   }
  },
  {
   "cell_type": "code",
   "execution_count": 21,
   "outputs": [],
   "source": [
    "from src.tools.pickle import to_pickle, from_pickle"
   ],
   "metadata": {
    "collapsed": false,
    "pycharm": {
     "name": "#%%\n"
    }
   }
  },
  {
   "cell_type": "code",
   "execution_count": 22,
   "outputs": [
    {
     "name": "stdout",
     "output_type": "stream",
     "text": [
      "pickle in to tmp_group1.pkl in force\n",
      "pickle in to tmp_group2.pkl in force\n"
     ]
    },
    {
     "data": {
      "text/plain": "'tmp_group2.pkl'"
     },
     "execution_count": 22,
     "metadata": {},
     "output_type": "execute_result"
    }
   ],
   "source": [
    "to_pickle(group1, '../cache/tmp_group1.pkl', force=True)\n",
    "to_pickle(group2, '../cache/tmp_group2.pkl', force=True)"
   ],
   "metadata": {
    "collapsed": false,
    "pycharm": {
     "name": "#%%\n"
    }
   }
  },
  {
   "cell_type": "code",
   "execution_count": 7,
   "outputs": [],
   "source": [
    "group1 = from_pickle('../cache/tmp_group1.pkl')\n",
    "group2 = from_pickle('../cache/tmp_group2.pkl')"
   ],
   "metadata": {
    "collapsed": false,
    "pycharm": {
     "name": "#%%\n"
    }
   }
  },
  {
   "cell_type": "code",
   "execution_count": 20,
   "outputs": [
    {
     "data": {
      "text/plain": "(525999, 62549)"
     },
     "execution_count": 20,
     "metadata": {},
     "output_type": "execute_result"
    }
   ],
   "source": [
    "len(group1), len(group2)"
   ],
   "metadata": {
    "collapsed": false,
    "pycharm": {
     "name": "#%%\n"
    }
   }
  },
  {
   "cell_type": "code",
   "execution_count": 11,
   "outputs": [],
   "source": [
    "group1.to_csv(new_train_path)\n",
    "group2.to_csv(new_val_path)"
   ],
   "metadata": {
    "collapsed": false,
    "pycharm": {
     "name": "#%%\n"
    }
   }
  },
  {
   "cell_type": "code",
   "execution_count": 24,
   "outputs": [
    {
     "name": "stdout",
     "output_type": "stream",
     "text": [
      "标签 0 比例为: 50.02%, 个数为: 323370\n",
      "标签 1 比例为: 49.98%, 个数为: 323129\n",
      "标签 1 比例为: 50.17%, 个数为: 36037\n",
      "标签 0 比例为: 49.83%, 个数为: 35796\n"
     ]
    }
   ],
   "source": [
    "from src.tools.pandas import show_ratio\n",
    "show_ratio(pd.read_csv(new_train_path, index_col=0), 'label')\n",
    "show_ratio(pd.read_csv(new_val_path, index_col=0), 'label')"
   ],
   "metadata": {
    "collapsed": false,
    "pycharm": {
     "name": "#%%\n"
    }
   }
  },
  {
   "cell_type": "code",
   "execution_count": null,
   "outputs": [],
   "source": [],
   "metadata": {
    "collapsed": false,
    "pycharm": {
     "name": "#%%\n"
    }
   }
  }
 ],
 "metadata": {
  "kernelspec": {
   "display_name": "Python 3",
   "language": "python",
   "name": "python3"
  },
  "language_info": {
   "codemirror_mode": {
    "name": "ipython",
    "version": 2
   },
   "file_extension": ".py",
   "mimetype": "text/x-python",
   "name": "python",
   "nbconvert_exporter": "python",
   "pygments_lexer": "ipython2",
   "version": "2.7.6"
  }
 },
 "nbformat": 4,
 "nbformat_minor": 0
}
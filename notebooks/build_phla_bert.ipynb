{
 "cells": [
  {
   "cell_type": "code",
   "execution_count": 72,
   "metadata": {
    "collapsed": true,
    "pycharm": {
     "name": "#%%\n"
    }
   },
   "outputs": [],
   "source": [
    "import os\n",
    "\n",
    "import torch\n",
    "from torch.nn import functional as F\n",
    "from torch.utils.data import DataLoader, Dataset, RandomSampler, random_split\n",
    "from torchvision import transforms\n",
    "import pytorch_lightning as pl\n",
    "from pytorch_lightning import loggers as pl_loggers\n",
    "from pytorch_lightning import Trainer\n",
    "from pytorch_lightning.callbacks import ModelCheckpoint, EarlyStopping, LearningRateMonitor\n",
    "import transformers\n",
    "from nlp import load_dataset\n",
    "from pathlib import Path\n",
    "import numpy as np\n",
    "import pandas as pd\n",
    "from sklearn.metrics import accuracy_score, precision_recall_fscore_support\n",
    "from sklearn.model_selection import train_test_split\n",
    "from argparse import ArgumentParser\n",
    "import re\n",
    "from typing import Optional\n",
    "from tqdm.auto import tqdm\n",
    "from tokenizers import Tokenizer\n",
    "from tokenizers.models import BPE\n",
    "from tokenizers.trainers import BpeTrainer\n",
    "from tokenizers.pre_tokenizers import Whitespace\n",
    "from src.tools.seq import seq_padding"
   ]
  },
  {
   "cell_type": "code",
   "execution_count": 73,
   "outputs": [],
   "source": [
    "DIR = Path('../data/AOMP_KMEANS')\n",
    "TRAIN_DIR = DIR / 'train.csv'\n",
    "VAL_DIR = DIR / 'val.csv'\n",
    "\n",
    "TOKENIZER_DIR = Path('../tokenizers/bioseq')"
   ],
   "metadata": {
    "collapsed": false,
    "pycharm": {
     "name": "#%%\n"
    }
   }
  },
  {
   "cell_type": "code",
   "execution_count": 74,
   "outputs": [
    {
     "name": "stdout",
     "output_type": "stream",
     "text": [
      "N A Q K L L S E A L E [PAD] [PAD] [PAD] [PAD]\n",
      "Y F A M Y G E K V A H T H V D T L Y V R C H Y Y T W A V L A Y T W Y\n"
     ]
    }
   ],
   "source": [
    "df_train = pd.read_csv(DIR / 'train.csv', index_col=0).reset_index(drop=True)\n",
    "pp = seq_padding(df_train.peptide[0], 15, split=False, truncate_length=15)\n",
    "hla = seq_padding(df_train.HLA_sequence[0], 34, split=False, truncate_length=34)\n",
    "print(pp)\n",
    "print(hla)"
   ],
   "metadata": {
    "collapsed": false,
    "pycharm": {
     "name": "#%%\n"
    }
   }
  },
  {
   "cell_type": "code",
   "execution_count": 34,
   "outputs": [
    {
     "name": "stdout",
     "output_type": "stream",
     "text": [
      "['[CLS]', 'N', 'A', 'Q', 'K', 'L', 'L', 'S', 'E', 'A', 'L', 'E', '[PAD]', '[PAD]', '[PAD]', '[PAD]', '[SEP]', 'Y', 'F', 'A', 'M', 'Y', 'G', 'E', 'K', 'V', 'A', 'H', 'T', 'H', 'V', 'D', 'T', 'L', 'Y', 'V', 'R', 'C', 'H', 'Y', 'Y', 'T', 'W', 'A', 'V', 'L', 'A', 'Y', 'T', 'W', 'Y', '[SEP]']\n",
      "[1, 14, 3, 16, 11, 12, 12, 18, 6, 3, 12, 6, 0, 0, 0, 0, 2, 22, 7, 3, 13, 22, 8, 6, 11, 20, 3, 9, 19, 9, 20, 5, 19, 12, 22, 20, 17, 4, 9, 22, 22, 19, 21, 3, 20, 12, 3, 22, 19, 21, 22, 2]\n",
      "[1, 1, 1, 1, 1, 1, 1, 1, 1, 1, 1, 1, 1, 1, 1, 1, 1, 1, 1, 1, 1, 1, 1, 1, 1, 1, 1, 1, 1, 1, 1, 1, 1, 1, 1, 1, 1, 1, 1, 1, 1, 1, 1, 1, 1, 1, 1, 1, 1, 1, 1, 1]\n"
     ]
    }
   ],
   "source": [
    "tokenizer = Tokenizer.from_file(str(TOKENIZER_DIR / 'tokenizer-bioseq-onehot.json'))\n",
    "input = tokenizer.encode(pp, hla)\n",
    "print(input.tokens)\n",
    "print(input.ids)\n",
    "print(input.attention_mask)"
   ],
   "metadata": {
    "collapsed": false,
    "pycharm": {
     "name": "#%%\n"
    }
   }
  },
  {
   "cell_type": "code",
   "execution_count": 32,
   "outputs": [
    {
     "name": "stdout",
     "output_type": "stream",
     "text": [
      "N A Q K L L S E A L E [PAD] [PAD] [PAD] [PAD]\n",
      "[1, 1, 1, 1, 1, 1, 1, 1, 1, 1, 1, 1, 1, 1, 1, 1, 1, 0, 0, 0, 0, 0, 0, 0, 0, 0, 0, 0, 0, 0, 0, 0, 0, 0, 0, 0, 0, 0, 0, 0, 0, 0, 0, 0, 0, 0, 0, 0, 0, 0, 0, 0, 0, 0, 0, 0, 0, 0, 0, 0, 0, 0, 0, 0, 0, 0, 0, 0, 0, 0, 0, 0, 0, 0, 0, 0, 0, 0, 0, 0]\n",
      "[1, 14, 3, 16, 11, 12, 12, 18, 6, 3, 12, 6, 0, 0, 0, 0, 2, 0, 0, 0, 0, 0, 0, 0, 0, 0, 0, 0, 0, 0, 0, 0, 0, 0, 0, 0, 0, 0, 0, 0, 0, 0, 0, 0, 0, 0, 0, 0, 0, 0, 0, 0, 0, 0, 0, 0, 0, 0, 0, 0, 0, 0, 0, 0, 0, 0, 0, 0, 0, 0, 0, 0, 0, 0, 0, 0, 0, 0, 0, 0]\n",
      "['[CLS]', 'N', 'A', 'Q', 'K', 'L', 'L', 'S', 'E', 'A', 'L', 'E', '[PAD]', '[PAD]', '[PAD]', '[PAD]', '[SEP]', '[PAD]', '[PAD]', '[PAD]', '[PAD]', '[PAD]', '[PAD]', '[PAD]', '[PAD]', '[PAD]', '[PAD]', '[PAD]', '[PAD]', '[PAD]', '[PAD]', '[PAD]', '[PAD]', '[PAD]', '[PAD]', '[PAD]', '[PAD]', '[PAD]', '[PAD]', '[PAD]', '[PAD]', '[PAD]', '[PAD]', '[PAD]', '[PAD]', '[PAD]', '[PAD]', '[PAD]', '[PAD]', '[PAD]', '[PAD]', '[PAD]', '[PAD]', '[PAD]', '[PAD]', '[PAD]', '[PAD]', '[PAD]', '[PAD]', '[PAD]', '[PAD]', '[PAD]', '[PAD]', '[PAD]', '[PAD]', '[PAD]', '[PAD]', '[PAD]', '[PAD]', '[PAD]', '[PAD]', '[PAD]', '[PAD]', '[PAD]', '[PAD]', '[PAD]', '[PAD]', '[PAD]', '[PAD]', '[PAD]']\n"
     ]
    }
   ],
   "source": [
    "tokenizer.enable_padding(length=80)\n",
    "print(pp)\n",
    "print(tokenizer.encode(pp).attention_mask)\n",
    "print(tokenizer.encode(pp).ids)\n",
    "print(tokenizer.encode(pp).tokens)"
   ],
   "metadata": {
    "collapsed": false,
    "pycharm": {
     "name": "#%%\n"
    }
   }
  },
  {
   "cell_type": "code",
   "execution_count": 18,
   "outputs": [
    {
     "name": "stdout",
     "output_type": "stream",
     "text": [
      "['[CLS]', 'N', 'A', 'Q', 'K', 'L', 'L', 'S', 'E', 'A', 'L', 'E', '[PAD]', '[PAD]', '[PAD]', '[PAD]', '[SEP]', 'Y', 'F', 'A', 'M', 'Y', 'G', 'E', 'K', 'V', 'A', 'H', 'T', 'H', 'V', 'D', 'T', 'L', 'Y', 'V', 'R', 'C', 'H', 'Y', 'Y', 'T', 'W', 'A', 'V', 'L', 'A', 'Y', 'T', 'W', 'Y', '[SEP]', '[PAD]', '[PAD]', '[PAD]', '[PAD]', '[PAD]', '[PAD]', '[PAD]', '[PAD]', '[PAD]', '[PAD]', '[PAD]', '[PAD]', '[PAD]', '[PAD]', '[PAD]', '[PAD]', '[PAD]', '[PAD]', '[PAD]', '[PAD]', '[PAD]', '[PAD]', '[PAD]', '[PAD]', '[PAD]', '[PAD]', '[PAD]', '[PAD]']\n",
      "[1, 14, 3, 16, 11, 12, 12, 18, 6, 3, 12, 6, 0, 0, 0, 0, 2, 22, 7, 3, 13, 22, 8, 6, 11, 20, 3, 9, 19, 9, 20, 5, 19, 12, 22, 20, 17, 4, 9, 22, 22, 19, 21, 3, 20, 12, 3, 22, 19, 21, 22, 2, 0, 0, 0, 0, 0, 0, 0, 0, 0, 0, 0, 0, 0, 0, 0, 0, 0, 0, 0, 0, 0, 0, 0, 0, 0, 0, 0, 0]\n",
      "[1, 1, 1, 1, 1, 1, 1, 1, 1, 1, 1, 1, 1, 1, 1, 1, 1, 1, 1, 1, 1, 1, 1, 1, 1, 1, 1, 1, 1, 1, 1, 1, 1, 1, 1, 1, 1, 1, 1, 1, 1, 1, 1, 1, 1, 1, 1, 1, 1, 1, 1, 1, 0, 0, 0, 0, 0, 0, 0, 0, 0, 0, 0, 0, 0, 0, 0, 0, 0, 0, 0, 0, 0, 0, 0, 0, 0, 0, 0, 0]\n"
     ]
    }
   ],
   "source": [
    "batch_input = tokenizer.encode_batch([[pp, hla], [pp, hla]])\n",
    "tokenizer.enable_padding(length=80)\n",
    "print(batch_input[0].tokens)\n",
    "print(batch_input[1].ids)\n",
    "print(batch_input[1].attention_mask)"
   ],
   "metadata": {
    "collapsed": false,
    "pycharm": {
     "name": "#%%\n"
    }
   }
  },
  {
   "cell_type": "code",
   "execution_count": null,
   "outputs": [],
   "source": [],
   "metadata": {
    "collapsed": false,
    "pycharm": {
     "name": "#%%\n"
    }
   }
  },
  {
   "cell_type": "code",
   "execution_count": 88,
   "outputs": [],
   "source": [
    "### DataModule\n",
    "class PHLADataset(Dataset):\n",
    "    def __init__(self, phlas, labels):\n",
    "        self.phlas = phlas\n",
    "        self.labels = labels\n",
    "\n",
    "    def __len__(self):\n",
    "        return len(self.labels)\n",
    "\n",
    "    def __getitem__(self, idx):\n",
    "        return {\n",
    "            'labels': torch.tensor(self.labels[idx], dtype=torch.long),\n",
    "            'input_ids': torch.LongTensor(self.phlas[idx].ids),\n",
    "            'attention_mask': torch.LongTensor(self.phlas[idx].attention_mask),\n",
    "            'token_type_ids': torch.LongTensor(self.phlas[idx].type_ids),\n",
    "        }"
   ],
   "metadata": {
    "collapsed": false,
    "pycharm": {
     "name": "#%%\n"
    }
   }
  },
  {
   "cell_type": "code",
   "execution_count": 76,
   "outputs": [
    {
     "name": "stdout",
     "output_type": "stream",
     "text": [
      "<class 'tokenizers.Tokenizer'>\n"
     ]
    }
   ],
   "source": [
    "tokenizer = Tokenizer.from_file(str(TOKENIZER_DIR / 'tokenizer-bioseq-onehot.json'))\n",
    "tokenizer.enable_padding(length=49)\n",
    "tokenizer.enable_truncation(49)\n",
    "print(type(tokenizer))"
   ],
   "metadata": {
    "collapsed": false,
    "pycharm": {
     "name": "#%%\n"
    }
   }
  },
  {
   "cell_type": "code",
   "execution_count": 77,
   "outputs": [
    {
     "data": {
      "text/plain": "[['Y F A M Y G E K V A H T H V D T L Y V R C H Y Y T W A V L A Y T W Y',\n  'N A Q K L L S E A L E'],\n ['Y Y S E Y R N I Y A Q T D E S N L Y L S Y D Y Y T W A E R A Y E W Y',\n  'H P R Q S G P G A P N L'],\n ['Y T A M Y L Q N V A Q T D A N T L Y I M Y R D Y T W A V L A Y T W Y',\n  'N S D R F I R I Y N K'],\n ['Y H T K Y R E I S T N T Y E S N L Y L R Y N Y Y S L A V L A Y E W Y',\n  'K P K K A P K S P A K'],\n ['Y F A M Y Q E N V A Q T D V D T L Y I I Y R D Y T W A E L A Y T W Y',\n  'K L E D I L D P I I K'],\n ['Y Y A M Y R N N V A Q T D V D T L Y I R Y H Y Y T W A V W A Y T W Y',\n  'K V M S L S Y S L L T P L'],\n ['Y F A M Y Q E N M A H T D A N T L Y I I Y R D Y T W V A R V Y R G Y',\n  'K V R S Y T K I V T N'],\n ['Y F A M Y G E K V A H T H V D T L Y V R Y H Y Y T W A V L A Y T W Y',\n  'N F R N M F S L G G E'],\n ['Y Y A M Y G E N M A S T Y E N I A Y I V Y D S Y T W A V L A Y L W Y',\n  'T F E R L V D V I C E'],\n ['Y F A M Y Q E N M A H T D A N T L Y I I Y R D Y T W V A R V Y R G Y',\n  'R L D Q E L K L I G E Y'],\n ['Y F A M Y G E K V A H T H V D T L Y V R Y H Y Y T W A V L A Y T W Y',\n  'Q A C K Y L E D F I T'],\n ['Y H T E Y R E I C A K T D E D T L Y L N Y H D Y T W A V L A Y E W Y',\n  'H I D L G P S M L G D'],\n ['Y F A M Y G E K V A H T H V D T L Y V R Y H Y Y T W A V L A Y T W Y',\n  'S L S T S V E L P I T'],\n ['Y F A M Y Q E N M A H T D A N T L Y I I Y R D Y T W V A R V Y R G Y',\n  'K L K C Y L M P F G T'],\n ['Y Y A M Y G E N M A S T Y E N I A Y I V Y N Y Y T W A V L A Y L W Y',\n  'E Y C D V P S C S T C'],\n ['Y F A M Y Q E N M A H T D A N T L Y I I Y R D Y T W V A R V Y R G Y',\n  'M T M H P V W P S L R'],\n ['Y Y S E Y R N I Y A Q T D E S N L Y L S Y D Y Y T W A E R A Y E W Y',\n  'S I E H I L S S L P E'],\n ['Y H T E Y R E I C A K T D E D T L Y L N Y H D Y T W A V L A Y E W Y',\n  'N G E T L A K T I A C'],\n ['Y Y A M Y G E N M A S T Y E N I A Y I V Y D S Y T W A V L A Y L W Y',\n  'Q P T H V I H L A A M V G'],\n ['Y F A M Y G E K V A H T H V D T L Y V R Y H Y Y T W A V L A Y T W Y',\n  'E S R E G G P W G G R'],\n ['Y F A M Y G E K V A H T H V D T L Y V M Y H Y Y T W A V L A Y T W Y',\n  'E P K R F G N Q I T M'],\n ['Y Y A M Y R E I S T N T Y E S N L Y L R Y D S Y T W A E W A Y L W Y',\n  'D V E R W L K P A M T'],\n ['Y Y A M Y Q E N V A Q T D V D T L Y I I Y R D Y T W A A Q A Y R W Y',\n  'R F D T F S Q Y W T T V'],\n ['Y F A M Y Q E N M A H T D A N T L Y I I Y R D Y T W V A R V Y R G Y',\n  'N T E E A A N T M V N Y Y'],\n ['Y T A M Y Q E N V A H I D V D T L Y I M Y Q D Y T W A V L A Y T W Y',\n  'R I W Q S P R F I A R'],\n ['Y H T E H R E I C A K T D E D T L Y L N Y H D Y T W A V L A Y E W Y',\n  'Q S Q R L A H A L N D'],\n ['Y Y A M Y Q E N V A Q T D V D T L Y I I Y R D Y T W A A Q A Y R W Y',\n  'Q T E L L L D L V A E'],\n ['Y Y A M Y Q E N V A Q T D V D T L Y I I Y R D Y T W A A Q A Y R W Y',\n  'K S T T T G H L I Y K'],\n ['Y F A M Y G E K V A H T H V D T L Y V R Y H Y Y T W A V L A Y T W Y',\n  'R L Y D P A S G T I S L'],\n ['Y F A M Y G E K V A H T H V D T L Y V R Y H Y Y T W A V L A Y T W Y',\n  'T G K C L K T L P A H'],\n ['Y F A M Y Q E N V A Q T D V D T L Y I I Y R D Y T W A E L A Y T W Y',\n  'R L R D L L L I V V R'],\n ['Y H T E Y R E I C A K T D E D T L Y L N Y H D Y T W A V L A Y E W Y',\n  'K A E D T I S I L P D'],\n ['Y Y A M Y R E I S T N T Y E S N L Y L R Y D S Y T W A E W A Y L W Y',\n  'Y L R Q L P E P L I S F'],\n ['Y D S E Y R N I F T N T D E S N L Y L S Y N Y Y T W A V D A Y T W Y',\n  'E I R Q F L D C S T T'],\n ['Y D S G Y R E K Y R Q A D V N K L Y L W Y D S Y T W A E W A Y T W Y',\n  'R L E K V L L V G A D N'],\n ['Y F A M Y G E K V A H T H V D T L Y V R Y H Y Y T W A V L A Y T W Y',\n  'E L E S V D E G L L Q F'],\n ['Y F A M Y G E K V A H T H V D T L Y V R Y H Y Y T W A V L A Y T W Y',\n  'N G R T Y L K Y S I K'],\n ['Y H T K Y R E I S T N T Y E S N L Y L S Y N Y Y T W A V L A Y E W Y',\n  'C A W N P A D L S L M'],\n ['Y H T K Y R E I S T N T Y E S N L Y L R Y N Y Y S L A V L A Y E W Y',\n  'K L S R A L R Y Y Y D'],\n ['Y T A M Y Q E N V A H I D V D T L Y I M Y Q D Y T W A V L A Y T W Y',\n  'R L R E L T S I V N R'],\n ['Y F A M Y Q E N M A H T D A N T L Y I I Y R D Y T W V A R V Y R G Y',\n  'R I K E I A Q D A L K F M'],\n ['Y H T E Y R E I C A K T D E D T L Y L N Y H D Y T W A V L A Y E W Y',\n  'E G D M V L R V L E Q G'],\n ['Y Y A M Y Q E N V A Q T D V D T L Y I I Y R D Y T W A A Q A Y R W Y',\n  'N P S N P Y C A G I Q'],\n ['Y Y S E Y R N I Y A Q T D E S N L Y L S Y D Y Y T W A E R A Y E W Y',\n  'R P M T P T Q I G P S L'],\n ['Y Y A M Y Q E N V A Q T D V D T L Y I I Y R D Y T W A A Q A Y R W Y',\n  'D L E T C G E P V G S A'],\n ['Y T A M Y Q E N V A H I D V D T L Y I M Y Q D Y T W A V L A Y T W Y',\n  'K L K D L G N L V L R'],\n ['Y H T E Y R E I C A K T D E D T L Y L N Y H D Y T W A V L A Y E W Y',\n  'H V D Y S N W A P G E P'],\n ['Y Y A M Y G E N M A S T Y E N I A Y I V Y D S Y T W A V L A Y L W Y',\n  'N L R T A G Q G P G Q L Q'],\n ['Y F S G Y R E K Y R Q T D V S N L Y L W C D Y Y T W A E R A Y T W Y',\n  'C G Q L L T Q L L L C A'],\n ['Y H T E Y R E I C A K T D E D T L Y L N Y H H Y T W A V L A Y E W Y',\n  'E L N N T C E P V V T'],\n ['Y T A M Y L Q N V A Q T D A N T L Y I M Y R D Y T W A V L A Y T W Y',\n  'H F Q N F P N G V T D F'],\n ['Y S A M Y E E K V A H T D E N I A Y L M F H Y Y T W A V Q A Y T G Y',\n  'D V E R W L K P A M T'],\n ['Y F A M Y Q E N V A Q T D V D T L Y I I Y R D Y T W A E L A Y T W Y',\n  'K L L D V V H P A A K'],\n ['Y Y A M Y Q E N V A Q T D V D T L Y I I Y R D Y T W A A Q A Y R W Y',\n  'T V S E V I Q G L L K'],\n ['Y Y S E Y R N I Y A Q T D E S N L Y L S Y D Y Y T W A E R A Y E W Y',\n  'H G E E Y P A A G A H'],\n ['Y T A M Y Q E N V A H I D V D T L Y I M Y Q D Y T W A V L A Y T W Y',\n  'N L P R V A D I L T Q L L'],\n ['Y H T E Y R E I C A K T D E D T L Y L N Y H D Y T W A V L A Y E W Y',\n  'H L T D A E K A A V N G L'],\n ['Y Y A M Y G E N M A S T Y E N I A Y I V Y D S Y T W A V L A Y L W Y',\n  'R Y C R G V N A I V Y M'],\n ['Y F A M Y G E K V A H T H V D T L Y V R Y H Y Y T W A V L A Y T W Y',\n  'Q V T R G F T G G I N'],\n ['Y H T E Y R E I C A K T D E D T L Y L N Y H D Y T W A V L A Y E W Y',\n  'R A E E D L S I T V H A T'],\n ['Y H T K Y R E I S T N T Y E S N L Y L S Y N Y Y T W A V L A Y E W Y',\n  'R W S R F A R V L L T'],\n ['Y H T E Y R E I C A K T D E D T L Y L N Y H D Y T W A V L A Y E W Y',\n  'H L T D A E K A A V N'],\n ['Y F A M Y Q E N M A H T D A N T L Y I I Y R D Y T W V A R V Y R G Y',\n  'M V K D T S Y L F I T G'],\n ['Y H T E Y R E I C A K T D E D T L Y L N Y H D Y T W A V L A Y E W Y',\n  'E L Y E F V D T P G N'],\n ['Y Y A M Y R N N V A Q T D V D T L Y I R Y H Y Y T W A V W A Y T W Y',\n  'E L E Q L F S Q Y G R I'],\n ['Y H T E Y R E I C A K T D E D T L Y L N Y H H Y T W A V L A Y E W Y',\n  'W G Q K Y M T A V V K L F'],\n ['Y H T K Y R E I S T N T Y E S N L Y L R Y N Y Y S L A V L A Y E W Y',\n  'R C C S I I D P F G M'],\n ['Y Y A M Y Q E N V A Q T D V D T L Y I I Y R D Y T W A A Q A Y R W Y',\n  'Q P R S S L R A S S M'],\n ['Y Y A M Y G E N M A S T Y E N I A Y I V Y D S Y T W A V L A Y L W Y',\n  'H G R S F D D P I V Q'],\n ['Y T A M Y Q E N V A H I D V D T L Y I M Y Q D Y T W A V L A Y T W Y',\n  'K L M D V G L I A I R'],\n ['Y H T E Y R E I C A K T D E D T L Y L N Y H D Y T W A V L A Y E W Y',\n  'E G K I T G E A F V Q'],\n ['Y F A M Y G E K V A H T H V D T L Y V R Y H Y Y T W A V L A Y T W Y',\n  'F L E E F I T P I V K V'],\n ['Y H T E Y R E I C A K T D E D T L Y L N Y H D Y T W A V L A Y E W Y',\n  'E L E K A L S N V I E V'],\n ['Y F A M Y G E K V A H T H V D T L Y V R Y H Y Y T W A V L A Y T W Y',\n  'E L Q D C A L P L L K'],\n ['Y F A M Y G E K V A H T H V D T L Y V R Y H Y Y T W A V L A Y T W Y',\n  'T I K C V N F Y G P R S'],\n ['Y S A G Y R E K Y R Q A D V N K L Y L R F N F Y T W A E R A Y T W Y',\n  'H F D D I G P S V V M'],\n ['Y H T E Y R E I C A K T D E D T L Y L N Y H D Y T W A V L A Y E W Y',\n  'E A N Q W E Q L L V Q A T'],\n ['Y F A M Y Q E N V A Q T D V D T L Y I I Y R D Y T W A E L A Y T W Y',\n  'R V E Q A V E S M V K'],\n ['Y Y A M Y G E N M A S T Y E N I A Y I V Y D S Y T W A V L A Y L W Y',\n  'R A H Q L V M E G Y N W'],\n ['Y F A M Y Q E N V A Q T D V D T L Y I I Y R D Y T W A E L A Y T W Y',\n  'R L R D L L L I V A R'],\n ['Y Y S E Y R N I Y A Q T D E S N L Y L S Y D Y Y T W A E R A Y E W Y',\n  'S P R R L V E L A G Q S L'],\n ['Y Y T K Y R E I S T N T Y E N T A Y I R Y D D Y T W A V D A Y L S Y',\n  'T A D D Y L E L S L K L'],\n ['Y F A M Y Q E N M A H T D A N T L Y I I Y R D Y T W V A R V Y R G Y',\n  'H S E E A L F L L A T C Y Y'],\n ['Y F A M Y G E K V A H T H V D T L Y V R Y H Y Y T W A V L A Y T W Y',\n  'K L Q D L T D V Q I M A'],\n ['Y F A M Y Q E N M A H T D A N T L Y I I Y R D Y T W V A R V Y R G Y',\n  'S P T S Y F T S G L Q A'],\n ['Y Y S E Y R N I Y A Q T D E S N L Y L S Y D Y Y T W A E R A Y E W Y',\n  'R P K E P S Q Q P I R F'],\n ['Y H T E Y R E I C A K T D E D T L Y L N Y H D Y T W A V L A Y E W Y',\n  'K I E N V P T G P N N'],\n ['Y T A M Y Q E N V A H I D V D T L Y I M Y Q D Y T W A V L A Y T W Y',\n  'R L R D L L L I A A R'],\n ['Y Y A M Y Q E N V A Q T D V D T L Y I I Y R D Y T W A A Q A Y R W Y',\n  'N T M T L G D I V F K'],\n ['Y F A M Y Q E N V A Q T D V D T L Y I I Y R D Y T W A E L A Y T W Y',\n  'R L R E L T S I V N R'],\n ['Y Y A T Y R N I F T N T Y E S N L Y I R Y D F Y T W A V L A Y L W Y',\n  'C V H Q V V E L L Q E'],\n ['Y H T E Y R E I C A K T D E D T L Y L N Y H D Y T W A V L A Y E W Y',\n  'H L T D A E K A A V N G'],\n ['Y T A M Y Q E N V A H I D V D T L Y I M Y Q D Y T W A V L A Y T W Y',\n  'N L E E F P F P L P K S L'],\n ['Y F A M Y Q E N V A Q T D V D T L Y I I Y R D Y T W A E L A Y T W Y',\n  'R I K E I A Q D A L K'],\n ['Y F A M Y Q E N M A H T D A N T L Y I I Y R D Y T W V A R V Y R G Y',\n  'R F S D Y F T G Y F N G'],\n ['Y Y A M Y R E I S T N T Y E S N L Y L R Y D S Y T W A E W A Y L W Y',\n  'T G K D S T R G V A K M'],\n ['Y F A M Y G E K V A H T H V D T L Y V R Y H Y Y T W A V L A Y T W Y',\n  'R V L D P S M V I L E V'],\n ['Y H T E Y R E I C A K T D E D T L Y L N Y H D Y T W A V L A Y E W Y',\n  'C V K L L V K Y G A D'],\n ['Y Y A M Y G E N M A S T Y E N I A Y I V Y N Y Y T W A V L A Y L W Y',\n  'Y L R D Y L H L P P E'],\n ['Y H T E Y R E I C A K T D E D T L Y L N Y H D Y T W A V L A Y E W Y',\n  'Q L F K G S Q F A I R W G F'],\n ['Y T A M Y Q E N V A H I D V D T L Y I M Y Q D Y T W A V L A Y T W Y',\n  'Q V N K S D D S V I Q L'],\n ['Y Y T K Y R E I S T N T Y E N T A Y I R Y D D Y T W A V L A Y L S Y',\n  'K C E E C G K A F G Q'],\n ['Y H T E Y R E I C A K T D E D T L Y L N Y H D Y T W A V L A Y E W Y',\n  'K R H D L V K L G F K Y'],\n ['Y H T E Y R E I C A K T D E D T L Y L N Y H D Y T W A V L A Y E W Y',\n  'S Q E Q I A S L L A N A'],\n ['Y H T E Y R E I C A K T D E D T L Y L N Y H D Y T W A V L A Y E W Y',\n  'E L V E V I E A G L E V I'],\n ['Y Y A M Y G E N M A S T Y E N I A Y I V Y D S Y T W A V L A Y L W Y',\n  'M A R H V L D N S G E W'],\n ['Y H T E Y R E I C A K T D E D T L Y L N Y H D Y T W A V L A Y E W Y',\n  'S P K E P G E G G G M'],\n ['Y F A M Y G E K V A H T H V D T L Y V R Y H Y Y T W A V L A Y T W Y',\n  'S I H D I A H S L W K'],\n ['Y F A M Y G E K V A H T H V D T L Y V R Y H Y Y T W A V L A Y T W Y',\n  'R S C Y V S Q A G L K'],\n ['Y Y A M Y G E N M A S T Y E N I A Y I V Y D S Y T W A V L A Y L W Y',\n  'N L R N A R N A I L E'],\n ['Y H T K Y R E I S T N T Y E N I A Y W R Y N L Y T W A E L A Y L W Y',\n  'K C K Q C G K A F I C'],\n ['Y F A M Y Q E N V A Q T D V D T L Y I I Y R D Y T W A E L A Y T W Y',\n  'R V N E V N Q F A A K'],\n ['Y Y A M Y G E N M A S T Y E N I A Y I V Y D S Y T W A V L A Y L W Y',\n  'T V E Q I G H I L V S W'],\n ['Y H T E Y R E I C A K T D E D T L Y L N Y H D Y T W A V L A Y E W Y',\n  'H V E H T L S V S S D'],\n ['Y F A M Y Q E N M A H T D A N T L Y I I Y R D Y T W V A R V Y R G Y',\n  'S S E D I L K L L S E Y'],\n ['Y F A M Y Q E N M A H T D A N T L Y I I Y R D Y T W V A R V Y R G Y',\n  'E T E K L Y Q L L T Q Y'],\n ['Y Y A M Y G E N M A S T Y E N I A Y I V Y D S Y T W A V L A Y L W Y',\n  'R I K Q A F Q G A V Q K'],\n ['Y Y A M Y G E N M A S T Y E N I A Y I V Y D S Y T W A V L A Y L W Y',\n  'R A R F P P T T A V S A'],\n ['Y Y A M Y G E N M A S T Y E N I A Y I V Y D S Y T W A V L A Y L W Y',\n  'C T E D Y L S L I L N'],\n ['Y F A M Y Q E N V A Q T D V D T L Y I I Y R D Y T W A E L A Y T W Y',\n  'R T R D Y A S L P P K'],\n ['Y H T E Y R E I C A K T D E D T L Y L N Y H D Y T W A V L A Y E W Y',\n  'S P E H G P E P G P E'],\n ['Y Y A T Y G E N M A S T Y E N I A Y I R Y D S Y T W A V L A Y L W Y',\n  'R V M Q L P D S G L E'],\n ['Y H T E Y R E I C A K T D E D T L Y L N Y H D Y T W A V L A Y E W Y',\n  'T Y D S G I H S G V N'],\n ['Y H T E Y R E I C A K T D E D T L Y L N Y H D Y T W A V L A Y E W Y',\n  'N G Q K L V T T V T E I A G'],\n ['Y F S G Y R E K Y R Q T D V S N L Y L W C D Y Y T W A E R A Y T W Y',\n  'T S E R F G E A S L Q G'],\n ['Y F A M Y G E K V A H T H V D T L Y V R Y H Y Y T W A V L A Y T W Y',\n  'F L E E F I T P I V K A'],\n ['Y F A M Y G E K V A H T H V D T L Y V R Y H Y Y T W A V L A Y T W Y',\n  'R Y M D A W N T V S R'],\n ['Y H T K Y R E I S T N T Y E S N L Y L R Y N Y Y S L A V L A Y E W Y',\n  'D L Q M I L N G I N N Y'],\n ['Y H T E Y R E I C A K T D E D T L Y L N Y H D Y T W A V L A Y E W Y',\n  'F G D R V L L A G A D V'],\n ['Y Y S E Y R N I Y A Q T D E S N L Y L S Y D Y Y T W A E R A Y E W Y',\n  'R A R A S A R A G I H L'],\n ['Y Y A T Y R N I F T N T Y E N I A Y W T Y N Y Y T W A E L A Y L W H',\n  'H G N K I Y V L G G R'],\n ['Y H T E Y R E I C A K T D E D T L Y L N Y H D Y T W A V L A Y E W Y',\n  'Q F E K V S T D L G R'],\n ['Y F A M Y Q E N M A H T D A N T L Y I I Y R D Y T W V A R V Y R G Y',\n  'M T E E L L Q D L A Q Y'],\n ['Y Y A M Y G E N M A S T Y E N I A Y I V Y D S Y T W A V L A Y L W Y',\n  'K L D P S P Q T I Y K W'],\n ['Y H T E Y R E I C A K T D E D T L Y L N Y H D Y T W A V L A Y E W Y',\n  'K T K Q G V T E A A E'],\n ['Y F A M Y G E K V A H T H V D T L Y V R Y H Y Y T W A V L A Y T W Y',\n  'F L E E F I T P I V K V S'],\n ['Y F A M Y G E K V A H T H V D T L Y V R Y H Y Y T W A V L A Y T W Y',\n  'E L Q D S V E G L S E'],\n ['Y Y A M Y G E N M A S T Y E N I A Y I V Y D S Y T W A V L A Y L W Y',\n  'N V Q L A A Q T L A H'],\n ['Y Y A M Y R N N V A Q T D V D T L Y I M Y R D Y T W A V W A Y T W Y',\n  'N T M T L G D I V F K'],\n ['Y T A M Y Q E N V A H I D V D T L Y I M Y Q D Y T W A V L A Y T W Y',\n  'K L K D I V S L V P R'],\n ['Y Y A M Y G E N M A S T Y E N I A Y I V Y D S Y T W A V L A Y L W Y',\n  'C M E K F L D P A I W'],\n ['Y Y A M Y R E I S T N T Y E S N L Y L R Y D S Y T W A E W A Y L W Y',\n  'R L N Q V I F P V S Y'],\n ['Y Y A T Y R N I F T N T Y E N I A Y W T Y N Y Y T W A E L A Y L W H',\n  'M P T D Y A Q V T V D F'],\n ['Y Y T K Y R E I S T N T Y E N T A Y I R Y D D Y T W A V D A Y L S Y',\n  'E V L H L L R G A P Q'],\n ['Y F A M Y Q E N V A Q T D V D T L Y I I Y R D Y T W A E L A Y T W Y',\n  'R L R D L L L I A T R'],\n ['Y H T E Y R E I C A K T D E D T L Y L N Y H D Y T W A V L A Y E W Y',\n  'Q A T R G D C L A F Q M'],\n ['Y F A M Y Q E N M A H T D A N T L Y I I Y R D Y T W V A R V Y R G Y',\n  'S L H Q P L Y Y L L S L'],\n ['Y H T E Y R E I C A K T D E D T L Y L N Y H D Y T W A V L A Y E W Y',\n  'R A E I A L R S A I T L'],\n ['Y Y A M Y G E N M A S T Y E N I A Y I V Y N Y Y T W A V L A Y L W Y',\n  'Y V R N I C K A L L D V'],\n ['Y H T E Y R E I C A K T D E D T L Y L N Y H D Y T W A V L A Y E W Y',\n  'R P R A F S H S G V H'],\n ['Y Y A M Y Q E N V A Q T D V D T L Y I I Y R D Y T W A A Q A Y R W Y',\n  'S V K S V P E N L L K'],\n ['Y Y A M Y G E N M A S T Y E N I A Y I V Y N Y Y T W A V L A Y L W Y',\n  'Q I Q V P S N L A L K F'],\n ['Y H T E Y R E I C A K T D E D T L Y L N Y H D Y T W A V L A Y E W Y',\n  'R G N H I A S G S T D'],\n ['Y D S G Y R E K Y R Q A D V N K L Y L W Y D S Y T W A E W A Y T W Y',\n  'K Y K Q L T W I A L K F A L'],\n ['Y F A M Y Q E N M A H T D A N T L Y I I Y R D Y T W V A R V Y R G Y',\n  'N T E E A A N T M V N Y'],\n ['Y T A M Y Q E N V A H I D V D T L Y I M Y Q D Y T W A V L A Y T W Y',\n  'S F M D P A S A L Y R'],\n ['Y H T E Y R E I C A K T D E D T L Y L N Y H D Y T W A V L A Y E W Y',\n  'Q P K P L P S Q F G H Y F'],\n ['Y H T E Y R E I C A K T D E D T L Y L N Y H D Y T W A V L A Y E W Y',\n  'Q A T R G D C L A F Q'],\n ['Y H T E Y R E I C A K T D E D T L Y L N Y H D Y T W A V L A Y E W Y',\n  'K L Q E E L S A A T D'],\n ['Y Y A M Y R N N V A Q T D V D T L Y I M Y R D Y T W A V W A Y T W Y',\n  'Q S F D L A K V L L K'],\n ['Y Y T K Y R E I S T N T Y E N T A Y I R Y D D Y T W A V D A Y L S Y',\n  'Q W T K A L K F M L T'],\n ['Y Y A M Y G E K V A H T H V D T L Y L R Y H Y Y T W A V W A Y T W Y',\n  'R P K E A F S D G I T'],\n ['Y H T E Y R E I C A K T D E D T L Y L N Y H H Y T W A V L A Y E W Y',\n  'E V P E A A Q L A L E'],\n ['Y H T E Y R E I C A K T D E D T L Y L N Y H D Y T W A V L A Y E W Y',\n  'E L R E I A S E P A E'],\n ['Y H T E Y R E I C A K T D E D T L Y L N Y H D Y T W A V L A Y E W Y',\n  'D V Q Y L M S A G A N'],\n ['Y Y A M Y R E I S T N T Y E S N L Y L R Y D S Y T W A E W A Y L W Y',\n  'E S Q T V L S S G S D'],\n ['Y H T E Y R E I C A K T D E D T L Y L N Y H D Y T W A V L A Y E W Y',\n  'K P D E V A Q E I V K'],\n ['Y Y A T Y R N I F T N T Y E S N L Y I R Y D S Y T W A V L A Y L W Y',\n  'H S D Q S S K T S L M S'],\n ['Y H T K Y R E I S T N T Y E S N L Y W R Y N L Y T W A V D A Y L S Y',\n  'K S N D G G K V L S H'],\n ['Y F A M Y G E K V A H T H V D T L Y V R Y H Y Y T W A V L A Y T W Y',\n  'Q G Q T P G E P A A S L S V'],\n ['Y Y A M Y G E N M A S T Y E N I A Y I V Y N Y Y T W A V L A Y L W Y',\n  'R S M R G G Y I G S T'],\n ['Y Y S E Y R N I Y A Q T D E S N L Y L S Y D Y Y T W A E R A Y E W Y',\n  'R P R S S A R S P G S'],\n ['Y Y A M Y R N N V A Q T D V D T L Y I M Y R D Y T W A V W A Y T W Y',\n  'T V S E V I Q G L L K'],\n ['Y F A M Y G E K V A H T H V D T L Y V R C H Y Y T W A V L A Y T W Y',\n  'N I D E I Y K A L S R'],\n ['Y Y S E Y R N I Y A Q T D E S N L Y L S Y D Y Y T W A E R A Y E W Y',\n  'R P R S S T D A L I E M'],\n ['Y Y A M Y G E N M A S T Y E N I A Y I V Y D S Y T W A V L A Y L W Y',\n  'K V K E P G E S P I F W'],\n ['Y Y A M Y G E N M A S T Y E N I A Y I V Y D S Y T W A V L A Y L W Y',\n  'R S H E G E T S Y I R V Y'],\n ['Y F A M Y Q E N V A Q T D V D T L Y I I Y R D Y T W A E L A Y T W Y',\n  'R V Q E A V E S M V K'],\n ['Y Y T K Y R E I S T N T Y E N T A Y I R Y D D Y T W A V L A Y L S Y',\n  'K Y W D F Y H S L F T V'],\n ['Y Y T K Y R E I S T N T Y E N T A Y I R Y D D Y T W A V D A Y L S Y',\n  'E S H S V T Q V G V Q'],\n ['Y Y A M Y Q E N V A Q T D V D T L Y I I Y R D Y T W A A Q A Y R W Y',\n  'R I Q E L E D L L A K'],\n ['Y H T E Y R E I C A K T D E D T L Y L N Y H D Y T W A V L A Y E W Y',\n  'K P R K T A E V A G K T L'],\n ['Y F A M Y G E K V A H T H V D T L Y V R Y H Y Y T W A V L A Y T W Y',\n  'T P K M L I N F L A K S'],\n ['Y H T E Y R E I C A K T Y E N T A Y L N Y H D Y T W A V L A Y E W Y',\n  'H G E C A L Q I T Y E'],\n ['Y Y A M Y G E N M A S T Y E N I A Y I V Y D S Y T W A V L A Y L W Y',\n  'K G E T V P L D V L Q'],\n ['Y F A M Y Q E N V A Q T D V D T L Y I I Y R D Y T W A E L A Y T W Y',\n  'R L R E L V P G V P R'],\n ['Y Y A M Y G E N M A S T Y E N I A Y I V Y D S Y T W A V L A Y L W Y',\n  'H S R T V T R Y P A N S'],\n ['Y Y A M Y Q E N V A Q T D V D T L Y I I Y R D Y T W A A Q A Y R W Y',\n  'R V Q E A V E S M V K'],\n ['Y Y A M Y G E N M A S T Y E N I A Y I V Y D S Y T W A V L A Y L W Y',\n  'M A R H V L D N S G E'],\n ['Y F A M Y G E K V A H T H V D T L Y V R Y H Y Y T W A V L A Y T W Y',\n  'H V D K V H N I L A E'],\n ['Y Y T K Y R E I S T N T Y E N T A Y I R Y D D Y T W A V L A Y L S Y',\n  'K V Q E S I Q I P N N'],\n ['Y T A M Y Q E N V A H I D V D T L Y I M Y Q D Y T W A V L A Y T W Y',\n  'R Y R E D L D F V L R'],\n ['Y F A M Y Q E N V A Q T D V D T L Y I I Y R D Y T W A E L A Y T W Y',\n  'D L H K L W Y V L L K'],\n ['Y S A M Y E E K V A H T D E N I A Y L M F H Y Y T W A V Q A Y T G Y',\n  'D S Y N V F R L G P S'],\n ['Y Y A M Y R N N V A Q T D V D T L Y I R Y H Y Y T W A V W A Y T W Y',\n  'N A T N T S T S F L S V'],\n ['Y S A M Y E E K V A H T D E N I A Y L M F H Y Y T W A V Q A Y T G Y',\n  'K I S R L L D L V V Q'],\n ['Y H T E Y R E I C A K T D E D T L Y L N Y H D Y T W A V L A Y E W Y',\n  'N L P D L V S G L G D S'],\n ['Y Y A M Y R E I S T N T Y E S N L Y L R Y D S Y T W A E W A Y L W Y',\n  'K V K V G V N G F G R I G'],\n ['Y T A M Y Q E N V A H I D V D T L Y I M Y Q D Y T W A V L A Y T W Y',\n  'R V K E P V K E L L R'],\n ['Y S A M Y E E K V A H T D E N I A Y L M F H Y Y T W A V Q A Y T G Y',\n  'I G K D A F R P L P Q'],\n ['Y H T E Y R E I C A K T D E D T L Y L N Y H D Y T W A V L A Y E W Y',\n  'H V G R G G D V F G D T S'],\n ['Y H T E Y R E I C A K T D E D T L Y L N Y H D Y T W A V L A Y E W Y',\n  'E V R N L P L P V P N'],\n ['Y Y A M Y G E N M A S T Y E N I A Y I V Y D S Y T W A V L A Y L W Y',\n  'P A D K L P S F L A N V'],\n ['Y S A M Y E E K V A H T D E N I A Y L M F H Y Y T W A V Q A Y T G Y',\n  'C G Q D G I P G V Y T'],\n ['Y F A M Y Q E N M A H T D A N T L Y I I Y R D Y T W V A R V Y R G Y',\n  'R L D T G G Q E G L Q Y'],\n ['Y F A M Y G E K V A H T H V D T L Y V R Y H Y Y T W A V L A Y T W Y',\n  'Y I R N W A C F F V Q V'],\n ['Y Y A M Y R E I S T N T Y E S N L Y L R Y D S Y T W A E W A Y L W Y',\n  'T T N N G G E L M L E'],\n ['Y H T E Y R E I C A K T D E N I A Y L N Y H D Y T W A V L A Y E W Y',\n  'K A R R C L T V P L R'],\n ['Y Y A M Y Q E N V A Q T D V D T L Y I I Y R D Y T W A A Q A Y R W Y',\n  'E A T S P V N A I Y S'],\n ['Y Y A M Y G E N M A S T Y E N I A Y I V Y D S Y T W A V L A Y L W Y',\n  'M L E T A S K L L L S G T'],\n ['Y T A M Y Q E N V A H I D V D T L Y I M Y Q D Y T W A V L A Y T W Y',\n  'R L R D L L L I V T R'],\n ['Y Y A M Y G E N M A S T Y E N I A Y I V Y D S Y T W A V L A Y L W Y',\n  'K S E E I T T G S A W'],\n ['Y H T E Y R E I C A K T D E D T L Y L N Y H D Y T W A V L A Y E W Y',\n  'H V E H T L S V S S D S G N'],\n ['Y Y A M Y Q E N V A Q T D V D T L Y I I Y R D Y T W A A Q A Y R W Y',\n  'H L D E A Q R L L Y R'],\n ['Y Y A M Y Q E N V A Q T D V D T L Y I I Y R D Y T W A A Q A Y R W Y',\n  'R V E E G W L S L A K'],\n ['Y F A M Y Q E N M A H T D A N T L Y I I Y R D Y T W V A R V Y R G Y',\n  'L L D E G A M L L Y K'],\n ['Y Y A M Y R N N V A Q T D V D T L Y I R Y H Y Y T W A V W A Y T W Y',\n  'K I K S L A S Q A T R'],\n ['Y Y S E Y R N I Y A Q T D E S N L Y L S Y D Y Y T W A E R A Y E W Y',\n  'S P R M V P R A P W M'],\n ['Y Y A M Y G E N M A S T Y E N I A Y I V Y D S Y T W A V L A Y L W Y',\n  'N P Q K F T I L G G K L'],\n ['Y Y A M Y Q E N V A Q T D V D T L Y I I Y R D Y T W A A Q A Y R W Y',\n  'S V K P G A H L T V K'],\n ['Y F A M Y Q E N V A Q T D V D T L Y I I Y R D Y T W A E L A Y T W Y',\n  'K M K E A L L S I G K'],\n ['Y T A M Y L Q N V A Q T D A N T L Y I M Y R D Y T W A V L A Y T W Y',\n  'T T R K T P Q G P P E I Y'],\n ['Y D S E Y R N I F T N T D E S N L Y L S Y N Y Y T W A V D A Y T W Y',\n  'N V R K P F C L V A S V'],\n ['Y S A M Y E E K V A H T D E N I A Y L M F H Y Y T W A V Q A Y T G Y',\n  'Q M H H V A Q V L R E'],\n ['Y T A M Y L Q N V A Q T D A N T L Y I M Y R D Y T W A V L A Y T W Y',\n  'E W M R A I Q M V A N S'],\n ['Y T A M Y Q E N V A H I D V D T L Y I M Y Q D Y T W A V L A Y T W Y',\n  'R N M E I P K G L I R'],\n ['Y H T E Y R E I C A K T D E D T L Y L N Y H D Y T W A V L A Y E W Y',\n  'H V R Q W L E W A V K'],\n ['Y F A M Y G E K V A H T H V D T L Y V R Y H Y Y T W A V L A Y T W Y',\n  'R A H Q V V E D G Y E'],\n ['Y F A M Y Q E N V A Q T D V D T L Y I I Y R D Y T W A E L A Y T W Y',\n  'R L N Q V I F P V S Y'],\n ['Y F A M Y Q E N V A Q T D V D T L Y I I Y R D Y T W A E L A Y T W Y',\n  'H F Y K V I E V F I R'],\n ['Y H T E Y R E I C A K T D E D T L Y L N Y H D Y T W A V L A Y E W Y',\n  'R F E T Q L K T L A Q'],\n ['Y H T E Y R E I C A K T D E D T L Y L N Y H D Y T W A V L A Y E W Y',\n  'N L R E L E D L I I E A'],\n ['Y Y A M Y G E N M A S T Y E N I A Y I V Y D S Y T W A V L A Y L W Y',\n  'K I F D A A K A P I Q W'],\n ['Y Y A M Y R E I S T N T Y E S N L Y L R Y D S Y T W A E W A Y L W Y',\n  'S I N Q F F E V P F D'],\n ['Y F A M Y G E K V A H T H V D T L Y V R Y H Y Y T W A V L A Y T W Y',\n  'N G R E L F E S S L C'],\n ['Y Y A G Y R E K Y R Q T D V N K L Y L R Y N F Y T W A E R A Y T W Y',\n  'K S D S V T D S G P T F'],\n ['Y F S G Y R E K Y R Q T D V S N L Y L W C D Y Y T W A E R A Y T W Y',\n  'K L D T V V E F P I R G'],\n ['Y H T E Y R E I C A K T D E S N L Y L N Y H D Y T W A V L A Y E W Y',\n  'R I H S L P S Y G L E'],\n ['Y Y A M Y Q E N V A Q T D V D T L Y I I Y R D Y T W A A Q A Y R W Y',\n  'C F E R T V E A L Y K'],\n ['Y H T E Y R E I C A K T D E D T L Y L N Y H D Y T W A V L A Y E W Y',\n  'C W D E P V R I A V R'],\n ['Y Y A M Y Q E N V A Q T D V D T L Y I I Y R D Y T W A A Q A Y R W Y',\n  'E L F R L S Q L G L D A'],\n ['Y Y S E Y R N I Y A Q T D E S N L Y L S Y D Y Y T W A E R A Y E W Y',\n  'L P R D A A N I L V M'],\n ['Y Y A M Y G E N M A S T Y E N I A Y I V Y D S Y T W A V L A Y L W Y',\n  'H T Q K S V N W L L W'],\n ['Y H T E Y R E I C A K T D E D T L Y L N Y H D Y T W A V L A Y E W Y',\n  'R G D L S L S L A L K T'],\n ['Y Y A T Y R N I F T N T Y E N I A Y W T Y N Y Y T W A E L A Y L W H',\n  'R A M S I P T S P T Q I'],\n ['Y Y A M Y G E N M A S T Y E N I A Y I V Y N Y Y T W A V L A Y L W Y',\n  'R S E T F L E V W G N A'],\n ['Y H T E Y R E I C A K T Y E N T A Y L N Y H D Y T W A V L A Y E W Y',\n  'E A I Q G G T F G F N'],\n ['Y Y A M Y R E I S T N T Y E S N L Y L R Y D S Y T W A E W A Y L W Y',\n  'L A R D L L H P S L E'],\n ['Y H T E Y R E I C A K T D E D T L Y L N Y H D Y T W A V L A Y E W Y',\n  'E G R T P P P F P G E'],\n ['Y Y A M Y Q E N V A Q T D V D T L Y I I Y R D Y T W A A Q A Y R W Y',\n  'R L R D L L L I V T R'],\n ['Y Y T K Y R E I S T N T Y E N T A Y I R Y D D Y T W A V L A Y L S Y',\n  'K L K D L E S I L F D'],\n ['Y H T E Y R E I C A K T D E D T L Y L S Y N Y Y T W A V L A Y E W Y',\n  'T V D N L L E V S A R'],\n ['Y S A M Y E E K V A H T D E N I A Y L M F H Y Y T W A V Q A Y T G Y',\n  'N A M S S L Y S G W S'],\n ['Y F A M Y Q E N M A H T D A N T L Y I I Y R D Y T W V A R V Y R G Y',\n  'D L E R I P H S I F S L'],\n ['Y H T E Y R E I C A K T D E D T L Y L N Y H D Y T W A V L A Y E W Y',\n  'H I D L G P S M L G D V L'],\n ['Y F A M Y Q E N M A H T D A N T L Y I I Y R D Y T W V A R V Y R G Y',\n  'T A E E M Y D I F G K Y'],\n ['Y Y T K Y R E I S T N T Y E N T A Y I R Y D D Y T W A V L A Y L S Y',\n  'E G D S A A E M N G E'],\n ['Y S A G Y R E K Y R Q A D V N K L Y L R F N F Y T W A E R A Y T W Y',\n  'R L Y D P A S G T I S L'],\n ['Y H T K Y R E I S T N T Y E N I A Y W R Y N L Y T W A E L A Y L W Y',\n  'H F M E L V T C G L S'],\n ['Y F A M Y G E K V A H T H V D T L Y V R Y H Y Y T W A V L A Y T W Y',\n  'S V D K F L S V F Y T V'],\n ['Y Y A M Y G E N M A S T Y E N I A Y I V Y D S Y T W A V L A Y L W Y',\n  'S P D E L P S A G G D G G K'],\n ['Y Y A M Y R E I S T N T Y E S N L Y L R Y D S Y T W A E W A Y L W Y',\n  'R L H E A F S P V S Y'],\n ['Y T A M Y Q E N V A H I D V D T L Y I M Y Q D Y T W A V L A Y T W Y',\n  'R Y M D A W N T V S R'],\n ['Y Y A M Y G E N M A S T Y E N I A Y I V Y D S Y T W A V L A Y L W Y',\n  'E G Q Q S G T V S P Q'],\n ['Y T A M Y Q E N V A H I D V D T L Y I M Y Q D Y T W A V L A Y T W Y',\n  'R Y M D A W N T Y S R'],\n ['Y H T K Y R E I S T N T Y E S N L Y L R Y N Y Y S L A V L A Y E W Y',\n  'R G S R Y S R S P Y S'],\n ['Y H T E Y R E I C A K T D E D T L Y L N Y H D Y T W A V L A Y E W Y',\n  'H L T D A E K A A V N G L W'],\n ['Y H T E Y R E I C A K T D E D T L Y L N Y H D Y T W A V L A Y E W Y',\n  'R P R K A M E L F L K'],\n ['Y Y S E Y R N I Y A Q T D E S N L Y L S Y D Y Y T W A E R A Y E W Y',\n  'K P R E V F R L P T D L'],\n ['Y Y A M Y Q E N V A Q T D V D T L Y I I Y R D Y T W A A Q A Y R W Y',\n  'Q C Q K L W K L C L Q'],\n ['Y F A M Y G E K V A H T H V D T L Y V R Y H Y Y T W A V L A Y T W Y',\n  'H A E K V A K A F W M A I'],\n ['Y F A M Y Q E N V A Q T D V D T L Y I I Y R D Y T W A E L A Y T W Y',\n  'R L E D A F I V I S D'],\n ['Y Y A M Y G E N M A S T Y E N I A Y I V Y D S Y T W A V L A Y L W Y',\n  'H A W E V A L G G L Q S W'],\n ['Y F A M Y Q E N M A H T D A N T L Y I I Y R D Y T W V A R V Y R G Y',\n  'N S E Q V V Q S V V H L Y'],\n ['Y S A M Y E E K V A H T D E N I A Y L M F H Y Y T W A V Q A Y T G Y',\n  'R L R D L L L I V T R'],\n ['Y Y T K Y R E I S T N T Y E N T A Y I R Y D D Y T W A V D A Y L S Y',\n  'H V H V L F H L W W D'],\n ['Y H T K Y R E I S T N T Y E S N L Y L S Y N Y Y T W A V L A Y E W Y',\n  'M P Q T L A F C Y L S L'],\n ['Y H T E Y R E I C A K T D E D T L Y L N Y H D Y T W A V L A Y E W Y',\n  'R I Q M L L F G L F S L F'],\n ['Y H T E Y R E I C A K T D E D T L Y L N Y H D Y T W A V L A Y E W Y',\n  'E Q K E P G E F L I Q'],\n ['Y Y A M Y G E N M A S T Y E N I A Y I V Y N Y Y T W A V L A Y L W Y',\n  'R S W T A A D T A A Q I'],\n ['Y H T E Y R E I C A K T D E D T L Y L N Y H H Y T W A V L A Y E W Y',\n  'R L N Q V I F P V S Y'],\n ['Y H T E Y R E I C A K T D E D T L Y L N Y H D Y T W A V L A Y E W Y',\n  'K I K E V P T Q F L D'],\n ['Y Y S E Y R N I Y A Q T D E S N L Y L S Y D Y Y T W A E R A Y E W Y',\n  'N I H T S P S P G I Q V'],\n ['Y Y S E Y R N I Y A Q T D E S N L Y L S Y D Y Y T W A E R A Y E W Y',\n  'H P H P S S M V T A M G'],\n ['Y Y A M Y G E N M A S T Y E N I A Y I V Y D S Y T W A V L A Y L W Y',\n  'R S M R G G Y I G S T Y'],\n ['Y H T E Y R E I C A K T D E D T L Y L N Y H D Y T W A V L A Y E W Y',\n  'E V T H F C R G I P M V'],\n ['Y F A M Y Q E N M A H T D A N T L Y I I Y R D Y T W V A R V Y R G Y',\n  'E T R R V F K V F L E N V I'],\n ['Y H T E Y R E I C A K T D E D T L Y L N Y H D Y T W A V L A Y E W Y',\n  'K M Q S L V Q W G L D S Y'],\n ['Y F A M Y G E K V A H T H V D T L Y V M Y H Y Y T W A V L A Y T W Y',\n  'E I K N S V E F T G N'],\n ['Y F A M Y G E K V A H T H V D T L Y V R Y H Y Y T W A V L A Y T W Y',\n  'S N D T S L D S G V D'],\n ['Y S A G Y R E K Y R Q A D V N K L Y L R F N F Y T W A E R A Y T W Y',\n  'D I K C L F N H F L K I'],\n ['Y Y A M Y Q E N V A Q T D V D T L Y I I Y R D Y T W A A Q A Y R W Y',\n  'R V E Q A V E S M V K'],\n ['Y H T E Y R E I C A K T D E D T L Y L N Y H D Y T W A V L A Y E W Y',\n  'D L K V L G E I C L R'],\n ['Y F A M Y Q E N M A H T D A N T L Y I I Y R D Y T W V A R V Y R G Y',\n  'T T D Q S L Q A G G Q F Y'],\n ['Y H T E Y R E I C A K T D E D T L Y L N Y H H Y T W A V L A Y E W Y',\n  'R L Y D P A S G T I S L'],\n ['Y F A M Y G E K V A H T H V D T L Y V R Y H Y Y T W A V L A Y T W Y',\n  'E I H D I L D L T F T V'],\n ['Y Y S E Y R N I Y A Q T D E S N L Y L S Y D Y Y T W A E R A Y E W Y',\n  'K F N N I F R T N L K'],\n ['Y Y A M Y R E I S T N T Y E S N L Y L R Y D S Y T W A E W A Y L W Y',\n  'C S F L S K T R V'],\n ['Y Y A M Y R N N V A Q T D V D T L Y I R Y H Y Y T W A V W A Y T W Y',\n  'T I A V S M A N I'],\n ['Y F A M Y Q E N V A Q T D V D T L Y I I Y R D Y T W A E L A Y T W Y',\n  'S I S V S E M E P'],\n ['Y F A M Y G E K V A H T H V D T L Y V R Y H Y Y T W A V L A Y T W Y',\n  'W L I G F D F D V'],\n ['Y Y A M Y R E I S T N T Y E S N L Y L R Y D S Y T W A E W A Y L W Y',\n  'S Y V S F E T N L'],\n ['Y H T E Y R E I C A K T D E D T L Y L N Y H D Y T W A V L A Y E W Y',\n  'F P V Y S H V D Y'],\n ['Y Y S E Y R N I Y A Q T D E S N L Y L S Y D Y Y T W A E R A Y E W Y',\n  'S Y S S S R S D L'],\n ['Y Y A M Y R N N V A Q T D V D T L Y V R Y H Y Y T W A V L A Y T W Y',\n  'S T L Y T Q Y R F'],\n ['Y F A M Y G E K V A H T H V D T L Y V R Y H Y Y T W A V L A Y T W Y',\n  'M L A S F K C S L'],\n ['Y Y S E Y R N I C T N T D E S N L Y L W Y N F Y T W A E L A Y T W H',\n  'F G F L C H S Q F'],\n ['Y Y S E Y R N I Y A Q T D E S N L Y L S Y D Y Y T W A E R A Y E W Y',\n  'S P L V S R L T L'],\n ['Y Y S E Y R N I Y A Q T D E S N L Y L S Y D Y Y T W A E R A Y E W Y',\n  'S P A G S K L R L'],\n ['Y S A G Y R E K Y R Q A D V N K L Y L R F N F Y T W A E R A Y T W Y',\n  'T Y L G N E T S V'],\n ['Y Y A G Y R E K Y R Q T D V N K L Y L R Y N F Y T W A E R A Y T W Y',\n  'S P G F S D F M V'],\n ['Y S A M Y E E K V A H T D E N I A Y L M F H Y Y T W A V Q A Y T G Y',\n  'T Y L S S R A K L'],\n ['Y S A M Y E E K V A H T D E N I A Y L M F H Y Y T W A V Q A Y T G Y',\n  'Y Y I T T R A Q F'],\n ['Y Y A T Y G E N M A S T Y E N I A Y I R Y D S Y T W A V L A Y L W Y',\n  'S P I P F E L D P'],\n ['Y S A G Y R E K Y R Q A D V N K L Y L R F N F Y T W A E R A Y T W Y',\n  'W L A Y P H Y K P P'],\n ['Y Y S E Y R N I C T N T D E S N L Y L W Y N F Y T W A E L A Y T W H',\n  'T I V S S E L Q L'],\n ['Y T A M Y L Q N V A Q T D A N T L Y I M Y R D Y T W A V L A Y T W Y',\n  'L V L A S R T Q L'],\n ['Y D S G Y R E K Y R Q A D V N K L Y L W Y D S Y T W A E W A Y T W Y',\n  'F Y I T S R T Q F'],\n ['Y H T E Y R E I C A K T D E D T L Y L N Y H D Y T W A V L A Y E W Y',\n  'F V G P S D T S L G A A P'],\n ['Y F A M Y G E K V A H T H V D T L Y V R Y H Y Y T W A V L A Y T W Y',\n  'S L P V N N S N S'],\n ['Y H T E Y R E I C A K T D E D T L Y L N Y H D Y T W A V L A Y E W Y',\n  'S S P V P R Y R V'],\n ['Y S A G Y R E K Y R Q T D V S N L Y L W F D S Y T W A E R A Y T W Y',\n  'S Y L I T S V E L'],\n ['Y F A M Y G E K V A H T H V D T L Y V R Y H Y Y T W A V L A Y T W Y',\n  'F V T S S H L Q L'],\n ['Y Y A G Y R E K Y R Q T D V S N L Y I R Y D Y Y T W A E L A Y L W Y',\n  'C P S V P D Y T A'],\n ['Y D S G Y R E N Y R Q A D V S N L Y L R Y D S Y T L A A L A Y T W Y',\n  'S S S P S D S C L'],\n ['Y Y A M Y R N N V A Q T D V D T L Y I R Y H Y Y T W A V W A Y T W Y',\n  'T T F V N H P Q V'],\n ['Y Y A G Y R E K Y R Q T D V S N L Y I R Y D Y Y T W A E L A Y L W Y',\n  'D L L P S R P E V'],\n ['Y Y A M Y Q E N V A Q T D V D T L Y I I Y R D Y T W A A Q A Y R W Y',\n  'S Y L G N H M N I'],\n ['Y D S G Y R E K Y R Q A D V S N L Y L R S D S Y T L A A L A Y T W Y',\n  'S L L V C N S R I L'],\n ['Y Y A G Y R E K Y R Q T D V S N L Y L W Y D S Y T W A A Q A Y T W Y',\n  'P L A P S D S T G'],\n ['Y F A M Y Q E N V A Q T D V D T L Y I I Y R D Y T W A E L A Y T W Y',\n  'T P I I Y K Y D L'],\n ['Y Y A M Y R N N V A Q T D V D T L Y I R Y H Y Y T W A V W A Y T W Y',\n  'Y L V A Y K A T V'],\n ['Y H T K Y R E I S T N T Y E N I A Y W R Y N L Y T W A E L A Y L W Y',\n  'S G S T S H C D S'],\n ['Y H T E Y R E I C A K T D E D T L Y L N Y H D Y T W A V L A Y E W Y',\n  'S L L P C H L E P V'],\n ['Y F A M Y G E K V A H T H V D T L Y V R Y H Y Y T W A V L A Y T W Y',\n  'N A F L S K S S V'],\n ['Y Y A T Y R N I F T N T Y E N I A Y W T Y N Y Y T W A E L A Y L W H',\n  'S L A L P R M C S'],\n ['Y Y A M Y R E I S T N T Y E S N L Y L R Y D S Y T W A E W A Y L W Y',\n  'C S A A P Q P E P A'],\n ['Y H T E Y R E I C A K T D E D T L Y L N Y H D Y T W A V L A Y E W Y',\n  'T W S P S E W Q'],\n ['Y Y A T Y R N I F T N T Y E S N L Y I R Y D S Y T W A V L A Y L W Y',\n  'N A A P S H T K F'],\n ['Y Y A G Y R E K Y R Q T D V S N L Y I R Y D Y Y T W A E L A Y L W Y',\n  'S A I S P K S S L'],\n ['Y F S G Y R E K Y R Q T D V S N L Y L W C D Y Y T W A E R A Y T W Y',\n  'N I I V S E V Q F'],\n ['Y Y A G Y R E K Y R Q T D V S N L Y L W Y D S Y T W A A Q A Y T W Y',\n  'Y A A P Y K S D F'],\n ['Y Y A G Y R E N Y R Q T D V N K L Y I R Y D L Y T W A E L A Y T W Y',\n  'S I L T T H T T L'],\n ['Y F A M Y Q E N M A H T D A N T L Y I I Y R D Y T W V A R V Y R G Y',\n  'T G I W S E V C P L'],\n ['Y Y A G Y R E K Y R Q A D V S N L Y L W Y D S Y T W A E W A Y T W Y',\n  'S L F G C H G Q G'],\n ['Y Y A G Y R E N Y R Q T D V N K L Y I R Y D L Y T W A E L A Y T W Y',\n  'F S A T P R Y M'],\n ['Y Y S E Y R N I C T N T D E S N L Y L R Y N F Y T W A V L T Y T W Y',\n  'N S S P S R T S L'],\n ['Y Y A M Y G E N M A S T Y E N I A Y I V Y D S Y T W A V L A Y L W Y',\n  'S S L S I K W D P V V P'],\n ['Y F A M Y G E K V A H T H V D T L Y V R Y H Y Y T W A E W A Y T W Y',\n  'C S A G T Q T R L'],\n ['Y F A M Y G E K V A H T H V D T L Y V R Y H Y Y T W A V L A Y T W Y',\n  'S L I P T S P Q V'],\n ['Y Y A G Y R E K Y R Q A D V N K L Y I R Y N F Y S L A E L A Y E W Y',\n  'F V V V N H S Q S'],\n ['Y S A G Y R E K Y R Q A D V N K L Y L R F N F Y T W A E R A Y T W Y',\n  'S Y L I T S V E L'],\n ['Y D S G Y R E K Y R Q A D V N K L Y L W Y D S Y T W A E W A Y T W Y',\n  'Y Y I T T R V Q F'],\n ['Y F A M Y G E K V A H T H V D T L Y V R Y H Y Y T W A V L A Y T W Y',\n  'Y L Y I M R V M A'],\n ['Y Y A M Y R N N V A Q T D V D T L Y I R Y H Y Y T W A V W A Y T W Y',\n  'T P G A P E T H P'],\n ['Y Y A G Y R E K Y R Q A D V S N L Y L W Y D S Y T W A E W A Y T W Y',\n  'S L T A S M Y E Y'],\n ['Y Y A G Y R E K Y R Q T D V N K L Y L R Y N F Y T W A E R A Y T W Y',\n  'S G V G L K Y S A'],\n ['Y S A M Y E E K V A H T D E N I A Y L M F H Y Y T W A V Q A Y T G Y',\n  'S P S V P H S T P'],\n ['Y Y A M Y G E K V A H T H V D T L Y V R Y H Y Y T W A V L A Y T W Y',\n  'S L I G S K T Q I'],\n ['Y Y S E Y R N I Y A Q T D E S N L Y L S Y D Y Y T W A E R A Y E W Y',\n  'M P S S S K T K P V L'],\n ['Y H T K Y R E I Y A Q T D E S N L Y W R Y N L Y T W A V D A Y L S Y',\n  'Y S L M S R Y Q F'],\n ['Y Y A G Y R E K Y R Q T D V S N L Y L R Y N F Y T W A E R A Y T W Y',\n  'T P S S S R L E L'],\n ['Y Y A G Y R E K Y R Q A D V N K L Y I R Y N F Y S L A E L A Y E W Y',\n  'F V A P S D I Q L'],\n ['Y Y A M Y R E K Y R Q T D V S N L Y L R Y D S Y T W A E W A Y L W Y',\n  'T A W L P R S S Y'],\n ['Y Y A G Y R E K Y R Q T D V S N L Y I R Y D Y Y T W A E L A Y L W Y',\n  'F P F F T Q T K Y'],\n ['Y H T K Y R E I S T N T Y E S N L Y L S Y N Y Y T W A V L A Y E W Y',\n  'S L L S F R L D L'],\n ['Y Y A M Y R E I S T N T Y E S N L Y L R Y D S Y T W A E W A Y L W Y',\n  'S A F A S N P E F'],\n ['Y Y A T Y G E N M A S T Y E N I A Y I R Y D S Y T W A V L A Y L W Y',\n  'M A V G C D S S G'],\n ['Y D S G Y R E K Y R Q A D V S N L Y F R Y D F Y T L A A D A Y T W Y',\n  'S L I P T S P Q V'],\n ['Y F A M Y G E K V A H T H V D T L Y V M Y H Y Y T W A V L A Y T W Y',\n  'Y I L P W E S E L'],\n ['Y Y A T Y R N I F T N T Y E S N L Y I R Y D F Y T W A V L A Y L W Y',\n  'T P F G S S I E L'],\n ['Y H S T Y R E I S T N T Y E D T L Y I R S N F Y T W A V D A Y T W Y',\n  'S Y P L P D P R'],\n ['Y Y A T Y R N I F T N T Y E S N L Y I R Y D S Y T W A V L A Y L W Y',\n  'Y L V I W C I D L'],\n ['Y Y A G Y R E K Y R Q A D V N K L Y I R Y N F Y S L A E L A Y E W Y',\n  'L L L L T R S S'],\n ['Y Y S E Y R N I Y A Q T D E S N L Y L S Y D Y Y T W A E R A Y E W Y',\n  'P L L A P D S M L'],\n ['Y Y A G Y R E K Y R Q A D V S N L Y L W Y D S Y T W A E W A Y T W Y',\n  'P A P F S R Y Q'],\n ['Y Y S E Y R N I Y A Q T D E S N L Y L S Y D Y Y T W A E R A Y E W Y',\n  'S P G T S H P M L'],\n ['Y Y A T Y R N I F T N T Y E S N L Y I R Y D S Y T W A V L A Y L W Y',\n  'T P V F S K A R Y'],\n ['Y F A M Y Q E N M A H T D A N T L Y I I Y R D Y T W V A R V Y R G Y',\n  'S P V S S D V E V'],\n ['Y H T E Y R E I C A K T D E D T L Y L N Y H D Y T W A V L A Y E W Y',\n  'F G Y V C E T E F P A'],\n ['Y Y A T Y R N I F T N T Y E S N L Y I R Y D S Y T W A V L A Y L W Y',\n  'T L P G T Q A Q V'],\n ['Y F A M Y G E K V A H T H V D T L Y V R Y H Y Y T W A V L A Y T W Y',\n  'T L F L W K I E V'],\n ['Y Y A G Y R E K Y R Q T D V S N L Y I R Y D Y Y T W A E L A Y L W Y',\n  'T L A V S K N K A'],\n ['Y Y A M Y R N N V A Q T D V D T L Y I R Y H Y Y T W A V W A Y T W Y',\n  'L L L G T R S N L'],\n ['Y S A M Y E E K V A H T D E N I A Y L M F H Y Y T W A V Q A Y T G Y',\n  'T V Y P C M I C G'],\n ['Y D S G Y R E K Y R Q A D V S N L Y F R Y D F Y T L A A D A Y T W Y',\n  'S S G F S H F N S'],\n ['Y Y A G Y R E K Y R Q T D V N K L Y L R Y D S Y T W A E W A Y E W Y',\n  'T T F P P R W T P'],\n ['Y S A G Y R E K Y R Q T D V S N L Y L W F D S Y T W A E R A Y T W Y',\n  'S G P P F N S T'],\n ['Y Y A G Y R E K Y R Q A D V S N L Y L W Y D S Y T W A E W A Y T W Y',\n  'T L P A P N W N L'],\n ['Y Y A T Y R N I F T N T Y E S N L Y I R Y D S Y T W A V R A Y L W Y',\n  'C Y I L F R L D S'],\n ['Y Y A M Y R N N V A Q T D V D T L Y I R Y H Y Y T W A V W A Y T W Y',\n  'C S L I F Q S Q T Y'],\n ['Y S A G Y R E K Y R Q A D V N K L Y L R F N F Y T W A E R A Y T W Y',\n  'Y Y I T T R A Q F'],\n ['Y F A M Y Q E N M A H T D A N T L Y I I Y R D Y T W V A R V Y R G Y',\n  'F Y W T S D S C P'],\n ['Y F A M Y G E K V A H T H V D T L Y V R Y H Y Y T W A V L A Y T W Y',\n  'S L G G F E I T P P V V'],\n ['Y H T E Y R E I C A K T D E D T L Y L N Y H D Y T W A V L A Y E W Y',\n  'S G F P S N P K F'],\n ['Y Y T K Y R E I S T N T Y E N T A Y I R Y D D Y T W A V L A Y L S Y',\n  'S L S I I K S K I'],\n ['Y Y A M Y R N N V A Q T D V D T L Y I M Y R D Y T W A V W A Y T W Y',\n  'C F S A S E P D A'],\n ['Y Y A G Y R E N Y R Q T D V N K L Y I R Y D L Y T W A E L A Y T W Y',\n  'F S I G S N L N V'],\n ['Y Y A G Y R E K Y R Q T D V N K L Y L R Y D S Y T W A E W A Y E W Y',\n  'S T V G I D F K V'],\n ['Y S A M Y E E K V A H T D E N I A Y L M F H Y Y T W A V Q A Y T G Y',\n  'P A P L C E Y C'],\n ['Y T A M Y L Q N V A Q T D A N T L Y I M Y R D Y T W A V L A Y T W Y',\n  'N A A I S D Y D Y Y'],\n ['Y Y A G Y R E K Y R Q T D V S N L Y I R Y D Y Y T W A E L A Y L W Y',\n  'Y S I Y P K S E L'],\n ['Y S A G Y R E K Y R Q A D V N K L Y L R F N F Y T W A E R A Y T W Y',\n  'S S L L C D C H L'],\n ['Y H T E Y R E I C A K T D E D T L Y L N Y H H Y T W A V L A Y E W Y',\n  'Q P V L S Q T E A'],\n ['Y Y A G Y R E K Y R Q T D V S N L Y I R Y D Y Y T W A E L A Y L W Y',\n  'T S G L L K S M'],\n ['Y Y A T Y R N I F T N T Y E S N L Y I R Y D S Y T W A V L A Y L W Y',\n  'M P A G T E L T Y'],\n ['Y F S G Y R E K Y R Q T D V S N L Y L W C D Y Y T W A E R A Y T W Y',\n  'T V P A T E Q E L'],\n ['Y Y S E Y R N I C T N T Y E S N L Y L R Y D S Y T W A E L A Y L W Y',\n  'T I L S C N V E A'],\n ['Y Y A M Y R E I S T N T Y E S N L Y L R Y D S Y T W A E W A Y L W Y',\n  'P V L S S D S D F'],\n ['Y Y S E Y R N I Y A Q T D E S N L Y L S Y D Y Y T W A E R A Y E W Y',\n  'Y P A G S Q V M'],\n ['Y Y S E Y R N I Y A Q T D E S N L Y L S Y D Y Y T W A E R A Y E W Y',\n  'Q P A A S H L T V'],\n ['Y Y T K Y R E I S T N T Y E N T A Y I R Y D D Y T W A V D A Y L S Y',\n  'T V V F W D M R L'],\n ['Y H S T Y R E I S T N T Y E D T L Y I R S N F Y T W A V D A Y T W Y',\n  'W A L Y S H I Q L A'],\n ['Y H T E Y R E I C A K T D E D T L Y L N Y H D Y T W A V L A Y E W Y',\n  'T P V T P H L R S'],\n ['Y H S T Y R N I S T N T D E S N L Y L R Y D S Y T W A V L A Y T W H',\n  'Y G L G T R L Q'],\n ['Y H T E Y R E I C A K T D E D T L Y L N Y H D Y T W A V L A Y E W Y',\n  'F L P I P E T T L'],\n ['Y Y A M Y R E I S T N T Y E S N L Y L R Y D S Y T W A E W A Y L W Y',\n  'F A F V C H P E V'],\n ['Y F A M Y Q E N V A H T D E S I A Y I M Y Q D Y T W A V L A Y T W Y',\n  'S P L A T R P S F'],\n ['Y Y A M Y R E I S T N T Y E S N L Y L R Y D S Y T W A E W A Y L W Y',\n  'S S A V T D L N I'],\n ['Y Y A G Y R E K Y R Q T D V N K L Y L R Y D S Y T W A E W A Y E W Y',\n  'T T F V N H P Q V'],\n ['Y H T E Y R E I C A K T D E D T L Y L N Y H D Y T W A V L A Y E W Y',\n  'M G L I T H T D S P'],\n ['Y F A M Y G E K V A H T H V D T L Y L R Y H Y Y T W A V W A Y T W Y',\n  'Y L V A Y K A T V'],\n ['Y Y A T Y R N I F T N T Y E S N L Y I R Y D S Y T W A V L A Y L W Y',\n  'T P S V S R T S F'],\n ['Y D S G Y R E N Y R Q A D V S N L Y L R Y D S Y T L A A L A Y T W Y',\n  'S A F A S N P E F'],\n ['Y F A M Y Q E N V A H T D E S I A Y I M Y Q D Y T W A V L A Y T W Y',\n  'M L F P S R T T W'],\n ['Y Y A G Y R E K Y R Q T D V S N L Y I R Y D Y Y T W A E L A Y L W Y',\n  'S P A P T H N S L'],\n ['Y F A M Y Q E N V A H T D E S I A Y I M Y Q D Y T W A V L A Y T W Y',\n  'S I S P F H I R W'],\n ['Y F A M Y Q E N V A H T D E S I A Y I M Y Q D Y T W A V L A Y T W Y',\n  'S A F A S N P E F'],\n ['Y Y A M Y G E K V A H T H V D T L Y V R Y H Y Y T W A V L A Y T W Y',\n  'T S I V S D N T G'],\n ['Y Y S E Y R N I Y A Q T D E S N L Y L S Y D Y Y T W A E R A Y E W Y',\n  'T A G A C D T K S'],\n ['Y Y A M Y R E I S T N T Y E S N L Y L R Y D S Y T W A E W A Y L W Y',\n  'S A A I T H S T Y'],\n ['Y Y A E Y R N I Y A Q T D E S N L Y W T Y N L Y T W A V L A Y L W Y',\n  'S P V P S H W M V A'],\n ['Y H T K Y R E I Y A Q T D E S N L Y W R Y N L Y T W A V D A Y L S Y',\n  'Y I I S T H Y Q F'],\n ['Y D S G Y R E N Y R Q A D V S N L Y L R Y D S Y T L A A L A Y T W Y',\n  'S S L P T R I N I'],\n ['Y Y A G Y R E K Y R Q T D V S N L Y L W Y D S Y T W A A Q A Y T W Y',\n  'N A F L S K S S V'],\n ['Y Y A G Y R E K Y R Q T D V S N L Y I R Y D Y Y T W A E L A Y L W Y',\n  'F V T S S H L Q L'],\n ['Y F A M Y Q E N V A Q T D V D T L Y I I Y R D Y T W A E L A Y T W Y',\n  'S P L P V H Y E L'],\n ['Y Y S E Y R N I Y A Q T D E S N L Y L S Y D Y Y T W A E R A Y E W Y',\n  'A P A G T R S Q V'],\n ['Y Y A M Y R E K Y R Q T D V S N L Y L R Y D S Y T W A E W A Y L W Y',\n  'T C A I C R V Q V'],\n ['Y S A M Y E E K V A H T D E N I A Y L M F H Y Y T W A V L A Y T G Y',\n  'F Y I T T R Y K Y'],\n ['Y Y S E Y R N I Y A Q T D E S N L Y L S Y D Y Y T W A E R A Y E W Y',\n  'S P S L S R I D L'],\n ['Y Y A M Y G E N M A S T Y E N I A Y I V Y D S Y T W A V L A Y L W Y',\n  'S L L S T E A K L V'],\n ['Y Y A T Y R N I F T N T Y E S N L Y I R Y D S Y T W A V L A Y L W Y',\n  'S A F A S N P E F'],\n ['Y Y S E Y R N I Y A Q T D E S N L Y L S Y D Y Y T W A E R A Y E W Y',\n  'S P A P P R P S L'],\n ['Y Y A M Y G E N M A S T Y E N I A Y I V Y D S Y T W A V L A Y L W Y',\n  'S S L P T Q M D Y'],\n ['Y S A G Y R E K Y R Q A D V N K L Y L R F N F Y T W A E R A Y T W Y',\n  'F V A P S D I Q L'],\n ['Y Y A G Y R N I Y A Q T D E S N L Y W T Y N L Y T W A V L A Y T W Y',\n  'S P A P P Q L C V V'],\n ['Y F A M Y G E K V A H T H V D T L Y V R Y H Y Y T W A V L A Y T W Y',\n  'Y V W S S K T E T V'],\n ['Y H T E Y R E I C A K T D E D T L Y L N Y H D Y T W A V L A Y E W Y',\n  'F Y W T S D S C P'],\n ['Y Y A M Y R N N V A Q T D V D T L Y I R Y H Y Y T W A V W A Y T W Y',\n  'Y I Y S S N F H A V'],\n ['Y Y A T Y G E N M A S T Y E N I A Y I R Y D S Y T W A V L A Y L W Y',\n  'Y S L M S R Y Q F'],\n ['Y Y T K Y R E I S T N T Y E N T A Y I R Y D D Y T W A V L A Y L S Y',\n  'T W L V T C I D Y'],\n ['Y D S G Y R E K Y R Q A D V N K L Y L W Y D S Y T W A E W A Y T W Y',\n  'S Y V S I H S S G F'],\n ['Y Y T K Y R E I S T N T Y E N T A Y I R Y D D Y T W A V D A Y L S Y',\n  'S F F A V H S N P'],\n ['Y Y S E Y R N I Y A Q T D E S N L Y L S Y D Y Y T W A E R A Y E W Y',\n  'S P A P T H N S L'],\n ['Y Y A M Y R E I S T N T Y E S N L Y L R Y D S Y T W A E W A Y L W Y',\n  'Y I I S T H Y Q F'],\n ['Y H T K Y R E I S T N T Y E N I A Y W R Y N L Y T W A E L A Y L W Y',\n  'S P F Y C Q P C'],\n ['Y S A G Y R E K Y R Q A D V N K L Y L R F N F Y T W A E R A Y T W Y',\n  'Y S L M S R Y Q F'],\n ['Y H T K Y R E I S T N T Y E S N L Y L R Y N Y Y S L A V L A Y E W Y',\n  'Q F V Y M R F N F'],\n ['Y Y A T Y G E N M A S T Y E N I A Y I R Y D S Y T W A V L A Y L W Y',\n  'W S L S V E W Q F'],\n ['Y D S G Y R E K Y R Q A D V S N L Y F R Y D F Y T L A A D A Y T W Y',\n  'S Y A Y T K V T G'],\n ['Y F A M Y Q E N M A H T D A N T L Y I I Y R D Y T W V A R V Y R G Y',\n  'W V I I S M T T V'],\n ['Y Y S E Y R N I Y A Q T D E S N L Y L S Y D Y Y T W A E R A Y E W Y',\n  'S P S P S Q L Q A'],\n ['Y H T E Y R E I C A K T D E S T L Y L N Y H D Y T W A E L A Y E W Y',\n  'T V V A W D P R G'],\n ['Y Y A T Y R E I S T N T Y E N I A Y W T Y N Y Y T W A E L A Y L W H',\n  'Y S A L S Q I R V'],\n ['Y Y A M Y R N N V A Q T D V D T L Y I R Y H Y Y T W A V W A Y T W Y',\n  'T I V F S N P S S'],\n ['Y H T E Y R E I C A K T D E D T L Y L N Y H D Y T W A V L A Y E W Y',\n  'S P A G T Q S R S Y L'],\n ['Y S A G Y R E K Y R Q A D V N K L Y L R F N F Y T W A E R A Y T W Y',\n  'M P S A S M T R L'],\n ['Y S A M Y Q E N V A H T D E N T L Y I I Y E H Y T W A R L A Y T W Y',\n  'N A A I S D Y D Y'],\n ['Y S A M Y E E K V A H T D E N I A Y L M F H Y Y T W A V Q A Y T G Y',\n  'T T A A C M M D L'],\n ['Y Y A G Y R E K Y R Q T D V N K L Y L R Y D S Y T W A E W A Y E W Y',\n  'S L I P T S P Q V'],\n ['Y Y A M Y Q E N V A Q T D V D T L Y I I Y R D Y T W A A Q A Y R W Y',\n  'S L I S C D T C S'],\n ['Y S A G Y R E K Y R Q T D V S N L Y L W F D S Y T W A E R A Y T W Y',\n  'Y Y I T T R V Q F'],\n ['Y Y T K Y R E I S T N T Y E N T A Y I R Y D D Y T W A V L A Y L S Y',\n  'S S L I N H W R V'],\n ['Y F A M Y G E K V A H T H V D T L Y V R Y H Y Y T W A V L A Y T W Y',\n  'S G G P T S F R L'],\n ['Y Y A G Y R E K Y R Q T D V S N L Y L W Y D S Y T W A A Q A Y T W Y',\n  'F Y I T S R T Q F'],\n ['Y D S G Y R E N Y R Q A D V S N L Y L R Y D S Y T L A A L A Y T W Y',\n  'N Y I A S K Y N L'],\n ['Y H T E Y R E I C A K T D E D T L Y L N Y H D Y T W A V L A Y E W Y',\n  'S A A L N R S R A'],\n ['Y Y A T Y R N I F T N T Y E N I A Y W T Y N Y Y T W A E L A Y L W H',\n  'F P Y F F E S R I'],\n ['Y Y A T Y R N I F T N T Y E S N L Y I R Y D F Y T W A V L A Y L W Y',\n  'S Y S V Y D S S A'],\n ['Y F A M Y Q E N V A H T D E S I A Y I M Y Q D Y T W A V L A Y T W Y',\n  'S V A A L R F E W'],\n ['Y D S G Y R E K Y R Q A D V S N L Y F R Y D F Y T L A A D A Y T W Y',\n  'T T A V T D P R Y'],\n ['Y S A G Y R E K Y R Q T D V S N L Y L W F D S Y T W A E R A Y T W Y',\n  'F Y I T S R T Q F'],\n ['Y H S T Y R N I S T N T Y E S N L Y L R Y D S Y T W A V L A Y T W H',\n  'T Y L Y N K Y S F'],\n ['Y Y A M Y Q E N V A Q T D V D T L Y I I Y R D Y T W A A Q A Y R W Y',\n  'T A I L S S P D G'],\n ['Y Y A G Y R E K Y R Q T D V N K L Y L R Y D S Y T W A E W A Y E W Y',\n  'S A F P T T I N F'],\n ['Y F A M Y Q E N V A Q T D V D T L Y I I Y R D Y T W A E L A Y T W Y',\n  'T V W P T M I T P'],\n ['Y S A M Y E E K V A H T D E N I A Y L M F H Y Y T W A V L A Y T G Y',\n  'M F L I T E N K I'],\n ['Y Y A G Y R E K Y R Q T D V N K L Y L R Y N F Y T W A E R A Y T W Y',\n  'T V A P F N P T V'],\n ['Y Y S E Y R N I C T N T D E S N L Y L R Y N F Y T W A V L T Y T W Y',\n  'T Y L Y N K Y S F'],\n ['Y F A M Y Q E N V A H T D E S I A Y I M Y Q D Y T W A V L A Y T W Y',\n  'Q L L L M R T T W'],\n ['Y T A M Y L Q N V A Q T D A N T L Y I M Y R D Y T W A V L A Y T W Y',\n  'F Y T A T E S Q Y'],\n ['Y H T E Y R E I C A K T D E D T L Y L N Y H D Y T W A V L A Y E W Y',\n  'S T Y F S D T D L'],\n ['Y Y S E Y R N I C T N T D E S N L Y L W Y N F Y T W A E L A Y T W H',\n  'T P S P T R Y S L'],\n ['Y Y A G Y R E K Y R Q T D V S N L Y L W Y D S Y T W A A Q A Y T W Y',\n  'S Y L I T S V E L'],\n ['Y Y A G Y R E K Y R Q T D V N K L Y L R Y N F Y T W A E R A Y T W Y',\n  'I A A P T H S T L'],\n ['Y Y A M Y R N N V A H T D A N T L Y I R Y Q D Y T W A E W A Y R W Y',\n  'I T V S S R P S V'],\n ['Y H T E Y R E I C A K T D E D T L Y L N Y H D Y T W A V L A Y E W Y',\n  'Q V S A S D P D F G'],\n ['Y H T E Y R E I C A K T D E N I A Y L N Y H D Y T W A V L A Y E W Y',\n  'S A Y I N R S N F'],\n ['Y Y A T Y R N I F T N T Y E S N L Y I R Y D S Y T W A V L A Y L W Y',\n  'F P V G S H V Q Y'],\n ['Y Y A M Y R N N V A Q T D V D T L Y I R Y H Y Y T W A V W A Y T W Y',\n  'S L I G S K T Q I'],\n ['Y F A M Y Q E N V A H T D E S I A Y I M Y Q D Y T W A V L A Y T W Y',\n  'Y L G G S H L S Y'],\n ['Y H T E H R E I C A K T D E D T L Y L N Y H D Y T W A V L A Y E W Y',\n  'Q L V F S H W E I'],\n ['Y H S T Y R E I S T N T Y E D T L Y I R S N F Y T W A V D A Y T W Y',\n  'S P P Y A H Y E V'],\n ['Y Y A T Y G E N M A S T Y E N I A Y I R Y D S Y T W A V L A Y L W Y',\n  'S A L F Q H I T A'],\n ['Y S A M Y E E K V A H T D E N I A Y L M F H Y Y T W A V L A Y T G Y',\n  'Y Y I T T R V Q F'],\n ['Y S A G Y R E K Y R Q A D V N K L Y L R F N F Y T W A E R A Y T W Y',\n  'S S L I N H W R V'],\n ['Y S A M Y Q E N V A Q T D V D T L Y I I Y E H Y T W A W L A Y T W Y',\n  'T Y P V P H Y S F'],\n ['Y Y A M Y G E K V A H T H V D T L Y V R Y H Y Y T W A V L A Y T W Y',\n  'S P G T T N L D I'],\n ['Y Y S E Y R N I Y A Q T D E S N L Y L S Y D Y Y T W A E R A Y E W Y',\n  'P I G W I H T Q P'],\n ['Y Y A T Y G E N M A S T Y E N I A Y I R Y D S Y T W A V L A Y L W Y',\n  'S I S P F H I R W'],\n ['Y H T E Y R E I C A K T D E D T L Y L N Y H D Y T W A V L A Y E W Y',\n  'S S A S N K S M T'],\n ['Y F S G Y R E K Y R Q T D V S N L Y L W C D Y Y T W A E R A Y T W Y',\n  'C A P P S R L T L'],\n ['Y Y A M Y G E N M A S T Y E N I A Y I V Y D S Y T W A V L A Y L W Y',\n  'S I S P F H I R W'],\n ['Y F A M Y G E K V A H T H V D T L Y V R Y H Y Y T W A V L A Y T W Y',\n  'Y I L P W E S E L'],\n ['Y T A M Y Q E N V A H I D V D T L Y I M Y Q D Y T W A V L A Y T W Y',\n  'F A G W F E T S A'],\n ['Y T A M Y L Q N V A Q T D A N T L Y I M Y R D Y T W A V L A Y T W Y',\n  'S F P P Q R Y H Y'],\n ['Y T A M Y L Q N V A Q T D A N T L Y I M Y R D Y T W A V L A Y T W Y',\n  'W L F A P H Y R Y'],\n ['Y D S G Y R E K Y R Q A D V S N L Y F R Y D F Y T L A A D A Y T W Y',\n  'T P F V G H W N L'],\n ['Y Y A M Y R N N V A Q T D V D T L Y I M Y R D Y T W A V W A Y T W Y',\n  'Q F G L S H F N W'],\n ['Y Y A G Y R E N Y R Q T D V N K L Y I R Y D L Y T W A E L A Y T W Y',\n  'S L G I T C I E L'],\n ['Y S A G Y R E K Y R Q A D V N K L Y L R F N F Y T W A E R A Y T W Y',\n  'Y Y I T T R V Q F'],\n ['Y D S E Y R N I F T N T D E S N L Y L S Y N Y Y T W A V D A Y T W Y',\n  'T S I C S K S N P'],\n ['Y H T K Y R E I S T N T Y E S N L Y L R Y N Y Y S L A V L A Y E W Y',\n  'S Y I S S Q T N G I'],\n ['Y F A M Y Q E N M A H T D A N T L Y I I Y R D Y T W V A R V Y R G Y',\n  'M L P S S E F Q I'],\n ['Y Y S E Y R N I Y A Q T D E S N L Y L S Y D Y Y T W A E R A Y E W Y',\n  'M F S F F E C N V'],\n ['Y D S G Y R E K Y R Q A D V N K L Y L W Y D S Y T W A E W A Y T W Y',\n  'T L Y G T N A D S'],\n ['Y Y A G Y R E K Y R Q T D V S N L Y L R Y N F Y T W A E R A Y T W Y',\n  'S V P T T K I Q I'],\n ['Y S A M Y E E K V A H T D E N I A Y L M F H Y Y T W A V Q A Y T G Y',\n  'N Y P V W D T Q F'],\n ['Y H T E Y R E I C A K T D E D T L Y L N Y H D Y T W A V L A Y E W Y',\n  'S M A V S Q P N L V'],\n ['Y S A G Y R E K Y R Q T D V S N L Y L W F D S Y T W A E R A Y T W Y',\n  'S F G G S H V M'],\n ['Y Y A M Y R E N M A S T Y E N I A Y L R Y H D Y T W A E L A Y L W Y',\n  'W S L S V E W Q F'],\n ['Y F A M Y Q E N V A H T D E S I A Y I M Y Q D Y T W A V L A Y T W Y',\n  'S A F F Q E T N I P Y'],\n ['Y F A M Y Q E N M A H T D A N T L Y I I Y R D Y T W V A R V Y R G Y',\n  'P S V I C H T T V'],\n ['Y Y S E Y R N I Y A Q T D E S N L Y L S Y D Y Y T W A E R A Y E W Y',\n  'S P F P S H P S L'],\n ['Y Y A M Y R E I S T N T Y E S N L Y L R Y D S Y T W A E W A Y L W Y',\n  'T I V W M K L N'],\n ['Y Y A G Y R E K Y R Q T D V S N L Y I R Y D Y Y T W A E L A Y L W Y',\n  'F I Y T S E L E L'],\n ['Y Y A T Y R N I F T N T Y E S N L Y I R Y D F Y T W A V L A Y L W Y',\n  'M P I S S H V D L'],\n ['Y H S T Y R N I S T N T Y E S N L Y L R Y D S Y T W A V L A Y T W H',\n  'S F T G S R S S'],\n ['Y H T E Y R E I C A K T D E D T L Y L N Y H D Y T W A V L A Y E W Y',\n  'W G P S S Q P T I'],\n ['Y Y A G Y R E K Y R Q T D V S N L Y I R Y D Y Y T W A E L A Y L W Y',\n  'M L I W S K T T V'],\n ['Y F A M Y Q E N V A H T D E S I A Y I M Y Q D Y T W A V L A Y T W Y',\n  'S L I G W K F H W'],\n ['Y Y A T Y G E N M A S T Y E N I A Y I R Y D S Y T W A V L A Y L W Y',\n  'M L F P S R T T W'],\n ['Y H T E Y R E I C A K T D E D T L Y L N Y H H Y T W A V L A Y E W Y',\n  'T A G P T T P N G'],\n ['Y H T K Y R E I S T N T Y E S N L Y W R Y N L Y T W A V D A Y L S Y',\n  'S P Y S T M I T V'],\n ['Y H T E Y R E I C A K T D E D T L Y L N Y H D Y T W A V L A Y E W Y',\n  'S A G P S T A K L'],\n ['Y H T K Y R E I S T N T Y E S N L Y L R Y N Y Y S L A V L A Y E W Y',\n  'T V I I Y D S D W'],\n ['Y Y A T Y R N I F T N T Y E S N L Y I R Y D S Y T W A V L A Y L W Y',\n  'S V G V T H S R G'],\n ['Y F A M Y G E K V A H T H V D T L Y V R Y H Y Y T W A V L A Y T W Y',\n  'S L I G S E W E L'],\n ['Y Y A M Y R N N V A H T D A N T L Y I R Y Q D Y T W A E W A Y R W Y',\n  'S P L S F Q T H L P'],\n ['Y Y A G Y R E K Y R Q T D V S N L Y I R Y D Y Y T W A E L A Y L W Y',\n  'T S V P S R S S S A L'],\n ['Y F A M Y G E K V A H T H V D T L Y V R Y H Y Y T W A E W A Y T W Y',\n  'S M Y P T R I E G A'],\n ['Y Y T K Y R E I S T N T Y E N T A Y I R Y D D Y T W A V D A Y L S Y',\n  'S V A A L R F E W'],\n ['Y S A M Y E E K V A H T D E N I A Y L M F H Y Y T W A V Q A Y T G Y',\n  'S V S G S Q P N S'],\n ['Y F A M Y Q E N V A Q T D V D T L Y I I Y R D Y T W A E L A Y T W Y',\n  'S G L G P H I M P'],\n ['Y Y A G Y R E K Y R Q T D V S N L Y I R Y D Y Y T W A E L A Y L W Y',\n  'C V A P N Q C Q'],\n ['Y F A M Y G E K V A H T H V D T L Y V R Y H Y Y T W A E W A Y T W Y',\n  'T A F V S D S R L Y'],\n ['Y H T E Y R E I C A K T D E D T L Y L N Y H D Y T W A V L A Y E W Y',\n  'T A F A F H L R V L'],\n ['Y Y A T Y R N I F T N T Y E S N L Y I R Y D F Y T W A V L A Y L W Y',\n  'F P L S P D W Q V'],\n ['Y Y A G Y R N I Y A Q T D E S N L Y W T Y N L Y T W A V L A Y T W Y',\n  'M T I P Y Q P M P A'],\n ['Y F A M Y G E K V A H T H V D T L Y L R Y H Y Y T W A V W A Y T W Y',\n  'S L I G S K T Q I'],\n ['Y Y S E Y R N I Y A Q T D E S N L Y L S Y D Y Y T W A E R A Y E W Y',\n  'S P S G S K M Q L'],\n ['Y Y A E Y R N I Y A Q T D E S N L Y W T Y N L Y T W A V L A Y L W Y',\n  'T P Y G Y R L D L'],\n ['Y F A M Y Q E N V A Q T D V D T L Y I I Y R D Y T W A E L A Y T W Y',\n  'S S V F T E M Q P I'],\n ['Y Y S E Y R N I Y A Q T D E S N L Y L S Y D Y Y T W A E R A Y E W Y',\n  'S P G G A H S N L'],\n ['Y S A G Y R E K Y R Q T D V S N L Y L W F D S Y T W A E R A Y T W Y',\n  'T Y L Y N K Y S F'],\n ['Y Y S E Y R N I Y A Q T D E S N L Y L S Y D Y Y T W A E R A Y E W Y',\n  'N F S V F H Y E I A'],\n ['Y D S G Y R E K Y R Q A D V S N L Y L R S D S Y T L A A L A Y T W Y',\n  'C F L V M H Y R G'],\n ['Y H T E Y R E I C A K T D E D T L Y L N Y H D Y T W A V L A Y E W Y',\n  'S L A V S D L M L'],\n ['Y H T E Y R E I C A K T D E D T L Y L N Y H D Y T W A V L A Y E W Y',\n  'F V T W S D W D L'],\n ['Y Y S E Y R N I Y A Q T D E S N L Y L S Y D Y Y T W A E R A Y E W Y',\n  'S P A V S R T Q L'],\n ['Y Y A T Y G E N M A S T Y E N I A Y I R Y D S Y T W A V L A Y L W Y',\n  'T S A S S Q N H W'],\n ['Y T A M Y Q E N V A H I D V D T L Y I M Y Q D Y T W A V L A Y T W Y',\n  'I F L T T E S T G'],\n ['Y Y A T Y R N I F T N T Y E N I A Y W T Y N Y Y T W A E L A Y L W H',\n  'C A L V S Q P T V'],\n ['Y H T K Y R E I S T N T Y E S N L Y W R Y N L Y T W A V D A Y L S Y',\n  'Q A P A S R W R P'],\n ['Y Y A G Y R E K Y R Q T D V N K L Y L R Y D S Y T W A E W A Y E W Y',\n  'Y V W S S K T E T V'],\n ['Y Y A G Y R E K Y R Q T D V S N L Y I R Y D Y Y T W A E L A Y L W Y',\n  'S G G S T E P T T'],\n ['Y Y A M Y G E K V A H T H V D T L Y V R Y H Y Y T W A V L A Y T W Y',\n  'P T V V S Q P Q V'],\n ['Y Y A M Y R E I S T N T Y E S N L Y L R Y D S Y T W A E W A Y L W Y',\n  'Y L G G S H L S Y'],\n ['Y D S G Y R E K Y R Q A D V S N L Y L R S D S Y T L A A L A Y T W Y',\n  'S A F A S N P E F'],\n ['Y Y A M Y R N N V A Q T D V D T L Y I R Y H Y Y T W A V W A Y T W Y',\n  'S T V G I D F K V'],\n ['Y D S G Y R E K Y R Q A D V N K L Y L W Y D S Y T W A E W A Y T W Y',\n  'N I G I S N I K A'],\n ['Y T A M Y L Q N V A Q T D A N T L Y I M Y R D Y T W A V L A Y T W Y',\n  'Y F G T S H P R Y'],\n ['Y H T E Y R E I C A K T D E D T L Y L N Y H D Y T W A V L A Y E W Y',\n  'S T L S S Q L D A G'],\n ['Y S A G Y R E K Y R Q A D V N K L Y L R F N F Y T W A E R A Y T W Y',\n  'F Y I T S R T Q F'],\n ['Y T A M Y R N N V A H I D V D T L Y I M Y Q D Y T W A V L A Y T W H',\n  'S G F P L H T D I L'],\n ['Y S A G Y R E K Y R Q T D V S N L Y L W F D S Y T W A E R A Y T W Y',\n  'Y Y I Y S K V Q L'],\n ['Y Y A M Y Q E N V A Q T D V D T L Y I I Y R D Y T W A A Q A Y R W Y',\n  'N V L V S Q F T P'],\n ['Y S A M Y E E K V A H T D E N I A Y L M F H Y Y T W A V Q A Y T G Y',\n  'C A P S P R C R W'],\n ['Y D S E Y R N I F T N T D E S N L Y L S Y N Y Y T W A V D A Y T W Y',\n  'S L I F Y R N E I'],\n ['Y Y A M Y R E I S T N T Y E S N L Y L R Y D S Y T W A E W A Y L W Y',\n  'T A L G T E P R L'],\n ['Y F S G Y R E K Y R Q T D V S N L Y L W C D Y Y T W A E R A Y T W Y',\n  'T A P A T E Q T L'],\n ['Y Y A M Y G E N M A S T Y E N I A Y I V Y D S Y T W A V L A Y L W Y',\n  'M L F P S R T T W'],\n ['Y Y A M Y R N N V A H T D A N T L Y I R Y Q D Y T W A E W A Y R W Y',\n  'P A G A C E P C G'],\n ['Y Y A M Y R N N V A Q T D V D T L Y I R Y H Y Y T W A V W A Y T W Y',\n  'T Y L Y N K Y S F'],\n ['Y H T E Y R E I C A K T D E D T L Y L N Y H D Y T W A V L A Y E W Y',\n  'D P A A S R S S L'],\n ['Y H T E Y R E I C A K T D E D T L Y L N Y H D Y T W A V L A Y E W Y',\n  'P A A A S R P S P'],\n ['Y Y A G Y R E N Y R Q T D V N K L Y I R Y D L Y T W A E L A Y T W Y',\n  'T V Y P A K T Q P'],\n ['Y F S G Y R E K Y R Q T D V S N L Y L W C D Y Y T W A E R A Y T W Y',\n  'S S P A S K T T L'],\n ['Y Y A G Y R E N Y R Q T D V N K L Y I R Y D L Y T W A E L A Y T W Y',\n  'W G S F T C C M A'],\n ['Y S A M Y E E K V A H T D E N I A Y L M F H Y Y T W A V Q A Y T G Y',\n  'S Y L I T S V E L'],\n ['Y Y A M Y G E N M A S T Y E N I A Y I V Y N Y Y T W A V L A Y L W Y',\n  'Q S F L S D S S V'],\n ['Y Y A G Y R E K Y R Q T D V N K L Y L R Y N F Y T W A E R A Y T W Y',\n  'S Y V G Q H S Q G L'],\n ['Y S A G Y R E K Y R Q A D V N K L Y L R F N F Y T W A E R A Y T W Y',\n  'F V T S S H L Q L'],\n ['Y Y S E Y R N I Y A Q T D E S N L Y L S Y D Y Y T W A E R A Y E W Y',\n  'S P I V A R T D L'],\n ['Y S A M Y E E K V A H T D E N I A Y L M F H Y Y T W A V Q A Y T G Y',\n  'N Y I A S K Y N L'],\n ['Y Y A M Y R E I S T N T Y E S N L Y L R Y D S Y T W A E W A Y L W Y',\n  'S Y S F F H F C L'],\n ['Y Y A G Y R E K Y R Q T D V S N L Y I R Y D Y Y T W A E L A Y L W Y',\n  'S I L T T H T T L'],\n ['Y F A M Y G E K V A H T H V D T L Y V R Y H Y Y T W A V L A Y T W Y',\n  'S F L L Y N Y D L'],\n ['Y S A M Y E E K V A H T D E N I A Y L M F H Y Y T W A V L A Y T G Y',\n  'W G A W Q K F T A'],\n ['Y Y A M Y R N N V A Q T D V D T L Y I R Y H Y Y T W A V W A Y T W Y',\n  'T T F G S R V N V'],\n ['Y F A M Y R N N V A H T D E S I A Y I M Y Q D Y T W A V L A Y T W Y',\n  'Y S L M S R Y Q F'],\n ['Y S A M Y E E K V A H T D E N I A Y L M F H Y Y T W A V L A Y T G Y',\n  'P W L S S K P E F'],\n ['Y S A G Y R E K Y R Q T D V S N L Y L W F D S Y T W A E R A Y T W Y',\n  'F L G S T E C T'],\n ['Y F A M Y Q E N V A Q T D V D T L Y I I Y R D Y T W A E L A Y T W Y',\n  'Q P P P S R P Q S'],\n ['Y D S E Y R N I F T N T D E S N L Y L S Y N Y Y T W A V D A Y T W Y',\n  'S T I G I D F K I'],\n ['Y F A M Y G E K V A H T H V D T L Y V R Y H Y Y T W A V L A Y T W Y',\n  'M T A L S R S E A'],\n ['Y S A G Y R E K Y R Q T D V S N L Y L W F D S Y T W A E R A Y T W Y',\n  'S F L S S N S T F'],\n ['Y Y S E Y R N I Y A Q T D E S N L Y L S Y D Y Y T W A E R A Y E W Y',\n  'T V Y P S K T Q P'],\n ['Y F A M Y G E K V A H T H V D T L Y V R Y H Y Y T W A V L A Y T W Y',\n  'M L P S S E F Q I'],\n ['Y Y S E Y R N I Y A Q T D E S N L Y L S Y D Y Y T W A E R A Y E W Y',\n  'S P P L A R S E L'],\n ['Y Y A M Y R E I S T N T Y E S N L Y L R Y D S Y T W A E W A Y L W Y',\n  'M L F P S R T T W'],\n ['Y Y A M Y R E I S T N T Y E S N L Y L R Y D S Y T W A E W A Y L W Y',\n  'I I V T T R S Q Y'],\n ['Y S A M Y E E K V A H T D E N I A Y L M F H Y Y T W A V L A Y T G Y',\n  'F Y I T S R T Q F'],\n ['Y Y A M Y G E K V A H T H V D T L Y V R Y H Y Y T W A V L A Y T W Y',\n  'Y L Y I M R V M A'],\n ['Y Y A G Y R E K Y R Q T D V S N L Y I R Y D Y Y T W A E L A Y L W Y',\n  'S L I P T S P Q V'],\n ['Y Y A T Y R N I F T N T Y E N I A Y W T Y N Y Y T W A E L A Y L W H',\n  'T A Y P N R P M V'],\n ['Y H T K Y R E I S T N T Y E S N L Y W R Y N L Y T W A E L A Y L W Y',\n  'S G A S C E S R I'],\n ['Y Y S E Y R N I C T N T D E S N L Y L W Y N F Y T W A E L A Y T W H',\n  'T T I L Y R L Q V'],\n ['Y Y S E Y R N I Y A Q T D E S N L Y L S Y D Y Y T W A E R A Y E W Y',\n  'I P A V T R S T I'],\n ['Y Y A T Y R N I F T N T Y E S N L Y I R Y D F Y T W A V L A Y L W Y',\n  'F L A V T E Y S V'],\n ['Y S A M Y Q E N V A H T D E N T L Y I I Y E H Y T W A R L A Y T W Y',\n  'F Y I T T R Y K Y'],\n ['Y Y S E Y R N I Y A Q T D E S N L Y L S Y D Y Y T W A E R A Y E W Y',\n  'S P A S S R T D L'],\n ['Y F A M Y G E K V A H T H V D T L Y V R Y H Y Y T W A E W A Y T W Y',\n  'Y I P P C Q C T V'],\n ['Y Y A G Y R E K Y R Q T D V S N L Y L R Y N F Y T W A E R A Y T W Y',\n  'S P A P T H N S L'],\n ['Y H T E Y R E I C A K T D E D T L Y L N Y H D Y T W A V L A Y E W Y',\n  'T I L L Q E S K L V'],\n ['Y Y A T Y R N I F T N T Y E S N L Y I R Y D S Y T W A V L A Y L W Y',\n  'T G I S S K A M G'],\n ['Y Y S E Y R N I C T N T D E S N L Y L R Y N F Y T W A V L T Y T W Y',\n  'S Y I G Y D I N L'],\n ['Y S A M Y E E K V A H T D E N I A Y L M F H Y Y T W A V L A Y T G Y',\n  'T P A A Y R A R T'],\n ['Y S A M Y E E K V A H T D E N I A Y L M F H Y Y T W A V L A Y T G Y',\n  'V Y I P S K T D L'],\n ['Y Y S E Y R N I Y A Q T D E S N L Y L S Y D Y Y T W A E R A Y E W Y',\n  'S P A S S Q S T P'],\n ['Y S A M Y Q E N V A H T D E S I A Y I M Y Q D Y T W A V L A Y T W Y',\n  'Y S L M S R Y Q F'],\n ['Y Y S E Y R N I Y A Q T D E S N L Y L S Y D Y Y T W A E R A Y E W Y',\n  'S P S G T R S Q L'],\n ['Y Y A M Y G E K V A H T H V D T L Y V R Y H Y Y T W A V L A Y T W Y',\n  'T Y L Y N K Y S F'],\n ['Y Y A T Y R N I F T N T Y E N I A Y W T Y N Y Y T W A E L A Y L W H',\n  'M A L I Q H S T I'],\n ['Y S A M Y E E K V A H T D E N I A Y L M F H Y Y T W A V Q A Y T G Y',\n  'Y L P I S H P R F'],\n ['Y Y A G Y R E K Y R Q T D V S N L Y I R Y D Y Y T W A E L A Y L W Y',\n  'N S G Y T Q S Q F'],\n ['Y Y A M Y R N N V A Q T D V D T L Y I M Y R D Y T W A V W A Y T W Y',\n  'D I V F S K I K G'],\n ['Y S A M Y E E K V A H T D E N I A Y L M F H Y Y T W A V Q A Y T G Y',\n  'Q F G A N K S Q Y'],\n ['Y S A G Y R E K Y R Q A D V N K L Y L R F N F Y T W A E R A Y T W Y',\n  'M T A S S D T T V'],\n ['Y Y A M Y R E I S T N T Y E S N L Y L R Y D S Y T W A E W A Y L W Y',\n  'S I I S T R S N C'],\n ['Y F A M Y G E K V A H T H V D T L Y V R Y H Y Y T W A V L A Y T W Y',\n  'S L I S S D Y E L'],\n ['Y Y A T Y R N I F T N T Y E N I A Y W T Y N Y Y T W A E L A Y L W H',\n  'I P A V T R S T I'],\n ['Y S A M Y E E K V A H T D E N I A Y L M F H Y Y T W A V L A Y T G Y',\n  'T A S S S N S E L'],\n ['Y T A M Y L Q N V A Q T D A N T L Y I M Y R D Y T W A V L A Y T W Y',\n  'S S L P T Q M D Y'],\n ['Y Y A G Y R E K Y R Q T D V S N L Y I R Y D Y Y T W A E L A Y L W Y',\n  'M P S A S M T R L'],\n ['Y Y A M Y G E N M A S T Y E N I A Y I V Y D S Y T W A V L A Y L W Y',\n  'A G L S S H T C'],\n ['Y Y A G Y R E K Y R Q T D V N K L Y L R Y D S Y T W A E W A Y E W Y',\n  'F V A P S D I Q L'],\n ['Y F A M Y G E K V A H T H V D T L Y V R Y H Y Y T W A V L A Y T W Y',\n  'C S L L C D P N P'],\n ['Y Y A M Y R N N V A Q T D V D T L Y I R Y H Y Y T W A V W A Y T W Y',\n  'S L T A S E P T A'],\n ['Y Y A G Y R E K Y R Q T D V S N L Y I R Y D Y Y T W A E L A Y L W Y',\n  'F V A P S D I Q L'],\n ['Y F A M Y G E K V A H T H V D T L Y V R Y H Y Y T W A V L A Y T W Y',\n  'Y G L S W N P N L'],\n ['Y F A M Y Q E N V A Q T D V D T L Y I I Y R D Y T W A E L A Y T W Y',\n  'S L P V T D T S A'],\n ['Y S A M Y E E K V A H T D E N I A Y L M F H Y Y T W A V Q A Y T G Y',\n  'N Y T L S K T E F'],\n ['Y F A M Y G E K V A H T H V D T L Y V R Y H Y Y T W A V L A Y T W Y',\n  'M V A Y L E T Q L'],\n ['Y Y A M Y R N N V A H T D A N T L Y I R Y Q N Y T W A E W A Y R W Y',\n  'T Y L Y N K Y S F'],\n ['Y Y A T Y R N I F T N T Y E S N L Y I R Y D F Y T W A V L A Y L W Y',\n  'N P L P I E Y Q L'],\n ['Y F A M Y G E K V A H T H V D T L Y V M Y H Y Y T W A V L A Y T W Y',\n  'S A L P W N I T V'],\n ['Y Y A M Y R N N V A Q T D V D T L Y I R Y H Y Y T W A V W A Y T W Y',\n  'Y V W S S K T E T V'],\n ['Y Y A M Y Q E N V A Q T D V D T L Y I I Y R D Y T W A A Q A Y R W Y',\n  'T L G G Q K C S V I'],\n ['Y F S G Y R E K Y R Q T D V S N L Y L W C D Y Y T W A E R A Y T W Y',\n  'N G P V S H S S L'],\n ['Y Y T M Y R E I S T N T Y E N T A Y W T Y N L Y T W A V L A Y E W Y',\n  'P P I F S R L D A'],\n ['Y Y S E Y R N I C T N T D E S N L Y L W Y N F Y T W A E L A Y T W H',\n  'S P A V S R T Q L'],\n ['Y S A M Y Q E N V A Q T D V D T L Y I I Y E H Y T W A W L A Y T W Y',\n  'T Y L Y N K Y S F'],\n ['Y Y A G Y R E K Y R Q T D V S N L Y I R Y D Y Y T W A E L A Y L W Y',\n  'F S V Y T H S C L'],\n ['Y S A M Y E E K V A H T D E N I A Y L M F H Y Y T W A V Q A Y T G Y',\n  'Y I I S T H Y Q F'],\n ['Y Y S E Y R N I Y A Q T D E S N L Y L S Y D Y Y T W A E R A Y E W Y',\n  'S P V A S D M T L'],\n ['Y F A M Y Q E N V A Q T D V D T L Y I I Y R D Y T W A E L A Y T W Y',\n  'M L A Y N R S K L'],\n ['Y S A M Y E E K V A H T D E N I A Y L M F H Y Y T W A V Q A Y T G Y',\n  'Y S L M S R Y Q F'],\n ['Y Y A M Y R N N V A Q T D V D T L Y I R Y H Y Y T W A V W A Y T W Y',\n  'T T V F S H A Q T'],\n ['Y H T E Y R E I C A K T D E D T L Y L N Y H D Y T W A V L A Y E W Y',\n  'C L G F F K S S T'],\n ['Y Y A M Y G E K V A H T H V D T L Y V R Y H Y Y T W A V L A Y T W Y',\n  'Y L V A Y K A T V'],\n ['Y Y A T Y R N I F T N T Y E S N L Y I R Y D S Y T W A V L A Y L W Y',\n  'S A F P T T I N F'],\n ['Y D S G Y R E N Y R Q A D V S N L Y L R Y D S Y T L A A L A Y T W Y',\n  'F V A P S D I Q L'],\n ['Y Y A M Y G E K V A H T H V D T L Y L R Y H Y Y T W A V W A Y T W Y',\n  'Y L V A Y K A T V'],\n ['Y Y A G Y R E K Y R Q T D V S N L Y I R Y D Y Y T W A E L A Y L W Y',\n  'Y I I I P K S S L'],\n ['Y Y A T Y R N I F T N T Y E S N L Y I R Y D F Y T W A V L A Y L W Y',\n  'T W P L P R P E F'],\n ['Y D S E Y R N I F T N T D E S N L Y L S Y N Y Y T W A V D A Y T W Y',\n  'T T V F S H A Q'],\n ['Y F A M Y G E K V A H T H V D T L Y V R Y H Y Y T W A V L A Y T W Y',\n  'S L I G S K T Q I'],\n ['Y Y A T Y R N I F T N T Y E S N L Y I R Y D F Y T W A V L A Y L W Y',\n  'M P S A S M T R L'],\n ['Y H T E Y R E I C A K T D E D T L Y L N Y H D Y T W A V L A Y E W Y',\n  'T P G V Y R C Q T'],\n ['Y Y S E Y R N I Y A Q T D E S N L Y L S Y D Y Y T W A E R A Y E W Y',\n  'S P A P P R P W L'],\n ['Y H T E Y R E I C A K T D E S T L Y L N Y H D Y T W A E L A Y E W Y',\n  'T P V A S K F S P'],\n ['Y Y A M Y R E N M A S T Y E N I A Y L R Y H D Y T W A E L A Y L W Y',\n  'T Y L Y N K Y S F'],\n ['Y F A M Y G E K V A H T H V D T L Y V R C H Y Y T W A V L A Y T W Y',\n  'D I P I T E T E A'],\n ['Y Y A G Y R E K Y R Q T D V S N L Y I R Y D Y Y T W A E L A Y L W Y',\n  'S G V L V H P Q W'],\n ['Y Y A T Y R N I F T N T Y E S N L Y I R Y D F Y T W A V L A Y L W Y',\n  'T P L P Q D S S L'],\n ['Y S A M Y E E K V A H T D E N I A Y L M F H Y Y T W A V Q A Y T G Y',\n  'S L A T F K T R A'],\n ['Y Y A G Y R E K Y R Q T D V S N L Y L W Y D S Y T W A A Q A Y T W Y',\n  'M S A G P R Y E Y'],\n ['Y D S E Y R N I F T N T D E S N L Y L S Y N Y Y T W A V D A Y T W Y',\n  'P V L S P Q S C G'],\n ['Y F A M Y G E K V A H T H V D T L Y V R Y H Y Y T W A V L A Y T W Y',\n  'N Y L P N R T D V'],\n ['Y Y A M Y R N N V A Q T D V D T L Y I M Y R D Y T W A V W A Y T W Y',\n  'N V I S S K I S Y'],\n ['Y F A M Y G E K V A H T H V D T L Y V R Y H Y Y T W A V L A Y T W Y',\n  'Q S L L S R W N P'],\n ['Y Y A T Y R N I F T N T Y E N I A Y W T Y N Y Y T W A E L A Y L W H',\n  'T A F A F H L R V'],\n ['Y H S T Y R E I S T N T Y E D T L Y I R S N F Y T W A V D A Y T W Y',\n  'S S S V S R S R S'],\n ['Y Y A M Y Q E N V A Q T D V D T L Y I I Y R D Y T W A A Q A Y R W Y',\n  'Q P G I Y R I R Y'],\n ['Y Y A M Y R E I S T N T Y E S N L Y L R Y D S Y T W A E W A Y L W Y',\n  'S L F L P R T D Y'],\n ['Y Y A M Y G E N M A S T Y E N I A Y I V Y D S Y T W A V L A Y L W Y',\n  'W S L S V E W Q F'],\n ['Y Y A G Y R E K Y R Q T D V S N L Y L W Y D S Y T W A A Q A Y T W Y',\n  'N A A P F R S E V'],\n ['Y S A G Y R E K Y R Q A D V N K L Y L R F N F Y T W A E R A Y T W Y',\n  'Y I F P V H W Q F'],\n ['Y D S G Y R E K Y R Q A D V N K L Y L W Y D S Y T W A E W A Y T W Y',\n  'S G L G P H C S P'],\n ['Y H T K Y R E I S T N T Y E S N L Y L R Y N Y Y S L A V L A Y E W Y',\n  'S G G G S R L K P'],\n ['Y Y A M Y R N N V A Q T D V D T L Y I R Y H Y Y T W A V W A Y T W Y',\n  'Y S A P S E S E G V'],\n ['Y H S T Y R E I S T N T Y E D T L Y I R S N F Y T W A V D A Y T W Y',\n  'P I S T S H S C A'],\n ['Y S A G Y R E K Y R Q T D V S N L Y L W F D S Y T W A E R A Y T W Y',\n  'S F L S F D Y K L'],\n ['Y F A M Y G E K V A H T H V D T L Y V R Y H Y Y T W A V L A Y T W Y',\n  'Y G L V S K F M S'],\n ['Y H T K Y R E I S T N T Y E N I A Y W R Y N L Y T W A E L A Y L W Y',\n  'M P L L S K L H L'],\n ['Y T A M Y Q E N V A H I D V D T L Y I M Y Q D Y T W A V L A Y T W Y',\n  'S A V A S D W R V'],\n ['Y Y A M Y R N N V A Q T D V D T L Y I M Y R D Y T W A V W A Y T W Y',\n  'T S S S S D S C G'],\n ['Y Y A T Y R N I F T N T Y E N I A Y W T Y N Y Y T W A E L A Y L W H',\n  'S W V L T T F H'],\n ['Y S A G Y R E K Y R Q A D V N K L Y L R F N F Y T W A E R A Y T W Y',\n  'N Y P V W D T Q F'],\n ['Y D S G Y R E K Y R Q A D V N K L Y L W Y D S Y T W A E W A Y T W Y',\n  'S T A L C Q M D F'],\n ['Y Y A M Y R N N V A Q T D V D T L Y I R Y H Y Y T W A V W A Y T W Y',\n  'Y S A P F E S E G V'],\n ['Y Y A G Y R E K Y R Q T D V N K L Y L R Y N F Y T W A E R A Y T W Y',\n  'S Y S F F H F C L'],\n ['Y F A M Y Q E N M A H T D A N T L Y I I Y R D Y T W V A R V Y R G Y',\n  'T G I S S K A M G'],\n ['Y H T E Y R E I C A K T D E D T L Y L N Y H D Y T W A V L A Y E W Y',\n  'S Y L L T Q P R L L V'],\n ['Y Y S E Y R N I Y A Q T D E S N L Y L S Y D Y Y T W A E R A Y E W Y',\n  'T P I I Y K Y D L'],\n ['Y Y A G Y R E K Y R Q T D V S N L Y L W Y D S Y T W A A Q A Y T W Y',\n  'F S A T P R Y M'],\n ['Y F A M Y G E K V A H I D V D T L Y V R Y H Y Y T W A V L A Y T W Y',\n  'S S P L T K L Q L'],\n ['Y H T K Y R E I S T N T Y E N I A Y W R Y N L Y T W A E L A Y L W Y',\n  'T V Y P S K T Q P'],\n ['Y D S E Y R N I F T N T D E S N L Y L S Y N Y Y T W A V D A Y T W Y',\n  'T F I A I K P D G'],\n ['Y Y A M Y R E I S T N T Y E S N L Y L R Y D S Y T W A E W A Y L W Y',\n  'Q P P P S R P Q S L'],\n ['Y Y S E Y R N I Y A Q T D E S N L Y L S Y D Y Y T W A E R A Y E W Y',\n  'S P P L S R S S V L'],\n ['Y Y A T Y R N I F T N T Y E S N L Y I R Y D F Y T W A V L A Y L W Y',\n  'T P A P P D L T L'],\n ['Y Y A T Y R N I F T N T Y E N I A Y W T Y N Y Y T W A E L A Y L W H',\n  'T F G A Y Q P T V V'],\n ['Y Y A T Y R N I F T N T Y E S N L Y I R Y D F Y T W A V L A Y L W Y',\n  'S A A P S N P R L'],\n ['Y T A M Y L Q N V A Q T D A N T L Y I M Y R D Y T W A V L A Y T W Y',\n  'F Y I T T R Y K Y'],\n ['Y S A G Y R E K Y R Q A D V N K L Y L R F N F Y T W A E R A Y T W Y',\n  'Y I I S T H Y Q F'],\n ['Y S A M Y E E K V A H T D E N I A Y L M F H Y Y T W A V Q A Y T G Y',\n  'C L I S F H S K G'],\n ['Y Y A G Y R N I Y A Q T D E S N L Y W T Y N L Y T W A V L A Y T W Y',\n  'S P V P S H W M V A'],\n ['Y H T K Y R E I S T N T Y E S N L Y W R Y N Y Y T W A V D A Y T W Y',\n  'Q L P V T R T K I'],\n ['Y Y S E Y R N I Y A Q T D E S N L Y L S Y D Y Y T W A E R A Y E W Y',\n  'I P F L T K F K L'],\n ['Y Y S E Y R N I C T N T Y E N I A Y L R Y N F Y T W A V L T Y T W Y',\n  'F V P S S N V N G'],\n ['Y F A M Y G E K V A H T H V D T L Y L R Y H Y Y T W A V W A Y T W Y',\n  'Y L Y I M R V M A'],\n ['Y H S T Y R E I S T N T Y E D T L Y I R S N F Y T W A V D A Y T W Y',\n  'W V L T P K T K'],\n ['Y F S G Y R E K Y R Q T D V S N L Y L W C D Y Y T W A E R A Y T W Y',\n  'C A A A M E P R A A G Q'],\n ['Y Y A T Y R N I F T N T Y E S N L Y I R Y D S Y T W A V L A Y L W Y',\n  'S A L I G H T N'],\n ['Y H T K Y R E I S T N T Y E S N L Y W R Y N Y Y T W A V D A Y T W Y',\n  'T W L P S R A E W'],\n ['Y Y A M Y R N N V A Q T D V D T L Y I M Y R D Y T W A V W A Y T W Y',\n  'T L W V Y H P S T'],\n ['Y Y A M Y R E I S T N T Y E S N L Y L R Y D S Y T W A E W A Y L W Y',\n  'F V F G F R T H F'],\n ['Y F A M Y Q E N M A H T D A N T L Y I I Y R D Y T W V A R V Y R G Y',\n  'Y T V I N K Y Q G'],\n ['Y Y T K Y R E I S T N T Y E N T A Y I R Y D D Y T W A V D A Y L S Y',\n  'T Y G V I R V D S'],\n ['Y S A G Y R E K Y R Q T D V S N L Y L W F D S Y T W A E R A Y T W Y',\n  'T V V A W D P R G'],\n ['Y H T E Y R E I C A K T D E D T L Y L N Y H D Y T W A V L A Y E W Y',\n  'I I G A T D S C G'],\n ['Y S A M Y E E K V A H T D E N I A Y L M F H Y Y T W A V Q A Y T G Y',\n  'T I P I N D F E F'],\n ['Y Y A M Y G E N M A S T Y E N I A Y I V Y D S Y T W A V L A Y L W Y',\n  'S A F S Y H C K T'],\n ['Y H T E Y R E I C A K T D E D T L Y L N Y H H Y T W A V L A Y E W Y',\n  'S F P I S H V R F'],\n ['Y D S G Y R E K Y R Q A D V S N L Y F R Y D F Y T L A A D A Y T W Y',\n  'Y Y I T T R V Q F'],\n ['Y T A M Y L Q N V A Q T D A N T L Y I M Y R D Y T W A V L A Y T W Y',\n  'T S G I I D S Q I'],\n ['Y Y A M Y R E K Y R Q T D V S N L Y L R Y D S Y T W A E W A Y L W Y',\n  'S P A L W D T S S'],\n ['Y Y A G Y R E K Y R Q T D V S N L Y L R Y N F Y T W A E R A Y T W Y',\n  'N L A L M D S S S'],\n ['Y Y A M Y R N N V A Q T D V D T L Y I M Y R D Y T W A V W A Y T W Y',\n  'L A F A S H P T G'],\n ['Y F A M Y Q E N V A Q T D V D T L Y I I Y R D Y T W A E L A Y T W Y',\n  'T A A A Y R V T L'],\n ['Y Y A M Y R E I S T N T Y E S N L Y L R Y D S Y T W A E W A Y L W Y',\n  'Q G G G T H S Q W'],\n ['Y D S G Y R E K Y R Q A D V N K L Y L W Y D S Y T W A E W A Y T W Y',\n  'C I A F F H G D L'],\n ['Y Y T K Y R E I S T N T Y E N T A Y I R Y D D Y T W A V L A Y L S Y',\n  'T V V S S H S M V G'],\n ['Y F A M Y Q E N V A Q T D V D T L Y I I Y R D Y T W A E L A Y T W Y',\n  'N V I S S K I S Y'],\n ['Y Y A M Y R E I S T N T Y E S N L Y W T Y N L Y T W A E L A Y T W Y',\n  'Y I I S T H Y Q F'],\n ['Y Y A M Y Q E N V A Q T D V D T L Y I I Y R D Y T W A A Q A Y R W Y',\n  'N I F I S R T S I'],\n ['Y H T E Y R E I C A K T D E D T L Y L N Y H D Y T W A V L A Y E W Y',\n  'P F W G S H C E S Y'],\n ['Y Y A G Y R E K Y R Q T D V S N L Y I R Y D Y Y T W A E L A Y L W Y',\n  'T A F P Q R T E L'],\n ['Y F A M Y G E K V A H T H V D T L Y V R Y H Y Y T W A V L A Y T W Y',\n  'N T S F F E T E G'],\n ['Y S A M Y E E K V A H T D E N I A Y L M F H Y Y T W A V Q A Y T G Y',\n  'S G L T S Q P Q'],\n ['Y Y A G Y R E K Y R Q T D V N K L Y L R Y D S Y T W A E W A Y E W Y',\n  'C A S P S D I E L'],\n ['Y Y S E Y R N I C T N T D E S N L Y L R Y N F Y T W A V L T Y T W Y',\n  'T V I I Y D S D W'],\n ['Y Y S E Y R N I Y A Q T D E S N L Y L S Y D Y Y T W A E R A Y E W Y',\n  'T P V A S R Q S L'],\n ['Y Y A G Y R E K Y R Q T D V S N L Y L W Y D S Y T W A A Q A Y T W Y',\n  'S P P L F Q S R S'],\n ['Y Y A M Y G E N M A S T Y E N I A Y I V Y D S Y T W A V L A Y L W Y',\n  'Q S L P S K T K V A W'],\n ['Y Y A M Y R N N V A Q T D V D T L Y I R Y R D Y T W A V W A Y T W Y',\n  'Y S L M S R Y Q F'],\n ['Y Y S E Y R N I Y A Q T D E S N L Y L S Y D Y Y T W A E R A Y E W Y',\n  'S P G L P M S D L'],\n ['Y Y A M Y R N N V A Q T D V D T L Y I M Y R D Y T W A V W A Y T W Y',\n  'S I V G F R P T L'],\n ['Y T A M Y R N N V A H I D V D T L Y I M Y Q D Y T W A V L A Y T W H',\n  'S P V V S Q L E A'],\n ['Y Y A G Y R E K Y R Q T D V S N L Y I R Y D Y Y T W A E L A Y L W Y',\n  'S P A V M N Y S I'],\n ['Y Y A G Y R E N Y R Q T D V N K L Y I R Y D L Y T W A E L A Y T W Y',\n  'Y I I S T H Y Q F'],\n ['Y H T E Y R E I C A K T D E D T L Y L N Y H D Y T W A V L A Y E W Y',\n  'S P A P N N P T L'],\n ['Y S A G Y R E K Y R Q T D V S N L Y L W F D S Y T W A E R A Y T W Y',\n  'Y Y I T T R A Q F'],\n ['Y T A M Y L Q N V A Q T D A N T L Y I M Y R D Y T W A V L A Y T W Y',\n  'N F L P L H Y D Y'],\n ['Y Y A G Y R E K Y R Q T D V S N L Y I R Y D Y Y T W A E L A Y L W Y',\n  'S A F A S N P E F'],\n ['Y H T K Y R E I S T N T Y E S N L Y L S Y N Y Y T W A V L A Y E W Y',\n  'N P S V T R Y E W'],\n ['Y H T K Y R E I S T N T Y E S N L Y L S Y N Y Y T W A V L A Y E W Y',\n  'T C L L S H Y K L'],\n ['Y Y A G Y R E K Y R Q T D V S N L Y L W Y D S Y T W A A Q A Y T W Y',\n  'W V F S S D P K S'],\n ['Y Y T K Y R E I S T N T Y E N T A Y I R Y D D Y T W A V D A Y L S Y',\n  'T G F L T Q S N L'],\n ['Y F A M Y G E K V A H T H V D T L Y V R Y H Y Y T W A V L A Y T W Y',\n  'S T A P P H V N V'],\n ['Y F A M Y Q E N V A Q T D V D T L Y I I Y R D Y T W A E L A Y T W Y',\n  'P S P A T K F Q S'],\n ['Y D S G Y R E K Y R Q A D V N K L Y L W Y D S Y T W A E W A Y T W Y',\n  'S I F F P H C N S'],\n ['Y Y A G Y R N I Y A Q T D E S N L Y W T Y N L Y T W A V L A Y T W Y',\n  'I P F L T K F K L'],\n ['Y D S E Y R N I F T N T D E S N L Y L S Y N Y Y T W A V D A Y T W Y',\n  'C F G P W K L T A'],\n ['Y Y A G Y R E K Y R Q T D V S N L Y L W Y D S Y T W A A Q A Y T W Y',\n  'M P I S S H V D L'],\n ['Y Y A M Y R E I S T N T Y E S N L Y L R Y D S Y T W A E W A Y L W Y',\n  'S S L V N E S E G'],\n ['Y Y S E Y R N I Y A Q T D E S N L Y I R Y D D Y T W A V D A Y L S Y',\n  'Y S L M S R Y Q F'],\n ['Y Y S E Y R N I Y A Q T D E S N L Y L S Y D Y Y T W A E R A Y E W Y',\n  'S P A L P N S M V'],\n ['Y Y A M Y G E N M A S T Y E N I A Y I V Y D S Y T W A V L A Y L W Y',\n  'F W L A T R P D Y V G'],\n ['Y Y S E Y R N I C T N T D E S N L Y W T Y N F Y T W A V L T Y T W Y',\n  'S I V F W K P T G'],\n ['Y Y S E Y R N I Y A Q T D E S N L Y L S Y D Y Y T W A E R A Y E W Y',\n  'T P G G T R Q S L'],\n ['Y Y S E Y R N I Y A Q T D E S N L Y L S Y D Y Y T W A E R A Y E W Y',\n  'S Y C G S R T E L'],\n ['Y H T E Y R E I C A K T D E D T L Y L N Y H D Y T W A V L A Y E W Y',\n  'F P S L S K S K G'],\n ['Y Y A T Y R N I F T N T Y E S N L Y I R Y D S Y T W A V L A Y L W Y',\n  'S P V F T H N E Y'],\n ['Y S A M Y E E K V A H T D E N I A Y L M F H Y Y T W A V Q A Y T G Y',\n  'F Y I T T R Y K Y'],\n ['Y Y A T Y R N I F T N T Y E N I A Y I R Y D S Y T W A V L A Y L W Y',\n  'I P F L T K F K L'],\n ['Y S A M Y E E K V A H T D E N I A Y L M F H Y Y T W A V L A Y T G Y',\n  'N Y F P F Q W K L'],\n ['Y D S G Y R E K Y R Q A D V S N L Y L R S D S Y T L A A L A Y T W Y',\n  'Y I Y S S N F H A V'],\n ['Y S A M Y E E K V A H T D E N I A Y L M F H Y Y T W A V Q A Y T W Y',\n  'T Y L Y N K Y S F'],\n ['Y D S G Y R E K Y R Q A D V N K L Y L W Y D S Y T W A E W A Y T W Y',\n  'Y I F P V H W Q F'],\n ['Y Y A M Y Q E N V A Q T D V D T L Y I I Y R D Y T W A A Q A Y R W Y',\n  'N V I S S K I S Y'],\n ['Y Y S E Y R N I Y A Q T D E S N L Y L S Y D Y Y T W A E R A Y E W Y',\n  'S P A S P H S Q G F'],\n ['Y F S G Y R E K Y R Q T D V S N L Y L W C D Y Y T W A E R A Y T W Y',\n  'N V P F S E L N L'],\n ['Y Y S E Y R N I Y A Q T D E S N L Y L S Y D Y Y T W A E R A Y E W Y',\n  'S G F A Y E Y T L'],\n ['Y Y A G Y R E K Y R Q T D V N K L Y L R Y D S Y T W A E W A Y E W Y',\n  'S A A S Q H P E Y'],\n ['Y Y A M Y R E I S T N T Y E S N L Y L R Y D S Y T W A E W A Y L W Y',\n  'N L P V S K V K S'],\n ['Y Y A G Y R E K Y R Q T D V S N L Y I R Y D Y Y T W A E L A Y L W Y',\n  'S A F A S N P E F'],\n ['Y F A M Y G E K V A H T H V D T L Y V R Y H Y Y T W A E W A Y T W Y',\n  'S F Y P P E L Q L'],\n ['Y H T E Y R E I C A K T D E S T L Y L N Y H D Y T W A E L A Y E W Y',\n  'I F L T T E S T G'],\n ['Y F A M Y Q E N V A H T D E S I A Y I M Y Q D Y T W A V L A Y T W Y',\n  'F L L V W N Y E G'],\n ['Y Y A E Y R N I Y A Q T D E S N L Y W T Y N L Y T W A V L A Y L W Y',\n  'S P V P S H W M V'],\n ['Y H T K Y R E I S T N T Y E S N L Y W R Y N L Y T W A V D A Y L S Y',\n  'L S L V S K T E I'],\n ['Y Y S E Y R N I Y A Q T D E S N L Y L S Y D Y Y T W A E R A Y E W Y',\n  'T P S S S R L E L'],\n ['Y F A M Y G E K V A H T H V D T L Y V R Y H Y Y T W A V L A Y T W Y',\n  'W L L P T D I Q A'],\n ['Y S A G Y R E K Y R Q T D V S N L Y L W F D S Y T W A E R A Y T W Y',\n  'Y I I S T H Y Q F'],\n ['Y Y A G Y R E K Y R Q T D V N K L Y L R Y N F Y T W A E R A Y T W Y',\n  'T S G S S N T D T'],\n ['Y Y A E Y R N I Y A Q T D E S N L Y W T Y N L Y T W A V L A Y L W Y',\n  'T P L Y T D N T A'],\n ['Y Y A G Y R E K Y R Q T D V S N L Y L W Y D S Y T W A A Q A Y T W Y',\n  'N S S P S R T S L'],\n ['Y F A M Y G E K V A H T H V D T L Y V R Y H Y Y T W A V L A Y T W Y',\n  'F G Y V C E T E F P'],\n ['Y H T K Y R E I S T N T Y E S N L Y W R Y N L Y T W A E L A Y L W Y',\n  'S V A V S E G K P'],\n ['Y F S G Y R E K Y R Q T D V S N L Y L W C D Y Y T W A E R A Y T W Y',\n  'S A P S S Q A R L'],\n ['Y Y A G Y R E K Y R Q T D V S N L Y L W Y D S Y T W A A Q A Y T W Y',\n  'Y G S G S Q T R A'],\n ['Y Y A G Y R E K Y R Q T D V N K L Y L R Y D S Y T W A E W A Y E W Y',\n  'Y A A P Y K S D F'],\n ['Y Y A M Y G E N M A S T Y E N I A Y I V Y D S Y T W A V L A Y L W Y',\n  'D Y S G T R S N A'],\n ['Y F S G Y R E K Y R Q T D V S N L Y L W C D Y Y T W A E R A Y T W Y',\n  'S G P P P R C S V'],\n ['Y S A M Y E E K V A H T D E N I A Y L M F H Y Y T W A V Q A Y T G Y',\n  'P Y I A S R S Q I'],\n ['Y Y A G Y R E K Y R Q A D V S N L Y L W Y D S Y T W A E W A Y T W Y',\n  'T A F P Q R T E L'],\n ['Y Y T M Y R E I S T N T Y E N T A Y W T Y N L Y T W A V L A Y E W Y',\n  'C P A A T E T N V'],\n ['Y Y A T Y R N I F T N T Y E S N L Y I R Y D S Y T W A V L A Y L W Y',\n  'S P L V T H Q N P'],\n ['Y Y A M Y R N N V A Q T D V D T L Y I R Y H Y Y T W A V W A Y T W Y',\n  'S V A S S R S S V'],\n ['Y Y A M Y G E K V A H T H V D T L Y V R Y H Y Y T W A V L A Y T W Y',\n  'Y I P P C Q C T V'],\n ['Y Y S E Y R N I Y A Q T D E S N L Y L S Y D Y Y T W A E R A Y E W Y',\n  'F P A F T D S R F'],\n ['Y Y A T Y R N I F T N T Y E S N L Y I R Y D S Y T W A V L A Y L W Y',\n  'T Y L I S E L E A'],\n ['Y F A M Y G E K V A H T H V D T L Y L R Y H Y Y T W A V W A Y T W Y',\n  'W G S P Y K S N G'],\n ['Y Y A M Y G E N M A S T Y E N I A Y I V Y N Y Y T W A V L A Y L W Y',\n  'T S G I F E T K F'],\n ['Y D S E Y R N I F T N T D E S N L Y L S Y N Y Y T W A V D A Y T W Y',\n  'T F L L F D L E'],\n ['Y Y S E Y R N I Y A Q T D E S N L Y L S Y D Y Y T W A E R A Y E W Y',\n  'T P A S S R A Q T L'],\n ['Y Y A M Y R E I S T N T Y E S N L Y L R Y D S Y T W A E W A Y L W Y',\n  'T L I S C Q S Q F'],\n ['Y D S E Y R N I F T N T D E S N L Y L S Y N Y Y T W A V D A Y T W Y',\n  'S Y G V T R V E S'],\n ['Y Y A G Y R E K Y R Q T D V S N L Y L R Y N F Y T W A E R A Y T W Y',\n  'S A F A S N P E F'],\n ['Y Y S E Y R N I C T N T Y E S N L Y L R Y D S Y T W A E L A Y L W Y',\n  'T L I I S K S S S'],\n ['Y Y A T Y R N I F T N T Y E S N L Y I R Y D F Y T W A V L A Y L W Y',\n  'S P A P T H N S L'],\n ['Y Y A T Y R N I F T N T Y E N I A Y W T Y N Y Y T W A E L A Y L W H',\n  'S S S L P K S H L'],\n ['Y F S G Y R E K Y R Q T D V S N L Y L W C D Y Y T W A E R A Y T W Y',\n  'S G P A S H N S L'],\n ['Y Y A M Y G E N M A S T Y E N I A Y I V Y D S Y T W A V L A Y L W Y',\n  'T G V L L H P E W'],\n ['Y Y A T Y R N I F T N T Y E N I A Y W T Y N Y Y T W A E L A Y L W H',\n  'T L I P Y R C D L'],\n ['Y Y A G Y R E K Y R Q T D V S N L Y I R Y D Y Y T W A E L A Y L W Y',\n  'S S L P T Q M D Y'],\n ['Y F A M Y G E K V A H T H V D T L Y V R Y H Y Y T W A V L A Y T W Y',\n  'S I F I N K L N G A'],\n ['Y D S G Y R E K Y R Q A D V S N L Y F R Y D F Y T L A A D A Y T W Y',\n  'Y Y I T T R A Q F'],\n ['Y D S G Y R E K Y R Q A D V N K L Y L W Y D S Y T W A E W A Y T W Y',\n  'S A F A S N P E F'],\n ['Y Y A G Y R E K Y R Q T D V S N L Y L W Y D S Y T W A A Q A Y T W Y',\n  'T P W S P R L E S'],\n ['Y Y A M Y R E K Y R Q T D V S N L Y L R Y D S Y T W A E W A Y L W Y',\n  'Y G P P V R T E Y'],\n ['Y H T E Y R E I C A K T D E D T L Y L N Y H D Y T W A V L A Y E W Y',\n  'T A P A P E F T'],\n ['Y Y A T Y R N I F T N T Y E S N L Y I R Y D S Y T W A V L A Y L W Y',\n  'F V T S S H L Q L'],\n ['Y Y A M Y R E I S T N T Y E S N L Y L R Y D S Y T W A E W A Y L W Y',\n  'T P G P S H N T A'],\n ['Y F A M Y Q E N V A H T D E S I A Y I M Y Q D Y T W A V L A Y T W Y',\n  'S I I P Y E I T L'],\n ['Y Y A G Y R E K Y R Q T D V N K L Y L R Y D S Y T W A E W A Y E W Y',\n  'T T F G S R V N V'],\n ['Y S A G Y R E K Y R Q T D V S N L Y L W F D S Y T W A E R A Y T W Y',\n  'T V A V P K S M F'],\n ['Y H S T Y R N I S T N T Y E S N L Y L R Y D S Y T W A V L A Y T W H',\n  'T L Y I S E V Q L'],\n ['Y Y A M Y R N N V A Q T D V D T L Y I R Y H Y Y T W A V W A Y T W Y',\n  'T A A G I H P Q I'],\n ['Y Y A M Y R N N V A Q T D V D T L Y I R Y H Y Y T W A V W A Y T W Y',\n  'Y A V L S E Y E T'],\n ['Y S A M Y E E K V A H T D E N I A Y L M F H Y Y T W A V Q A Y T G Y',\n  'Y Y I T T R V Q F'],\n ['Y Y A G Y R E K Y R Q T D V S N L Y I R Y D Y Y T W A E L A Y L W Y',\n  'T M G L S E S C L'],\n ['Y F A M Y G E K V A H T H V D T L Y V R Y H Y Y T W A V L A Y T W Y',\n  'S L G G F E I T P P V'],\n ['Y F S G Y R E K Y R Q T D V S N L Y L W C D Y Y T W A E R A Y T W Y',\n  'S V P V T K T N L'],\n ['Y Y S E Y R N I Y A Q T D E S N L Y L S Y D Y Y T W A E R A Y E W Y',\n  'T P A V I R I S V'],\n ['Y Y A T Y R N I F T N T Y E S N L Y I R Y D S Y T W A V L A Y L W Y',\n  'F P A F T D S R F'],\n ['Y H T E Y R E I C A K T D E D T L Y L N Y H D Y T W A V L A Y E W Y',\n  'T F A T S K V K S L'],\n ['Y Y T K Y R E I S T N T Y E N T A Y I R Y D D Y T W A V L A Y L S Y',\n  'T Y G P F Q I R I'],\n ['Y Y A G Y R E K Y R Q T D V N K L Y L R Y D S Y T W A E W A Y E W Y',\n  'T P G W T Q L D S'],\n ['Y D S G Y R E K Y R Q A D V S N L Y L R S D S Y T L A A L A Y T W Y',\n  'C V L I Y H T D I'],\n ['Y Y A G Y R E K Y R Q T D V S N L Y I R Y D Y Y T W A E L A Y L W Y',\n  'S V I P P R T E L'],\n ['Y H S T Y R E I S T N T Y E D T L Y I R S N F Y T W A V D A Y T W Y',\n  'F Y I G T Q L M'],\n ['Y Y A M Y R N I Y T N T Y E S N L Y L R Y D S Y T W A E W A Y L W Y',\n  'P P P F S Q P N S'],\n ['Y F A M Y G E K V A H T H V D T L Y V R Y H Y Y T W A E W A Y T W Y',\n  'Y L Y I M R V M A'],\n ['Y Y A G Y R E K Y R Q T D V S N L Y L R Y N F Y T W A E R A Y T W Y',\n  'S F P P Q R Y H Y'],\n ['Y Y A G Y R E K Y R Q T D V S N L Y L W Y D S Y T W A A Q A Y T W Y',\n  'Y Y I T T R V Q F'],\n ['Y Y A M Y R N N V A Q T D V D T L Y I R Y R D Y T W A V W A Y T W Y',\n  'Y I I S T H Y Q F'],\n ['Y Y A M Y R E I S T N T Y E S N L Y L R Y D S Y T W A E W A Y L W Y',\n  'P G S P S K T R G'],\n ['Y D S G Y R E K Y R Q A D V S N L Y L R S D S Y T L A A L A Y T W Y',\n  'S L G F T E I E A'],\n ['Y Y A T Y R N I F T N T Y E S N L Y I R Y D S Y T W A V L A Y L W Y',\n  'M P P L F H T H Y'],\n ['Y H T E Y R E I C A K T D E D T L Y L N Y H D Y T W A V L A Y E W Y',\n  'S I L T T H T T L'],\n ['Y D S G Y R E N Y R Q A D V S N L Y L R Y D S Y T L A A L A Y T W Y',\n  'P L G V T R P S A'],\n ['Y F A M Y Q E N V A Q T D V D T L Y I I Y R D Y T W A E L A Y T W Y',\n  'T T G I I E T Q F'],\n ['Y H T K Y R E I S T N T Y E S N L Y L S Y N Y Y T W A V L A Y E W Y',\n  'W S A L P Q Y K'],\n ['Y Y A M Y R N N V A Q T D V D T L Y V R Y H Y Y T W A V L A Y T W Y',\n  'T Y L Y N K Y S F'],\n ['Y H T E Y R E I C A K T D E D T L Y L N Y H D Y T W A V L A Y E W Y',\n  'S F G S S R S S V'],\n ['Y Y A G Y R E K Y R Q T D V S N L Y L W Y D S Y T W A A Q A Y T W Y',\n  'M S A G P K Y E Y'],\n ['Y Y A T Y R N I F T N T Y E S N L Y I R Y D S Y T W A V L A Y L W Y',\n  'M P S A S M T R L'],\n ['Y Y A T Y R N I F T N T Y E S N L Y I R Y D S Y T W A V L A Y L W Y',\n  'Y A F G Q E T N V'],\n ['Y D S G Y R E K Y R Q A D V S N L Y F R Y D F Y T L A A D A Y T W Y',\n  'S I I P Y E I T L'],\n ['Y Y A M Y R E I S T N T Y E S N L Y L R Y D S Y T W A E W A Y L W Y',\n  'Y I Y S S N F H A'],\n ['Y H T E Y R E I C A K T D E D T L Y L N Y H D Y T W A V L A Y E W Y',\n  'T T V F S H A Q T'],\n ['Y Y A G Y R E K Y R Q T D V S N L Y I R Y D Y Y T W A E L A Y L W Y',\n  'S A G V S H Q N P'],\n ['Y Y A M Y R N N V A Q T D V D T L Y I M Y R D Y T W A V W A Y T W Y',\n  'S P A L C D T H L'],\n ['Y Y S E Y R N I Y A Q T D E S N L Y L S Y D Y Y T W A E R A Y E W Y',\n  'P P P L S D T T'],\n ['Y S A M Y E E K V A H T D E N I A Y L M F H Y Y T W A V Q A Y T G Y',\n  'S A P A T H T S Y'],\n ['Y Y A T Y R N I F T N T Y E N I A Y W T Y N Y Y T W A E L A Y L W H',\n  'Y G L I F H S T F'],\n ['Y Y A M Y G E N M A S T Y E N I A Y I V Y D S Y T W A V L A Y L W Y',\n  'C P V C T K Y N L'],\n ['Y Y A T Y R N I F T N T Y E S N L Y I R Y D F Y T W A V L A Y L W Y',\n  'F P A P S E P S A'],\n ['Y Y A G Y R E K Y R Q T D V S N L Y L R Y N F Y T W A E R A Y T W Y',\n  'W S Y F S Q L Q'],\n ['Y F A M Y G E K V A H T H V D T L Y V R Y H Y Y T W A V L A Y T W Y',\n  'S L A Y N K F S I'],\n ['Y T A M Y L Q N V A Q T D A N T L Y I M Y R D Y T W A V L A Y T W Y',\n  'F I A P N K Y E Y'],\n ['Y Y S E Y R N I Y A Q T D E S N L Y L S Y D Y Y T W A E R A Y E W Y',\n  'M A W T S R F T I'],\n ['Y Y S E Y R N I Y A Q T D E S N L Y L S Y D Y Y T W A E R A Y E W Y',\n  'T F P G C R L R P'],\n ['Y Y A M Y R E I S T N T Y E S N L Y L R Y D S Y T W A E W A Y L W Y',\n  'S I P C P R S E L'],\n ['Y F A M Y G E K V A H T H V D T L Y V R Y H Y Y T W A V Q A Y T W Y',\n  'S Y V P S R A E I'],\n ['Y Y S E Y R N I Y A Q T D E S N L Y L S Y D Y Y T W A E R A Y E W Y',\n  'S P P A P H P T L'],\n ['Y F A M Y G E K V A H T H V D T L Y L R Y H Y Y T W A V W A Y T W Y',\n  'Y A V L S E Y E T'],\n ['Y Y A M Y R N I Y T N T Y E S N L Y L R Y D S Y T W A E W A Y L W Y',\n  'T P V F S K A R Y'],\n ['Y Y A T Y R N I F T N T Y E S N L Y I R Y D F Y T W A V L A Y L W Y',\n  'S P F P S H P S L'],\n ['Y F A M Y G E K V A H T H V D T L Y V R Y H Y Y T W A V L A Y T W Y',\n  'C S P Y F R A M F'],\n ['Y S A M Y E E K V A H T D E N I A Y L M F H Y Y T W A V Q A Y T G Y',\n  'F Y I T S R T Q F'],\n ['Y D S G Y R E K Y R Q A D V N K L Y L W Y D S Y T W A E W A Y T W Y',\n  'S P A A P R I S P'],\n ['Y S A G Y R E K Y R Q A D V N K L Y L R F N F Y T W A E R A Y T W Y',\n  'N Y T L S K T E F'],\n ['Y F A M Y G E K V A H T H V D T L Y V R Y H Y Y T W A E W A Y T W Y',\n  'C L V G T E I E G'],\n ['Y H T E Y R E I C A K T D E D T L Y L N Y H D Y T W A V L A Y E W Y',\n  'T V L S S M P C L L'],\n ['Y F A M Y G E K V A H T H V D T L Y V R Y H Y Y T W A V L A Y T W Y',\n  'T V A P F N P T V'],\n ['Y Y T K Y R E I S T N T Y E N T A Y I R Y D D Y T W A V L A Y L S Y',\n  'Y I A I M H P R F'],\n ['Y F A M Y Q E N M A H T D A N T L Y I I Y R D Y T W V A R V Y R G Y',\n  'P V I V S N F N Y'],\n ['Y F A M Y G E K V A H T H V D T L Y V R Y H Y Y T W A V L A Y T W Y',\n  'Y L A P F D W K I'],\n ['Y Y S E Y R N I Y A Q T D E S N L Y L S Y D Y Y T W A E R A Y E W Y',\n  'M P S P F R S S A L'],\n ['Y Y A M Y G E N M A S T Y E N I A Y I V Y D S Y T W A V L A Y L W Y',\n  'S V A S L R S E L'],\n ['Y H T E Y R E I C A K T D E D T L Y L N Y H D Y T W A V L A Y E W Y',\n  'S P A L P C I D F L'],\n ['Y F S G Y R E K Y R Q T D V S N L Y L W C D Y Y T W A E R A Y T W Y',\n  'T V P G Y R N S L'],\n ['Y Y A T Y R N I F T N T Y E N I A Y W T Y N Y Y T W A E L A Y L W H',\n  'T T V L Y R L K'],\n ['Y H T E Y R E I C A K T Y E N T A Y L N Y H D Y T W A V L A Y E W Y',\n  'L L L Y C K Y E Y'],\n ['Y F S G Y R E K Y R Q T D V S N L Y L W C D Y Y T W A E R A Y T W Y',\n  'S G P A P R C E L'],\n ['Y H T E Y R E I C A K T D E D T L Y L N Y H D Y T W A V L A Y E W Y',\n  'T Y F A N H T C P'],\n ['Y F A M Y G E K V A H T H V D T L Y V R Y H Y Y T W A V L A Y T W Y',\n  'T V T L S H P N G'],\n ['Y F A M Y G E K V A H T H V D T L Y L R Y H Y Y T W A V W A Y T W Y',\n  'Y I P P C Q C T V'],\n ['Y F A M Y Q E N M A H T D A N T L Y I I Y R D Y T W V A R V Y R G Y',\n  'N A A I S D Y D Y Y'],\n ['Y Y A M Y G E N M A S T Y E N I A Y I V Y D S Y T W A V L A Y L W Y',\n  'N S L S T E W S'],\n ['Y H T E Y R E I C A K T D E D T L Y L N Y H D Y T W A V L A Y E W Y',\n  'S P P I P H L R A'],\n ['Y F A M Y G E K V A H T H V D T L Y V R Y H Y Y T W A V L A Y T W Y',\n  'S L L P T S P R L'],\n ['Y Y S E Y R N I C T N T Y E N I A Y L R Y N F Y T W A V L T Y T W Y',\n  'T V P L C R A E L'],\n ['Y S A G Y R E K Y R Q A D V N K L Y L R F N F Y T W A E R A Y T W Y',\n  'C V F L P E P M G'],\n ['Y Y A T Y R N I F T N T Y E N I A Y W T Y N Y Y T W A E L A Y L W H',\n  'Y P L Y T Q I T V'],\n ['Y Y T K Y R E I S T N T Y E N T A Y I R Y D D Y T W A V L A Y L S Y',\n  'S V G Y P H P D W I'],\n ['Y S A M Y E E K V A H T D E N I A Y L M F H Y Y T W A V L A Y T G Y',\n  'T Y L S S R A K L'],\n ['Y Y A M Y G E N M A S T Y E N I A Y I V Y D S Y T W A V L A Y L W Y',\n  'S L A V V E T E W'],\n ['Y F A M Y G E K V A H T H V D T L Y V R Y H Y Y T W A V L A Y T W Y',\n  'S S L T S E I Q V'],\n ['Y Y A M Y G E N M A S T Y E N I A Y I V Y N Y Y T W A V L A Y L W Y',\n  'P S P P W E S N L'],\n ['Y T A M Y L Q N V A Q T D A N T L Y I M Y R D Y T W A V L A Y T W Y',\n  'N A A I S D Y D Y'],\n ['Y S A M Y E E K V A H T D E N I A Y L M F H Y Y T W A V Q A Y T G Y',\n  'M P G V T H W H S'],\n ['Y Y A T Y R N I F T N T Y E S N L Y I R Y D S Y T W A V R A Y L W Y',\n  'N P A Y P E S R Y'],\n ['Y Y A M Y R N N V A Q T D V D T L Y I R Y H Y Y T W A V W A Y T W Y',\n  'T T V F S H A Q T V V'],\n ['Y F S G Y R E K Y R Q T D V S N L Y L W C D Y Y T W A E R A Y T W Y',\n  'F A F A S H Y N L'],\n ['Y Y A G Y R E K Y R Q T D V S N L Y I R Y D Y Y T W A E L A Y L W Y',\n  'M P I S S H V D L'],\n ['Y F A M Y Q E N M A H T D A N T L Y I I Y R D Y T W V A R V Y R G Y',\n  'N A A I S D Y D Y'],\n ['Y T A M Y Q E N V A H I D V D T L Y I M Y Q D Y T W A V L A Y T W Y',\n  'S P G S F Q C R T'],\n ['Y F A M Y R N N V A H T D E S I A Y I M Y Q D Y T W A V L A Y T W Y',\n  'Y I I S T H Y Q F'],\n ['Y Y A G Y R N I Y A Q T D E S N L Y W T Y N L Y T W A V L A Y T W Y',\n  'S A L A L R W E A'],\n ['Y Y S E Y R N I Y A Q T D E S N L Y L S Y D Y Y T W A E R A Y E W Y',\n  'I V L V S K S R L'],\n ['Y Y A M Y G E K V A H T H V D T L Y V R Y H Y Y T W A V L A Y T W Y',\n  'Y A V L S E Y E T'],\n ['Y S A M Y E E K V A H T D E N I A Y L M F H Y Y T W A V L A Y T G Y',\n  'P Y I A S R S Q I'],\n ['Y D S E Y R N I F T N T D E S N L Y L S Y N Y Y T W A V D A Y T W Y',\n  'S V A L Y D C R S P'],\n ['Y S A M Y E E K V A H T D E N I A Y L M F H Y Y T W A V L A Y T G Y',\n  'S L G L T S L D F'],\n ['Y Y A M Y R N I S T N T Y E S N L Y I R Y D S Y T W A E L A Y L W Y',\n  'T T A P S H A K F'],\n ['Y H T E Y R E I C A K T D E N I A Y L N Y H D Y T W A V L A Y E W Y',\n  'G R L T A I P F W Y'],\n ['Y H T E Y R E I C A K T D E D T L Y L N Y H D Y T W A V L A Y E W Y',\n  'L D T S F L G S H S'],\n ['Y H T E Y R E I C A K T D E D T L Y L N Y H D Y T W A V L A Y E W Y',\n  'V R L P L G T L S K'],\n ['Y Y A M Y R E I S T N T Y E S N L Y L R Y D S Y T W A E W A Y L W Y',\n  'L Q Y P F A V T S Y'],\n ['Y H T E Y R E I C A K T D E D T L Y L N Y H D Y T W A V L A Y E W Y',\n  'G R I G Q A I A R R L'],\n ['Y H T E Y R E I C A K T D E S N L Y L N Y H D Y T W A V L A Y E W Y',\n  'G S L W T L L L T S'],\n ['Y H T E Y R E I C A K T D E D T L Y L N Y H D Y T W A V L A Y E W Y',\n  'G R L V S T L I S K'],\n ['Y H T K Y R E I S T N T Y E S N L Y L S Y N Y Y T W A V L A Y E W Y',\n  'I E G S T T V F H S L'],\n ['Y H T E Y R E I C A K T D E D T L Y L N Y H D Y T W A V L A Y E W Y',\n  'I N P A C Y A L C N'],\n ['Y F A M Y G E K V A H T H V D T L Y V R Y H Y Y T W A V L A Y T W Y',\n  'L D I F Y F P F D Q'],\n ['Y H T E Y R E I C A K T D E S N L Y L N Y H D Y T W A V L A Y E W Y',\n  'G R L G I G G T E S V'],\n ['Y H T E Y R E I C A K T D E D T L Y L N Y H D Y T W A V L A Y E W Y',\n  'Y R S P Y S G P K F'],\n ['Y Y T K Y R E I S T N T Y E N T A Y I R Y D D Y T W A V L A Y L S Y',\n  'A E V A L A T G Q F L'],\n ['Y T A M Y Q E N V A H I D V D T L Y I M Y Q D Y T W A V L A Y T W Y',\n  'L K P F L L S V P Q'],\n ['Y D S G Y R E K Y R Q A D V N K L Y L W Y D S Y T W A E W A Y T W Y',\n  'S D F W S S A L E T'],\n ['Y H T E Y R E I C A K T D E S N L Y L N Y H D Y T W A V L A Y E W Y',\n  'A R Y V P S T P W F L'],\n ['Y Y A M Y R E I S T N T Y E S N L Y L R Y D S Y T W A E W A Y L W Y',\n  'G Q F F L S S V T Y'],\n ['Y H T E Y R E I C A K T D E S T L Y L N Y H D Y T W A E L A Y E W Y',\n  'W R A P I A S I H S F'],\n ['Y H T K Y R E I S T N T Y E S N L Y L S Y N Y Y T W A V L A Y E W Y',\n  'G E T V Y G G S D E L'],\n ['Y H T E Y R E I C A K T D E N I A Y L N Y H D Y T W A V L A Y E W Y',\n  'Y R A W Y G L G Q T Y'],\n ['Y Y A M Y R E I S T N T Y E S N L Y L R Y D S Y T W A E W A Y L W Y',\n  'G Q V L I A A S S Y'],\n ['Y Y T K Y R E I S T N T Y E N T A Y I R Y D D Y T W A V L A Y L S Y',\n  'I E L G T A C G K Y Y'],\n ['Y Y T M Y R E I S T N T Y E N T A Y W T Y N L Y T W A V L A Y E W Y',\n  'I R P S S S G G Y W'],\n ['Y Y S E Y R N I Y A Q T D E S N L Y L S Y D Y Y T W A E R A Y E W Y',\n  'A R V P S P Y V R T'],\n ['Y H T E Y R E I C A K T D E D T L Y L N Y H D Y T W A V L A Y E W Y',\n  'G R V G W F P S T Y'],\n ['Y T A M Y L Q N V A Q T D A N T L Y I M Y R D Y T W A V L A Y T W Y',\n  'G N Y G S G N Y N D'],\n ['Y Y A M Y G E N M A S T Y E N I A Y I V Y D S Y T W A V L A Y L W Y',\n  'L T L P V F A G R W'],\n ['Y Y T K Y R E I S T N T Y E N T A Y I R Y D D Y T W A V L A Y L S Y',\n  'G E W A S G G V R S F'],\n ...]"
     },
     "execution_count": 77,
     "metadata": {},
     "output_type": "execute_result"
    }
   ],
   "source": [
    "phla_pairs = [\n",
    "    [pep, hla]\n",
    "    for pep, hla in zip(\n",
    "        df_train.HLA_sequence.apply(lambda x: ' '.join(list(x))).tolist(),\n",
    "        df_train.peptide.apply(lambda x: ' '.join(list(x))).tolist()\n",
    "    )\n",
    "]\n",
    "phla_pairs"
   ],
   "metadata": {
    "collapsed": false,
    "pycharm": {
     "name": "#%%\n"
    }
   }
  },
  {
   "cell_type": "code",
   "execution_count": 83,
   "outputs": [
    {
     "name": "stdout",
     "output_type": "stream",
     "text": [
      "[0, 1, 0, 0, 1, 0, 0, 0, 0, 1]\n",
      "646945\n"
     ]
    }
   ],
   "source": [
    "labels = df_train.label.tolist()\n",
    "print(labels[:10])\n",
    "print(len(labels))"
   ],
   "metadata": {
    "collapsed": false,
    "pycharm": {
     "name": "#%%\n"
    }
   }
  },
  {
   "cell_type": "code",
   "execution_count": 89,
   "outputs": [],
   "source": [
    "phlas = tokenizer.encode_batch(phla_pairs)"
   ],
   "metadata": {
    "collapsed": false,
    "pycharm": {
     "name": "#%%\n"
    }
   }
  },
  {
   "cell_type": "code",
   "execution_count": 90,
   "outputs": [
    {
     "name": "stdout",
     "output_type": "stream",
     "text": [
      "646945\n"
     ]
    }
   ],
   "source": [
    "ds = PHLADataset(phlas, labels)\n",
    "print(len(ds))"
   ],
   "metadata": {
    "collapsed": false,
    "pycharm": {
     "name": "#%%\n"
    }
   }
  },
  {
   "cell_type": "code",
   "execution_count": 91,
   "outputs": [
    {
     "data": {
      "text/plain": "{'labels': tensor(0),\n 'input_ids': tensor([ 1, 22, 19,  3, 13, 22, 12, 16, 14, 20,  3, 16, 19,  5,  3, 14, 19, 12,\n         22, 10, 13, 22, 17,  5, 22, 19, 21,  3, 20, 12,  3, 22, 19, 21, 22,  2,\n         14, 18,  5, 17,  7, 10, 17, 10, 22, 14, 11,  2,  0]),\n 'attention_mask': tensor([1, 1, 1, 1, 1, 1, 1, 1, 1, 1, 1, 1, 1, 1, 1, 1, 1, 1, 1, 1, 1, 1, 1, 1,\n         1, 1, 1, 1, 1, 1, 1, 1, 1, 1, 1, 1, 1, 1, 1, 1, 1, 1, 1, 1, 1, 1, 1, 1,\n         0]),\n 'token_type_ids': tensor([0, 0, 0, 0, 0, 0, 0, 0, 0, 0, 0, 0, 0, 0, 0, 0, 0, 0, 0, 0, 0, 0, 0, 0,\n         0, 0, 0, 0, 0, 0, 0, 0, 0, 0, 0, 0, 1, 1, 1, 1, 1, 1, 1, 1, 1, 1, 1, 1,\n         0])}"
     },
     "execution_count": 91,
     "metadata": {},
     "output_type": "execute_result"
    }
   ],
   "source": [
    "ds[2]"
   ],
   "metadata": {
    "collapsed": false,
    "pycharm": {
     "name": "#%%\n"
    }
   }
  },
  {
   "cell_type": "code",
   "execution_count": 106,
   "outputs": [
    {
     "name": "stdout",
     "output_type": "stream",
     "text": [
      "23\n"
     ]
    }
   ],
   "source": [
    "import torch\n",
    "\n",
    "from transformers import BertForSequenceClassification, BertConfig\n",
    "\n",
    "print(tokenizer.get_vocab_size())"
   ],
   "metadata": {
    "collapsed": false,
    "pycharm": {
     "name": "#%%\n"
    }
   }
  },
  {
   "cell_type": "code",
   "execution_count": 107,
   "outputs": [],
   "source": [
    "\n",
    "\n",
    "config = BertConfig(vocab_size=23,\n",
    "                    num_labels=2,\n",
    "                    hidden_size=512,\n",
    "                    num_hidden_layers=2,\n",
    "                    num_attention_heads=4,\n",
    "                    intermediate_size=1024,\n",
    "                    hidden_act=\"gelu\",\n",
    "                    hidden_dropout_prob=0.1,\n",
    "                    attention_probs_dropout_prob=0.1,\n",
    "                    max_position_embeddings=256,\n",
    "                    type_vocab_size=2,\n",
    "                    initializer_range=0.02,\n",
    "                    layer_norm_eps=1e-9,\n",
    "                    pad_token_id=0,\n",
    "                    position_embedding_type=\"absolute\",\n",
    "                    use_cache=True,\n",
    "                    classifier_dropout=None,\n",
    "                    )\n",
    "\n",
    "model = BertForSequenceClassification(config)"
   ],
   "metadata": {
    "collapsed": false,
    "pycharm": {
     "name": "#%%\n"
    }
   }
  },
  {
   "cell_type": "code",
   "execution_count": 94,
   "outputs": [
    {
     "data": {
      "text/plain": "{'labels': tensor(0),\n 'input_ids': tensor([ 1, 22,  7,  3, 13, 22,  8,  6, 11, 20,  3,  9, 19,  9, 20,  5, 19, 12,\n         22, 20, 17,  4,  9, 22, 22, 19, 21,  3, 20, 12,  3, 22, 19, 21, 22,  2,\n         14,  3, 16, 11, 12, 12, 18,  6,  3, 12,  6,  2,  0]),\n 'attention_mask': tensor([1, 1, 1, 1, 1, 1, 1, 1, 1, 1, 1, 1, 1, 1, 1, 1, 1, 1, 1, 1, 1, 1, 1, 1,\n         1, 1, 1, 1, 1, 1, 1, 1, 1, 1, 1, 1, 1, 1, 1, 1, 1, 1, 1, 1, 1, 1, 1, 1,\n         0]),\n 'token_type_ids': tensor([0, 0, 0, 0, 0, 0, 0, 0, 0, 0, 0, 0, 0, 0, 0, 0, 0, 0, 0, 0, 0, 0, 0, 0,\n         0, 0, 0, 0, 0, 0, 0, 0, 0, 0, 0, 0, 1, 1, 1, 1, 1, 1, 1, 1, 1, 1, 1, 1,\n         0])}"
     },
     "execution_count": 94,
     "metadata": {},
     "output_type": "execute_result"
    }
   ],
   "source": [
    "ds[0]"
   ],
   "metadata": {
    "collapsed": false,
    "pycharm": {
     "name": "#%%\n"
    }
   }
  },
  {
   "cell_type": "code",
   "execution_count": 97,
   "outputs": [],
   "source": [
    "x = ds[0]"
   ],
   "metadata": {
    "collapsed": false,
    "pycharm": {
     "name": "#%%\n"
    }
   }
  },
  {
   "cell_type": "code",
   "execution_count": 101,
   "outputs": [
    {
     "data": {
      "text/plain": "tensor(0)"
     },
     "execution_count": 101,
     "metadata": {},
     "output_type": "execute_result"
    }
   ],
   "source": [
    "x['labels']"
   ],
   "metadata": {
    "collapsed": false,
    "pycharm": {
     "name": "#%%\n"
    }
   }
  },
  {
   "cell_type": "code",
   "execution_count": 108,
   "outputs": [
    {
     "ename": "ValueError",
     "evalue": "not enough values to unpack (expected 2, got 1)",
     "output_type": "error",
     "traceback": [
      "\u001B[0;31m---------------------------------------------------------------------------\u001B[0m",
      "\u001B[0;31mValueError\u001B[0m                                Traceback (most recent call last)",
      "Input \u001B[0;32mIn [108]\u001B[0m, in \u001B[0;36m<cell line: 1>\u001B[0;34m()\u001B[0m\n\u001B[0;32m----> 1\u001B[0m loss \u001B[38;5;241m=\u001B[39m \u001B[43mmodel\u001B[49m\u001B[43m(\u001B[49m\n\u001B[1;32m      2\u001B[0m \u001B[43m    \u001B[49m\u001B[43minput_ids\u001B[49m\u001B[38;5;241;43m=\u001B[39;49m\u001B[43mx\u001B[49m\u001B[43m[\u001B[49m\u001B[38;5;124;43m'\u001B[39;49m\u001B[38;5;124;43minput_ids\u001B[39;49m\u001B[38;5;124;43m'\u001B[39;49m\u001B[43m]\u001B[49m\u001B[43m,\u001B[49m\n\u001B[1;32m      3\u001B[0m \u001B[43m    \u001B[49m\u001B[43mattention_mask\u001B[49m\u001B[38;5;241;43m=\u001B[39;49m\u001B[43mx\u001B[49m\u001B[43m[\u001B[49m\u001B[38;5;124;43m'\u001B[39;49m\u001B[38;5;124;43mattention_mask\u001B[39;49m\u001B[38;5;124;43m'\u001B[39;49m\u001B[43m]\u001B[49m\u001B[43m,\u001B[49m\n\u001B[1;32m      4\u001B[0m \u001B[43m    \u001B[49m\u001B[43mtoken_type_ids\u001B[49m\u001B[38;5;241;43m=\u001B[39;49m\u001B[43mx\u001B[49m\u001B[43m[\u001B[49m\u001B[38;5;124;43m'\u001B[39;49m\u001B[38;5;124;43mtoken_type_ids\u001B[39;49m\u001B[38;5;124;43m'\u001B[39;49m\u001B[43m]\u001B[49m\u001B[43m,\u001B[49m\n\u001B[1;32m      5\u001B[0m \u001B[43m    \u001B[49m\u001B[43mlabels\u001B[49m\u001B[38;5;241;43m=\u001B[39;49m\u001B[43mx\u001B[49m\u001B[43m[\u001B[49m\u001B[38;5;124;43m'\u001B[39;49m\u001B[38;5;124;43mlabels\u001B[39;49m\u001B[38;5;124;43m'\u001B[39;49m\u001B[43m]\u001B[49m\n\u001B[1;32m      6\u001B[0m \u001B[43m)\u001B[49m\u001B[38;5;241m.\u001B[39mloss\n",
      "File \u001B[0;32m~/anaconda3/envs/pyg/lib/python3.8/site-packages/torch/nn/modules/module.py:1110\u001B[0m, in \u001B[0;36mModule._call_impl\u001B[0;34m(self, *input, **kwargs)\u001B[0m\n\u001B[1;32m   1106\u001B[0m \u001B[38;5;66;03m# If we don't have any hooks, we want to skip the rest of the logic in\u001B[39;00m\n\u001B[1;32m   1107\u001B[0m \u001B[38;5;66;03m# this function, and just call forward.\u001B[39;00m\n\u001B[1;32m   1108\u001B[0m \u001B[38;5;28;01mif\u001B[39;00m \u001B[38;5;129;01mnot\u001B[39;00m (\u001B[38;5;28mself\u001B[39m\u001B[38;5;241m.\u001B[39m_backward_hooks \u001B[38;5;129;01mor\u001B[39;00m \u001B[38;5;28mself\u001B[39m\u001B[38;5;241m.\u001B[39m_forward_hooks \u001B[38;5;129;01mor\u001B[39;00m \u001B[38;5;28mself\u001B[39m\u001B[38;5;241m.\u001B[39m_forward_pre_hooks \u001B[38;5;129;01mor\u001B[39;00m _global_backward_hooks\n\u001B[1;32m   1109\u001B[0m         \u001B[38;5;129;01mor\u001B[39;00m _global_forward_hooks \u001B[38;5;129;01mor\u001B[39;00m _global_forward_pre_hooks):\n\u001B[0;32m-> 1110\u001B[0m     \u001B[38;5;28;01mreturn\u001B[39;00m \u001B[43mforward_call\u001B[49m\u001B[43m(\u001B[49m\u001B[38;5;241;43m*\u001B[39;49m\u001B[38;5;28;43minput\u001B[39;49m\u001B[43m,\u001B[49m\u001B[43m \u001B[49m\u001B[38;5;241;43m*\u001B[39;49m\u001B[38;5;241;43m*\u001B[39;49m\u001B[43mkwargs\u001B[49m\u001B[43m)\u001B[49m\n\u001B[1;32m   1111\u001B[0m \u001B[38;5;66;03m# Do not call functions when jit is used\u001B[39;00m\n\u001B[1;32m   1112\u001B[0m full_backward_hooks, non_full_backward_hooks \u001B[38;5;241m=\u001B[39m [], []\n",
      "File \u001B[0;32m~/anaconda3/envs/pyg/lib/python3.8/site-packages/transformers/models/bert/modeling_bert.py:1554\u001B[0m, in \u001B[0;36mBertForSequenceClassification.forward\u001B[0;34m(self, input_ids, attention_mask, token_type_ids, position_ids, head_mask, inputs_embeds, labels, output_attentions, output_hidden_states, return_dict)\u001B[0m\n\u001B[1;32m   1546\u001B[0m \u001B[38;5;124mr\u001B[39m\u001B[38;5;124;03m\"\"\"\u001B[39;00m\n\u001B[1;32m   1547\u001B[0m \u001B[38;5;124;03mlabels (`torch.LongTensor` of shape `(batch_size,)`, *optional*):\u001B[39;00m\n\u001B[1;32m   1548\u001B[0m \u001B[38;5;124;03m    Labels for computing the sequence classification/regression loss. Indices should be in `[0, ...,\u001B[39;00m\n\u001B[1;32m   1549\u001B[0m \u001B[38;5;124;03m    config.num_labels - 1]`. If `config.num_labels == 1` a regression loss is computed (Mean-Square loss), If\u001B[39;00m\n\u001B[1;32m   1550\u001B[0m \u001B[38;5;124;03m    `config.num_labels > 1` a classification loss is computed (Cross-Entropy).\u001B[39;00m\n\u001B[1;32m   1551\u001B[0m \u001B[38;5;124;03m\"\"\"\u001B[39;00m\n\u001B[1;32m   1552\u001B[0m return_dict \u001B[38;5;241m=\u001B[39m return_dict \u001B[38;5;28;01mif\u001B[39;00m return_dict \u001B[38;5;129;01mis\u001B[39;00m \u001B[38;5;129;01mnot\u001B[39;00m \u001B[38;5;28;01mNone\u001B[39;00m \u001B[38;5;28;01melse\u001B[39;00m \u001B[38;5;28mself\u001B[39m\u001B[38;5;241m.\u001B[39mconfig\u001B[38;5;241m.\u001B[39muse_return_dict\n\u001B[0;32m-> 1554\u001B[0m outputs \u001B[38;5;241m=\u001B[39m \u001B[38;5;28;43mself\u001B[39;49m\u001B[38;5;241;43m.\u001B[39;49m\u001B[43mbert\u001B[49m\u001B[43m(\u001B[49m\n\u001B[1;32m   1555\u001B[0m \u001B[43m    \u001B[49m\u001B[43minput_ids\u001B[49m\u001B[43m,\u001B[49m\n\u001B[1;32m   1556\u001B[0m \u001B[43m    \u001B[49m\u001B[43mattention_mask\u001B[49m\u001B[38;5;241;43m=\u001B[39;49m\u001B[43mattention_mask\u001B[49m\u001B[43m,\u001B[49m\n\u001B[1;32m   1557\u001B[0m \u001B[43m    \u001B[49m\u001B[43mtoken_type_ids\u001B[49m\u001B[38;5;241;43m=\u001B[39;49m\u001B[43mtoken_type_ids\u001B[49m\u001B[43m,\u001B[49m\n\u001B[1;32m   1558\u001B[0m \u001B[43m    \u001B[49m\u001B[43mposition_ids\u001B[49m\u001B[38;5;241;43m=\u001B[39;49m\u001B[43mposition_ids\u001B[49m\u001B[43m,\u001B[49m\n\u001B[1;32m   1559\u001B[0m \u001B[43m    \u001B[49m\u001B[43mhead_mask\u001B[49m\u001B[38;5;241;43m=\u001B[39;49m\u001B[43mhead_mask\u001B[49m\u001B[43m,\u001B[49m\n\u001B[1;32m   1560\u001B[0m \u001B[43m    \u001B[49m\u001B[43minputs_embeds\u001B[49m\u001B[38;5;241;43m=\u001B[39;49m\u001B[43minputs_embeds\u001B[49m\u001B[43m,\u001B[49m\n\u001B[1;32m   1561\u001B[0m \u001B[43m    \u001B[49m\u001B[43moutput_attentions\u001B[49m\u001B[38;5;241;43m=\u001B[39;49m\u001B[43moutput_attentions\u001B[49m\u001B[43m,\u001B[49m\n\u001B[1;32m   1562\u001B[0m \u001B[43m    \u001B[49m\u001B[43moutput_hidden_states\u001B[49m\u001B[38;5;241;43m=\u001B[39;49m\u001B[43moutput_hidden_states\u001B[49m\u001B[43m,\u001B[49m\n\u001B[1;32m   1563\u001B[0m \u001B[43m    \u001B[49m\u001B[43mreturn_dict\u001B[49m\u001B[38;5;241;43m=\u001B[39;49m\u001B[43mreturn_dict\u001B[49m\u001B[43m,\u001B[49m\n\u001B[1;32m   1564\u001B[0m \u001B[43m\u001B[49m\u001B[43m)\u001B[49m\n\u001B[1;32m   1566\u001B[0m pooled_output \u001B[38;5;241m=\u001B[39m outputs[\u001B[38;5;241m1\u001B[39m]\n\u001B[1;32m   1568\u001B[0m pooled_output \u001B[38;5;241m=\u001B[39m \u001B[38;5;28mself\u001B[39m\u001B[38;5;241m.\u001B[39mdropout(pooled_output)\n",
      "File \u001B[0;32m~/anaconda3/envs/pyg/lib/python3.8/site-packages/torch/nn/modules/module.py:1110\u001B[0m, in \u001B[0;36mModule._call_impl\u001B[0;34m(self, *input, **kwargs)\u001B[0m\n\u001B[1;32m   1106\u001B[0m \u001B[38;5;66;03m# If we don't have any hooks, we want to skip the rest of the logic in\u001B[39;00m\n\u001B[1;32m   1107\u001B[0m \u001B[38;5;66;03m# this function, and just call forward.\u001B[39;00m\n\u001B[1;32m   1108\u001B[0m \u001B[38;5;28;01mif\u001B[39;00m \u001B[38;5;129;01mnot\u001B[39;00m (\u001B[38;5;28mself\u001B[39m\u001B[38;5;241m.\u001B[39m_backward_hooks \u001B[38;5;129;01mor\u001B[39;00m \u001B[38;5;28mself\u001B[39m\u001B[38;5;241m.\u001B[39m_forward_hooks \u001B[38;5;129;01mor\u001B[39;00m \u001B[38;5;28mself\u001B[39m\u001B[38;5;241m.\u001B[39m_forward_pre_hooks \u001B[38;5;129;01mor\u001B[39;00m _global_backward_hooks\n\u001B[1;32m   1109\u001B[0m         \u001B[38;5;129;01mor\u001B[39;00m _global_forward_hooks \u001B[38;5;129;01mor\u001B[39;00m _global_forward_pre_hooks):\n\u001B[0;32m-> 1110\u001B[0m     \u001B[38;5;28;01mreturn\u001B[39;00m \u001B[43mforward_call\u001B[49m\u001B[43m(\u001B[49m\u001B[38;5;241;43m*\u001B[39;49m\u001B[38;5;28;43minput\u001B[39;49m\u001B[43m,\u001B[49m\u001B[43m \u001B[49m\u001B[38;5;241;43m*\u001B[39;49m\u001B[38;5;241;43m*\u001B[39;49m\u001B[43mkwargs\u001B[49m\u001B[43m)\u001B[49m\n\u001B[1;32m   1111\u001B[0m \u001B[38;5;66;03m# Do not call functions when jit is used\u001B[39;00m\n\u001B[1;32m   1112\u001B[0m full_backward_hooks, non_full_backward_hooks \u001B[38;5;241m=\u001B[39m [], []\n",
      "File \u001B[0;32m~/anaconda3/envs/pyg/lib/python3.8/site-packages/transformers/models/bert/modeling_bert.py:971\u001B[0m, in \u001B[0;36mBertModel.forward\u001B[0;34m(self, input_ids, attention_mask, token_type_ids, position_ids, head_mask, inputs_embeds, encoder_hidden_states, encoder_attention_mask, past_key_values, use_cache, output_attentions, output_hidden_states, return_dict)\u001B[0m\n\u001B[1;32m    968\u001B[0m \u001B[38;5;28;01melse\u001B[39;00m:\n\u001B[1;32m    969\u001B[0m     \u001B[38;5;28;01mraise\u001B[39;00m \u001B[38;5;167;01mValueError\u001B[39;00m(\u001B[38;5;124m\"\u001B[39m\u001B[38;5;124mYou have to specify either input_ids or inputs_embeds\u001B[39m\u001B[38;5;124m\"\u001B[39m)\n\u001B[0;32m--> 971\u001B[0m batch_size, seq_length \u001B[38;5;241m=\u001B[39m input_shape\n\u001B[1;32m    972\u001B[0m device \u001B[38;5;241m=\u001B[39m input_ids\u001B[38;5;241m.\u001B[39mdevice \u001B[38;5;28;01mif\u001B[39;00m input_ids \u001B[38;5;129;01mis\u001B[39;00m \u001B[38;5;129;01mnot\u001B[39;00m \u001B[38;5;28;01mNone\u001B[39;00m \u001B[38;5;28;01melse\u001B[39;00m inputs_embeds\u001B[38;5;241m.\u001B[39mdevice\n\u001B[1;32m    974\u001B[0m \u001B[38;5;66;03m# past_key_values_length\u001B[39;00m\n",
      "\u001B[0;31mValueError\u001B[0m: not enough values to unpack (expected 2, got 1)"
     ]
    }
   ],
   "source": [
    "\n",
    "loss = model(\n",
    "    input_ids=x['input_ids'],\n",
    "    attention_mask=x['attention_mask'],\n",
    "    token_type_ids=x['token_type_ids'],\n",
    "    labels=x['labels']\n",
    ").loss"
   ],
   "metadata": {
    "collapsed": false,
    "pycharm": {
     "name": "#%%\n"
    }
   }
  },
  {
   "cell_type": "code",
   "execution_count": null,
   "outputs": [],
   "source": [
    "PHLADataModule(\n",
    "    tokenizer_path='../tokenizers/bioseq/tokenizer-bioseq-onehot.json'\n",
    ")\n",
    "\n",
    "\n",
    "class PHLADataModule(pl.LightningDataModule):\n",
    "\n",
    "    def __init__(self,\n",
    "                 train_path: str,\n",
    "                 val_path: str,\n",
    "                 test_path: str,\n",
    "                 tokenizer_path: str,\n",
    "                 max_len: int = 15,\n",
    "                 batch_size: int = 1024,\n",
    "                 num_workers: int = 4,\n",
    "                 *args,\n",
    "                 **kwargs\n",
    "                 ):\n",
    "        super().__init__()\n",
    "        self.save_hyperparameters()\n",
    "\n",
    "        self.tokenizer = Tokenizer.from_file(tokenizer_path)\n",
    "\n",
    "    def prepare_data(self) -> None:\n",
    "        df_train = pd.read_csv(self.hparams.train_path, index_col=0)\n",
    "        df_val = pd.read_csv(self.hparams.val_path, index_col=0)\n",
    "        df_test = pd.read_csv(self.hparams.test_path, index_col=0)\n",
    "\n",
    "        self.tokenizer()\n",
    "\n",
    "    def setup(self, stage: Optional[str] = None):\n",
    "        ## Creating dataframes from the list data.  The reviews are arranged in the order that the first 12,500 belong to positive reviews and the rest 12,500 belong to negative reviews.\n",
    "        df_train_reviews_clean = pd.DataFrame(self.reviews_train_clean, columns=['reviews'])\n",
    "        df_train_reviews_clean['target'] = np.where(df_train_reviews_clean.index < 12500, 1, 0)\n",
    "\n",
    "        df_test_reviews_clean = pd.DataFrame(self.reviews_test_clean, columns=['reviews'])\n",
    "        df_test_reviews_clean['target'] = np.where(df_test_reviews_clean.index < 12500, 1, 0)\n",
    "\n",
    "        # Shuffling the rows in both the train and test data.  This is very important before using the data for training.\n",
    "        df_train_reviews_clean = df_train_reviews_clean.sample(frac=1).reset_index(drop=True)\n",
    "        df_test_reviews_clean = df_test_reviews_clean.sample(frac=1).reset_index(drop=True)\n",
    "\n",
    "        # breaking the train data into training and validation\n",
    "        df_train, df_valid = train_test_split(df_train_reviews_clean, test_size=0.25,\n",
    "                                              stratify=df_train_reviews_clean['target'])\n",
    "\n",
    "        self.train = df_train.reset_index(drop=True)\n",
    "        self.val = df_valid.reset_index(drop=True)\n",
    "        self.test = df_test_reviews_clean\n",
    "\n",
    "    def train_dataloader(self):\n",
    "        return DataLoader(ImdbDataset(notes=self.train['reviews'],\n",
    "                                      targets=self.train['target'],\n",
    "                                      tokenizer=self.tokenizer,\n",
    "                                      max_len=self.hparams.max_len\n",
    "                                      ),\n",
    "                          batch_size=self.hparams.batch_size,\n",
    "                          num_workers=self.hparams.num_workers)\n",
    "\n",
    "    def val_dataloader(self):\n",
    "        return DataLoader(ImdbDataset(notes=self.val['reviews'],\n",
    "                                      targets=self.val['target'],\n",
    "                                      tokenizer=self.tokenizer,\n",
    "                                      max_len=self.hparams.max_len),\n",
    "                          batch_size=self.hparams.batch_size,\n",
    "                          num_workers=self.hparams.num_workers)\n",
    "\n",
    "    def test_dataloader(self):\n",
    "        return DataLoader(ImdbDataset(notes=self.test['reviews'],\n",
    "                                      targets=self.test['target'],\n",
    "                                      tokenizer=self.tokenizer,\n",
    "                                      max_len=self.hparams.max_len),\n",
    "                          batch_size=self.hparams.batch_size,\n",
    "                          num_workers=self.hparams.num_workers)"
   ],
   "metadata": {
    "collapsed": false,
    "pycharm": {
     "name": "#%%\n"
    }
   }
  },
  {
   "cell_type": "code",
   "execution_count": null,
   "outputs": [],
   "source": [
    "## The main Pytorch Lightning module\n",
    "class ImdbModel(pl.LightningModule):\n",
    "\n",
    "    def __init__(self,\n",
    "                 learning_rate: float = 0.0001 * 8,\n",
    "                 **kwargs):\n",
    "        super().__init__()\n",
    "\n",
    "        self.save_hyperparameters()\n",
    "\n",
    "        self.num_labels = 2\n",
    "        config = transformers.DistilBertConfig(dropout=0.1, attention_dropout=0.2)\n",
    "        self.bert = transformers.DistilBertModel.from_pretrained('distilbert-base-uncased', config=config)\n",
    "\n",
    "        self.pre_classifier = torch.nn.Linear(self.bert.config.hidden_size, self.bert.config.hidden_size)\n",
    "        self.classifier = torch.nn.Linear(self.bert.config.hidden_size, self.num_labels)\n",
    "        self.dropout = torch.nn.Dropout(self.bert.config.seq_classif_dropout)\n",
    "\n",
    "        # relu activation function\n",
    "        self.relu = torch.nn.ReLU()\n",
    "\n",
    "    def forward(self, input_ids, attention_mask, labels):\n",
    "\n",
    "        outputs = self.bert(input_ids=input_ids,\n",
    "                            attention_mask=attention_mask)\n",
    "\n",
    "        hidden_state = outputs[0]  # (bs, seq_len, dim)\n",
    "        pooled_output = hidden_state[:, 0]  # (bs, dim)\n",
    "        pooled_output = self.pre_classifier(pooled_output)  # (bs, dim)\n",
    "        pooled_output = self.relu(pooled_output)  # (bs, dim)\n",
    "        pooled_output = self.dropout(pooled_output)  # (bs, dim)\n",
    "        logits = self.classifier(pooled_output)  # (bs, dim)\n",
    "\n",
    "        return logits\n",
    "\n",
    "    def get_outputs(self, input_ids, attention_mask):\n",
    "        outputs = self.bert(input_ids=input_ids,\n",
    "                            attention_mask=attention_mask)\n",
    "        hidden_state = outputs[0]  # (bs, seq_len, dim)\n",
    "        pooled_output = hidden_state[:, 0]  # (bs, dim)\n",
    "        return pooled_output\n",
    "\n",
    "    def training_step(self, batch, batch_nb):\n",
    "        # batch\n",
    "        input_ids = batch['input_ids']\n",
    "        label = batch['label']\n",
    "        attention_mask = batch['attention_mask']\n",
    "        #token_type_ids = batch['token_type_ids']\n",
    "        # fwd\n",
    "        y_hat = self(input_ids, attention_mask, label)\n",
    "\n",
    "        # loss\n",
    "        loss_fct = torch.nn.CrossEntropyLoss()\n",
    "        loss = loss_fct(y_hat.view(-1, self.num_labels), label.view(-1))\n",
    "        #loss = F.cross_entropy(y_hat, label)\n",
    "\n",
    "        # logs\n",
    "        tensorboard_logs = {'train_loss': loss, 'learn_rate': self.optim.param_groups[0]['lr']}\n",
    "        return {'loss': loss, 'log': tensorboard_logs}\n",
    "\n",
    "    def validation_step(self, batch, batch_nb):\n",
    "        # batch\n",
    "        input_ids = batch['input_ids']\n",
    "        label = batch['label']\n",
    "        attention_mask = batch['attention_mask']\n",
    "        #token_type_ids = batch['token_type_ids']\n",
    "        # fwd\n",
    "        y_hat = self(input_ids, attention_mask, label)\n",
    "\n",
    "        # loss\n",
    "        #loss = F.cross_entropy(y_hat, label)\n",
    "        loss_fct = torch.nn.CrossEntropyLoss()\n",
    "        loss = loss_fct(y_hat.view(-1, self.num_labels), label.view(-1))\n",
    "\n",
    "        # acc\n",
    "        a, y_hat = torch.max(y_hat, dim=1)\n",
    "        val_acc = accuracy_score(y_hat.cpu(), label.cpu())\n",
    "        val_acc = torch.tensor(val_acc)\n",
    "\n",
    "        # logs\n",
    "        tensorboard_logs = {'val_loss': loss, 'val_acc': val_acc}\n",
    "        # can't log in validation step lossess, accuracy.  It wouldn't log it at every validation step\n",
    "        return {'val_loss': loss, 'val_acc': val_acc, 'progress_bar': tensorboard_logs}\n",
    "\n",
    "    def validation_epoch_end(self, outputs):\n",
    "        avg_loss = torch.stack([x['val_loss'] for x in outputs]).mean()\n",
    "        avg_val_acc = torch.stack([x['val_acc'] for x in outputs]).mean()\n",
    "\n",
    "        # logs\n",
    "        tensorboard_logs = {'val_loss': avg_loss, 'val_acc': avg_val_acc}\n",
    "        return {'val_loss': avg_loss, 'progress_bar': tensorboard_logs, 'log': tensorboard_logs}\n",
    "\n",
    "    def on_batch_end(self):\n",
    "        #for group in self.optim.param_groups:\n",
    "        #    print('learning rate', group['lr'])\n",
    "        # This is needed to use the One Cycle learning rate that needs the learning rate to change after every batch\n",
    "        # Without this, the learning rate will only change after every epoch\n",
    "        if self.sched is not None:\n",
    "            self.sched.step()\n",
    "\n",
    "    def on_epoch_end(self):\n",
    "        if self.sched is not None:\n",
    "            self.sched.step()\n",
    "\n",
    "    def test_step(self, batch, batch_nb):\n",
    "        input_ids = batch['input_ids']\n",
    "        label = batch['label']\n",
    "        attention_mask = batch['attention_mask']\n",
    "        #token_type_ids = batch['token_type_ids']\n",
    "        y_hat = self(input_ids, attention_mask, label)\n",
    "\n",
    "        # loss\n",
    "        loss_fct = torch.nn.CrossEntropyLoss()\n",
    "        loss = loss_fct(y_hat.view(-1, self.num_labels), label.view(-1))\n",
    "\n",
    "        a, y_hat = torch.max(y_hat, dim=1)\n",
    "        test_acc = accuracy_score(y_hat.cpu(), label.cpu())\n",
    "\n",
    "        return {'test_loss': loss, 'test_acc': torch.tensor(test_acc)}\n",
    "\n",
    "    def test_epoch_end(self, outputs):\n",
    "        avg_loss = torch.stack([x['test_loss'] for x in outputs]).mean()\n",
    "        avg_test_acc = torch.stack([x['test_acc'] for x in outputs]).mean()\n",
    "\n",
    "        tensorboard_logs = {'avg_test_loss': avg_loss, 'avg_test_acc': avg_test_acc}\n",
    "        return {'avg_test_acc': avg_test_acc, 'log': tensorboard_logs, 'progress_bar': tensorboard_logs}\n",
    "\n",
    "    # ---------------------\n",
    "    # TRAINING SETUP\n",
    "    # ---------------------\n",
    "    def configure_optimizers(self):\n",
    "        # REQUIRED\n",
    "        # can return multiple optimizers and learning_rate schedulers\n",
    "        # (LBFGS it is automatically supported, no need for closure function)\n",
    "        optimizer = torch.optim.Adam([p for p in self.parameters() if p.requires_grad], lr=self.hparams.learning_rate,\n",
    "                                     eps=1e-08)\n",
    "        #scheduler = StepLR(optimizer, step_size=1, gamma=0.2)\n",
    "        scheduler = torch.optim.lr_scheduler.OneCycleLR(optimizer, max_lr=2e-5, total_steps=2000)\n",
    "        #scheduler = torch.optim.lr_scheduler.CyclicLR(optimizer, base_lr=1e-7, max_lr=1e-4, cycle_momentum=False,step_size_up=300)\n",
    "\n",
    "        #scheduler = ReduceLROnPlateau(optimizer, patience=0, factor=0.2)\n",
    "        self.sched = scheduler\n",
    "        self.optim = optimizer\n",
    "        return [optimizer], [scheduler]"
   ],
   "metadata": {
    "collapsed": false,
    "pycharm": {
     "name": "#%%\n"
    }
   }
  }
 ],
 "metadata": {
  "kernelspec": {
   "display_name": "Python 3",
   "language": "python",
   "name": "python3"
  },
  "language_info": {
   "codemirror_mode": {
    "name": "ipython",
    "version": 2
   },
   "file_extension": ".py",
   "mimetype": "text/x-python",
   "name": "python",
   "nbconvert_exporter": "python",
   "pygments_lexer": "ipython2",
   "version": "2.7.6"
  }
 },
 "nbformat": 4,
 "nbformat_minor": 0
}
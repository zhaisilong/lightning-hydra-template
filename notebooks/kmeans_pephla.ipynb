{
 "cells": [
  {
   "cell_type": "code",
   "execution_count": 7,
   "metadata": {
    "collapsed": true,
    "pycharm": {
     "name": "#%%\n"
    }
   },
   "outputs": [],
   "source": [
    "import pandas as pd\n",
    "from sklearn.cluster import KMeans\n",
    "import numpy as np\n",
    "from collections import defaultdict\n",
    "from typing import List\n",
    "from tqdm.auto import tqdm"
   ]
  },
  {
   "cell_type": "code",
   "execution_count": 8,
   "outputs": [
    {
     "data": {
      "text/plain": "'reconstruct train/val, keep test_data\\nconcat (train, val)\\n-> KMeans (1000)\\n-> select 1/10 per class\\n-> reconstruct\\n'"
     },
     "execution_count": 8,
     "metadata": {},
     "output_type": "execute_result"
    }
   ],
   "source": [
    "\"\"\"reconstruct train/val, keep test_data\n",
    "concat (train, val)\n",
    "-> KMeans (1000)\n",
    "-> select 1/10 per class\n",
    "-> reconstruct\n",
    "\"\"\""
   ],
   "metadata": {
    "collapsed": false,
    "pycharm": {
     "name": "#%%\n"
    }
   }
  },
  {
   "cell_type": "code",
   "execution_count": 115,
   "outputs": [],
   "source": [
    "train_path = '../data/AOMP_ALL_RAW/train_data_fold0.csv'\n",
    "val_path = '../data/AOMP_ALL_RAW/val_data_fold0.csv'\n",
    "new_train_path = '../data/AOMP_KMEANS/train.csv'\n",
    "new_val_path = '../data/AOMP_KMEANS/val.csv'"
   ],
   "metadata": {
    "collapsed": false,
    "pycharm": {
     "name": "#%%\n"
    }
   }
  },
  {
   "cell_type": "code",
   "execution_count": 10,
   "outputs": [],
   "source": [
    "token2int = {x: i for i, x in enumerate('XGAVLIPFYWSTCMNQDEKRH')}\n",
    "\n",
    "\n",
    "def str2int(seq: str, max_len: int = 15) -> List[int]:\n",
    "    seq = seq.ljust(max_len, 'X')  # padding X at right\n",
    "    # truncate  at max_len\n",
    "    seq = seq[:max_len]\n",
    "    return [token2int[c] for c in list(seq)]"
   ],
   "metadata": {
    "collapsed": false,
    "pycharm": {
     "name": "#%%\n"
    }
   }
  },
  {
   "cell_type": "code",
   "execution_count": 12,
   "outputs": [],
   "source": [
    "df = pd.concat([pd.read_csv(train_path, index_col=0), pd.read_csv(val_path, index_col=0)])"
   ],
   "metadata": {
    "collapsed": false,
    "pycharm": {
     "name": "#%%\n"
    }
   }
  },
  {
   "cell_type": "code",
   "execution_count": 13,
   "outputs": [
    {
     "data": {
      "text/plain": "     peptide  length          HLA  label                        HLA_sequence\n0  FLTGTFVTA       9  HLA-A*24:02      0  YSAMYEEKVAHTDENIAYLMFHYYTWAVQAYTGY\n1  HRKVMSQNF       9  HLA-B*27:05      1  YHTEYREICAKTDEDTLYLNYHDYTWAVLAYEWY\n2  VMDKYILDN       9  HLA-B*44:03      0  YYTKYREISTNTYENTAYIRYDDYTWAVLAYLSY\n3  MTFDGEVKT       9  HLA-B*15:01      0  YYAMYREISTNTYESNLYLRYDSYTWAEWAYLWY\n4  CLLTPGVQG       9  HLA-A*03:01      0  YFAMYQENVAQTDVDTLYIIYRDYTWAELAYTWY",
      "text/html": "<div>\n<style scoped>\n    .dataframe tbody tr th:only-of-type {\n        vertical-align: middle;\n    }\n\n    .dataframe tbody tr th {\n        vertical-align: top;\n    }\n\n    .dataframe thead th {\n        text-align: right;\n    }\n</style>\n<table border=\"1\" class=\"dataframe\">\n  <thead>\n    <tr style=\"text-align: right;\">\n      <th></th>\n      <th>peptide</th>\n      <th>length</th>\n      <th>HLA</th>\n      <th>label</th>\n      <th>HLA_sequence</th>\n    </tr>\n  </thead>\n  <tbody>\n    <tr>\n      <th>0</th>\n      <td>FLTGTFVTA</td>\n      <td>9</td>\n      <td>HLA-A*24:02</td>\n      <td>0</td>\n      <td>YSAMYEEKVAHTDENIAYLMFHYYTWAVQAYTGY</td>\n    </tr>\n    <tr>\n      <th>1</th>\n      <td>HRKVMSQNF</td>\n      <td>9</td>\n      <td>HLA-B*27:05</td>\n      <td>1</td>\n      <td>YHTEYREICAKTDEDTLYLNYHDYTWAVLAYEWY</td>\n    </tr>\n    <tr>\n      <th>2</th>\n      <td>VMDKYILDN</td>\n      <td>9</td>\n      <td>HLA-B*44:03</td>\n      <td>0</td>\n      <td>YYTKYREISTNTYENTAYIRYDDYTWAVLAYLSY</td>\n    </tr>\n    <tr>\n      <th>3</th>\n      <td>MTFDGEVKT</td>\n      <td>9</td>\n      <td>HLA-B*15:01</td>\n      <td>0</td>\n      <td>YYAMYREISTNTYESNLYLRYDSYTWAEWAYLWY</td>\n    </tr>\n    <tr>\n      <th>4</th>\n      <td>CLLTPGVQG</td>\n      <td>9</td>\n      <td>HLA-A*03:01</td>\n      <td>0</td>\n      <td>YFAMYQENVAQTDVDTLYIIYRDYTWAELAYTWY</td>\n    </tr>\n  </tbody>\n</table>\n</div>"
     },
     "execution_count": 13,
     "metadata": {},
     "output_type": "execute_result"
    }
   ],
   "source": [
    "df.head()"
   ],
   "metadata": {
    "collapsed": false,
    "pycharm": {
     "name": "#%%\n"
    }
   }
  },
  {
   "cell_type": "code",
   "execution_count": 14,
   "outputs": [],
   "source": [
    "unique_peptides = df.peptide.drop_duplicates()  # Series"
   ],
   "metadata": {
    "collapsed": false,
    "pycharm": {
     "name": "#%%\n"
    }
   }
  },
  {
   "cell_type": "code",
   "execution_count": 15,
   "outputs": [
    {
     "data": {
      "text/plain": "  0%|          | 0/583866 [00:00<?, ?it/s]",
      "application/vnd.jupyter.widget-view+json": {
       "version_major": 2,
       "version_minor": 0,
       "model_id": "a2297a111b124ab2b568e87e89f7bf1d"
      }
     },
     "metadata": {},
     "output_type": "display_data"
    }
   ],
   "source": [
    "input_ids = []\n",
    "with tqdm(unique_peptides) as pbar:\n",
    "    for peptide in pbar:\n",
    "        input_ids.append(str2int(peptide))"
   ],
   "metadata": {
    "collapsed": false,
    "pycharm": {
     "name": "#%%\n"
    }
   }
  },
  {
   "cell_type": "code",
   "execution_count": 16,
   "outputs": [],
   "source": [
    "# to numpy\n",
    "X = np.array(input_ids)"
   ],
   "metadata": {
    "collapsed": false,
    "pycharm": {
     "name": "#%%\n"
    }
   }
  },
  {
   "cell_type": "code",
   "execution_count": 17,
   "outputs": [
    {
     "data": {
      "text/plain": "583866"
     },
     "execution_count": 17,
     "metadata": {},
     "output_type": "execute_result"
    }
   ],
   "source": [
    "len(X)"
   ],
   "metadata": {
    "collapsed": false,
    "pycharm": {
     "name": "#%%\n"
    }
   }
  },
  {
   "cell_type": "code",
   "execution_count": 19,
   "outputs": [
    {
     "name": "stdout",
     "output_type": "stream",
     "text": [
      "CPU times: user 4h 44min 15s, sys: 1h 55min 7s, total: 6h 39min 23s\n",
      "Wall time: 1h 5min 9s\n"
     ]
    }
   ],
   "source": [
    "%%time\n",
    "kmeans = KMeans(n_clusters=1000, random_state=0).fit(X)"
   ],
   "metadata": {
    "collapsed": false,
    "pycharm": {
     "name": "#%%\n"
    }
   }
  },
  {
   "cell_type": "code",
   "execution_count": 20,
   "outputs": [
    {
     "data": {
      "text/plain": "array([ 44, 300, 692, ..., 613, 235,   8], dtype=int32)"
     },
     "execution_count": 20,
     "metadata": {},
     "output_type": "execute_result"
    }
   ],
   "source": [
    "kmeans.labels_"
   ],
   "metadata": {
    "collapsed": false,
    "pycharm": {
     "name": "#%%\n"
    }
   }
  },
  {
   "cell_type": "code",
   "execution_count": 21,
   "outputs": [
    {
     "data": {
      "text/plain": "  0%|          | 0/718332 [00:00<?, ?it/s]",
      "application/vnd.jupyter.widget-view+json": {
       "version_major": 2,
       "version_minor": 0,
       "model_id": "62711ab8bcb0497a93f3340ab5e27dc9"
      }
     },
     "metadata": {},
     "output_type": "display_data"
    }
   ],
   "source": [
    "\"\"\"获取预测结果\"\"\"\n",
    "X2 = []\n",
    "with tqdm(df.peptide) as pbar:\n",
    "    for peptide in pbar:\n",
    "        X2.append(str2int(peptide))\n",
    "X2 = np.array(X2)"
   ],
   "metadata": {
    "collapsed": false,
    "pycharm": {
     "name": "#%%\n"
    }
   }
  },
  {
   "cell_type": "code",
   "execution_count": 22,
   "outputs": [
    {
     "name": "stderr",
     "output_type": "stream",
     "text": [
      "Exception ignored on calling ctypes callback function: <function _ThreadpoolInfo._find_modules_with_dl_iterate_phdr.<locals>.match_module_callback at 0x7f86bfa8bee0>\n",
      "Traceback (most recent call last):\n",
      "  File \"/home/seeyou/anaconda3/envs/pyg/lib/python3.8/site-packages/threadpoolctl.py\", line 400, in match_module_callback\n",
      "    self._make_module_from_path(filepath)\n",
      "  File \"/home/seeyou/anaconda3/envs/pyg/lib/python3.8/site-packages/threadpoolctl.py\", line 515, in _make_module_from_path\n",
      "    module = module_class(filepath, prefix, user_api, internal_api)\n",
      "  File \"/home/seeyou/anaconda3/envs/pyg/lib/python3.8/site-packages/threadpoolctl.py\", line 606, in __init__\n",
      "    self.version = self.get_version()\n",
      "  File \"/home/seeyou/anaconda3/envs/pyg/lib/python3.8/site-packages/threadpoolctl.py\", line 646, in get_version\n",
      "    config = get_config().split()\n",
      "AttributeError: 'NoneType' object has no attribute 'split'\n"
     ]
    }
   ],
   "source": [
    "preds = kmeans.predict(X2)"
   ],
   "metadata": {
    "collapsed": false,
    "pycharm": {
     "name": "#%%\n"
    }
   }
  },
  {
   "cell_type": "code",
   "execution_count": 30,
   "outputs": [],
   "source": [
    "df['kmeans_cluster'] = preds.tolist()"
   ],
   "metadata": {
    "collapsed": false,
    "pycharm": {
     "name": "#%%\n"
    }
   }
  },
  {
   "cell_type": "code",
   "execution_count": 31,
   "outputs": [],
   "source": [
    "df.to_csv('../.cache/train_val.csv')"
   ],
   "metadata": {
    "collapsed": false,
    "pycharm": {
     "name": "#%%\n"
    }
   }
  },
  {
   "cell_type": "code",
   "execution_count": 103,
   "outputs": [],
   "source": [
    "df = pd.read_csv('../.cache/train_val.csv', index_col=0)"
   ],
   "metadata": {
    "collapsed": false,
    "pycharm": {
     "name": "#%%\n"
    }
   }
  },
  {
   "cell_type": "code",
   "execution_count": 104,
   "outputs": [
    {
     "data": {
      "text/plain": "     peptide  length          HLA  label                        HLA_sequence  \\\n0  FLTGTFVTA       9  HLA-A*24:02      0  YSAMYEEKVAHTDENIAYLMFHYYTWAVQAYTGY   \n1  HRKVMSQNF       9  HLA-B*27:05      1  YHTEYREICAKTDEDTLYLNYHDYTWAVLAYEWY   \n2  VMDKYILDN       9  HLA-B*44:03      0  YYTKYREISTNTYENTAYIRYDDYTWAVLAYLSY   \n3  MTFDGEVKT       9  HLA-B*15:01      0  YYAMYREISTNTYESNLYLRYDSYTWAEWAYLWY   \n4  CLLTPGVQG       9  HLA-A*03:01      0  YFAMYQENVAQTDVDTLYIIYRDYTWAELAYTWY   \n\n   kmeans_cluster  \n0              44  \n1             300  \n2             692  \n3             356  \n4             664  ",
      "text/html": "<div>\n<style scoped>\n    .dataframe tbody tr th:only-of-type {\n        vertical-align: middle;\n    }\n\n    .dataframe tbody tr th {\n        vertical-align: top;\n    }\n\n    .dataframe thead th {\n        text-align: right;\n    }\n</style>\n<table border=\"1\" class=\"dataframe\">\n  <thead>\n    <tr style=\"text-align: right;\">\n      <th></th>\n      <th>peptide</th>\n      <th>length</th>\n      <th>HLA</th>\n      <th>label</th>\n      <th>HLA_sequence</th>\n      <th>kmeans_cluster</th>\n    </tr>\n  </thead>\n  <tbody>\n    <tr>\n      <th>0</th>\n      <td>FLTGTFVTA</td>\n      <td>9</td>\n      <td>HLA-A*24:02</td>\n      <td>0</td>\n      <td>YSAMYEEKVAHTDENIAYLMFHYYTWAVQAYTGY</td>\n      <td>44</td>\n    </tr>\n    <tr>\n      <th>1</th>\n      <td>HRKVMSQNF</td>\n      <td>9</td>\n      <td>HLA-B*27:05</td>\n      <td>1</td>\n      <td>YHTEYREICAKTDEDTLYLNYHDYTWAVLAYEWY</td>\n      <td>300</td>\n    </tr>\n    <tr>\n      <th>2</th>\n      <td>VMDKYILDN</td>\n      <td>9</td>\n      <td>HLA-B*44:03</td>\n      <td>0</td>\n      <td>YYTKYREISTNTYENTAYIRYDDYTWAVLAYLSY</td>\n      <td>692</td>\n    </tr>\n    <tr>\n      <th>3</th>\n      <td>MTFDGEVKT</td>\n      <td>9</td>\n      <td>HLA-B*15:01</td>\n      <td>0</td>\n      <td>YYAMYREISTNTYESNLYLRYDSYTWAEWAYLWY</td>\n      <td>356</td>\n    </tr>\n    <tr>\n      <th>4</th>\n      <td>CLLTPGVQG</td>\n      <td>9</td>\n      <td>HLA-A*03:01</td>\n      <td>0</td>\n      <td>YFAMYQENVAQTDVDTLYIIYRDYTWAELAYTWY</td>\n      <td>664</td>\n    </tr>\n  </tbody>\n</table>\n</div>"
     },
     "execution_count": 104,
     "metadata": {},
     "output_type": "execute_result"
    }
   ],
   "source": [
    "df.head()"
   ],
   "metadata": {
    "collapsed": false,
    "pycharm": {
     "name": "#%%\n"
    }
   }
  },
  {
   "cell_type": "code",
   "execution_count": 111,
   "outputs": [
    {
     "data": {
      "text/plain": "  0%|          | 0/1000 [00:00<?, ?it/s]",
      "application/vnd.jupyter.widget-view+json": {
       "version_major": 2,
       "version_minor": 0,
       "model_id": "3845a3201fda4db49225c53d5670d92f"
      }
     },
     "metadata": {},
     "output_type": "display_data"
    }
   ],
   "source": [
    "from sklearn.utils import shuffle\n",
    "from tqdm.auto import trange\n",
    "train_sets = []\n",
    "val_sets = []\n",
    "for i in trange(1000):\n",
    "    bool = df['kmeans_cluster'] == i\n",
    "    n = bool.sum()\n",
    "    sep = int(n*0.1)\n",
    "    ids_shuffled = shuffle(np.arange(n), random_state=42)\n",
    "    val_set_ids = ids_shuffled[:sep]\n",
    "    train_set_ids = ids_shuffled[sep:]\n",
    "    val_sets.append(df[bool].iloc[val_set_ids,])\n",
    "    train_sets.append(df[bool].iloc[train_set_ids,])"
   ],
   "metadata": {
    "collapsed": false,
    "pycharm": {
     "name": "#%%\n"
    }
   }
  },
  {
   "cell_type": "code",
   "execution_count": 112,
   "outputs": [],
   "source": [
    "new_train_df = pd.concat(train_sets)\n",
    "new_val_df = pd.concat(val_sets)"
   ],
   "metadata": {
    "collapsed": false,
    "pycharm": {
     "name": "#%%\n"
    }
   }
  },
  {
   "cell_type": "code",
   "execution_count": 113,
   "outputs": [
    {
     "data": {
      "text/plain": "(71387, 646945)"
     },
     "execution_count": 113,
     "metadata": {},
     "output_type": "execute_result"
    }
   ],
   "source": [
    "len(new_val_df), len(new_train_df)"
   ],
   "metadata": {
    "collapsed": false,
    "pycharm": {
     "name": "#%%\n"
    }
   }
  },
  {
   "cell_type": "code",
   "execution_count": 116,
   "outputs": [],
   "source": [
    "new_train_df.to_csv(new_train_path)\n",
    "new_val_df.to_csv(new_val_path)"
   ],
   "metadata": {
    "collapsed": false,
    "pycharm": {
     "name": "#%%\n"
    }
   }
  },
  {
   "cell_type": "code",
   "execution_count": 117,
   "outputs": [
    {
     "name": "stdout",
     "output_type": "stream",
     "text": [
      "标签 0 比例为: 50.00%, 个数为: 323494\n",
      "标签 1 比例为: 50.00%, 个数为: 323451\n",
      "标签 1 比例为: 50.03%, 个数为: 35715\n",
      "标签 0 比例为: 49.97%, 个数为: 35672\n"
     ]
    }
   ],
   "source": [
    "from src.tools.my_pandas import show_ratio\n",
    "\n",
    "show_ratio(new_train_df, 'label')\n",
    "show_ratio(new_val_df, 'label')"
   ],
   "metadata": {
    "collapsed": false,
    "pycharm": {
     "name": "#%%\n"
    }
   }
  },
  {
   "cell_type": "code",
   "execution_count": null,
   "outputs": [],
   "source": [],
   "metadata": {
    "collapsed": false,
    "pycharm": {
     "name": "#%%\n"
    }
   }
  }
 ],
 "metadata": {
  "kernelspec": {
   "display_name": "Python 3",
   "language": "python",
   "name": "python3"
  },
  "language_info": {
   "codemirror_mode": {
    "name": "ipython",
    "version": 2
   },
   "file_extension": ".py",
   "mimetype": "text/x-python",
   "name": "python",
   "nbconvert_exporter": "python",
   "pygments_lexer": "ipython2",
   "version": "2.7.6"
  }
 },
 "nbformat": 4,
 "nbformat_minor": 0
}
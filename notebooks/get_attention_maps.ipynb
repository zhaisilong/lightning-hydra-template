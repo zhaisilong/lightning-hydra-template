{
 "cells": [
  {
   "cell_type": "code",
   "execution_count": 1,
   "metadata": {
    "collapsed": true,
    "pycharm": {
     "name": "#%%\n"
    }
   },
   "outputs": [],
   "source": [
    "import os\n",
    "import torch\n",
    "from src.models.reverse_module import ReversePredictor\n",
    "from src.utils.plots import plot_attention_maps\n",
    "from src.datamodules.reverse_datamodule import ReverseDataModule\n",
    "import torch.nn.functional as F"
   ]
  },
  {
   "cell_type": "code",
   "execution_count": 2,
   "outputs": [],
   "source": [
    "CHECKPOINT_PATH = '../logs/experiments/runs/reverse_transformer/2022-04-14_19-29-54/checkpoints/epoch=4-step=1950.ckpt'\n",
    "device = device = torch.device(\"cuda:0\") if torch.cuda.is_available() else torch.device(\"cpu\")"
   ],
   "metadata": {
    "collapsed": false,
    "pycharm": {
     "name": "#%%\n"
    }
   }
  },
  {
   "cell_type": "code",
   "execution_count": 5,
   "outputs": [
    {
     "name": "stdout",
     "output_type": "stream",
     "text": [
      "device cuda:0\n"
     ]
    }
   ],
   "source": [
    "print('device', device)"
   ],
   "metadata": {
    "collapsed": false,
    "pycharm": {
     "name": "#%%\n"
    }
   }
  },
  {
   "cell_type": "code",
   "execution_count": 3,
   "outputs": [],
   "source": [
    "reverse_model = ReversePredictor.load_from_checkpoint(CHECKPOINT_PATH)\n",
    "reverse_dm = ReverseDataModule()\n",
    "reverse_dm.prepare_data()\n",
    "test_dataloader = reverse_dm.test_dataloader()\n",
    "# We plot a map for one item\n",
    "data_input, labels = next(iter(test_dataloader))\n",
    "inp_data = F.one_hot(data_input, num_classes=reverse_dm.num_classes).float()\n",
    "inp_data = inp_data.to(device)"
   ],
   "metadata": {
    "collapsed": false,
    "pycharm": {
     "name": "#%%\n"
    }
   }
  },
  {
   "cell_type": "code",
   "execution_count": 7,
   "outputs": [
    {
     "data": {
      "text/plain": "ReversePredictor(\n  (input_net): Sequential(\n    (0): Dropout(p=0.0, inplace=False)\n    (1): Linear(in_features=10, out_features=32, bias=True)\n  )\n  (positional_encoding): PositionalEncoding()\n  (transformer): TransformerEncoder(\n    (layers): ModuleList(\n      (0): EncoderBlock(\n        (self_attn): MultiheadAttention(\n          (qkv_proj): Linear(in_features=32, out_features=96, bias=True)\n          (o_proj): Linear(in_features=32, out_features=32, bias=True)\n        )\n        (linear_net): Sequential(\n          (0): Linear(in_features=32, out_features=64, bias=True)\n          (1): Dropout(p=0.0, inplace=False)\n          (2): ReLU(inplace=True)\n          (3): Linear(in_features=64, out_features=32, bias=True)\n        )\n        (norm1): LayerNorm((32,), eps=1e-05, elementwise_affine=True)\n        (norm2): LayerNorm((32,), eps=1e-05, elementwise_affine=True)\n        (dropout): Dropout(p=0.0, inplace=False)\n      )\n    )\n  )\n  (output_net): Sequential(\n    (0): Linear(in_features=32, out_features=32, bias=True)\n    (1): LayerNorm((32,), eps=1e-05, elementwise_affine=True)\n    (2): ReLU(inplace=True)\n    (3): Dropout(p=0.0, inplace=False)\n    (4): Linear(in_features=32, out_features=10, bias=True)\n  )\n)"
     },
     "execution_count": 7,
     "metadata": {},
     "output_type": "execute_result"
    }
   ],
   "source": [
    "reverse_model.to(device)  # model also need to push to device"
   ],
   "metadata": {
    "collapsed": false,
    "pycharm": {
     "name": "#%%\n"
    }
   }
  },
  {
   "cell_type": "code",
   "execution_count": 8,
   "outputs": [],
   "source": [
    "attention_maps = reverse_model.get_attention_maps(inp_data)"
   ],
   "metadata": {
    "collapsed": false,
    "pycharm": {
     "name": "#%%\n"
    }
   }
  },
  {
   "cell_type": "code",
   "execution_count": 18,
   "outputs": [
    {
     "data": {
      "text/plain": "torch.Size([128, 1, 16, 16])"
     },
     "execution_count": 18,
     "metadata": {},
     "output_type": "execute_result"
    }
   ],
   "source": [
    "attention_maps[0].shape  # List[Tensor] with n_head equals to 1"
   ],
   "metadata": {
    "collapsed": false,
    "pycharm": {
     "name": "#%%\n"
    }
   }
  },
  {
   "cell_type": "code",
   "execution_count": 13,
   "outputs": [
    {
     "data": {
      "text/plain": "<Figure size 288x288 with 1 Axes>",
      "image/png": "[encoded data removed]"
     },
     "metadata": {
      "needs_background": "light"
     },
     "output_type": "display_data"
    }
   ],
   "source": [
    "plot_attention_maps(data_input, attention_maps, idx=0)"
   ],
   "metadata": {
    "collapsed": false,
    "pycharm": {
     "name": "#%%\n"
    }
   }
  }
 ],
 "metadata": {
  "kernelspec": {
   "display_name": "Python 3",
   "language": "python",
   "name": "python3"
  },
  "language_info": {
   "codemirror_mode": {
    "name": "ipython",
    "version": 2
   },
   "file_extension": ".py",
   "mimetype": "text/x-python",
   "name": "python",
   "nbconvert_exporter": "python",
   "pygments_lexer": "ipython2",
   "version": "2.7.6"
  }
 },
 "nbformat": 4,
 "nbformat_minor": 0
}